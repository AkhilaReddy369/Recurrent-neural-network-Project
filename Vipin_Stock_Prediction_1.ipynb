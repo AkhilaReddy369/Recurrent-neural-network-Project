{
  "cells": [
    {
      "cell_type": "markdown",
      "id": "ba0efd83",
      "metadata": {
        "id": "ba0efd83"
      },
      "source": [
        "<h3>Import Basic Libraries</h3>"
      ]
    },
    {
      "cell_type": "code",
      "execution_count": null,
      "id": "622f8ab7",
      "metadata": {
        "id": "622f8ab7"
      },
      "outputs": [],
      "source": [
        "# Import basic libraries\n",
        "\n",
        "import pandas as pd\n",
        "import numpy as np\n",
        "%matplotlib inline\n",
        "import matplotlib.pyplot as plt"
      ]
    },
    {
      "cell_type": "code",
      "execution_count": null,
      "id": "4cf4238d",
      "metadata": {
        "id": "4cf4238d"
      },
      "outputs": [],
      "source": [
        "# Import libraries required for timeseries RNN LSTM neural network\n",
        "\n",
        "from tensorflow.keras.models import Sequential\n",
        "from tensorflow.keras.layers import LSTM\n",
        "from tensorflow.keras.layers import Dropout\n",
        "from tensorflow.keras.layers import Dense"
      ]
    },
    {
      "cell_type": "code",
      "execution_count": null,
      "id": "1494972e",
      "metadata": {
        "id": "1494972e"
      },
      "outputs": [],
      "source": [
        "# Import KERAS:TimeseriesGenerator\n",
        "# This class produces time series batches used on training/testing the model\n",
        "\n",
        "from tensorflow.keras.preprocessing.sequence import TimeseriesGenerator\n",
        "\n",
        "# Import KERAS:MinMaxScaler\n",
        "# This class is used to preprocess (scale) the data\n",
        "\n",
        "from sklearn.preprocessing import MinMaxScaler"
      ]
    },
    {
      "cell_type": "markdown",
      "id": "215add56",
      "metadata": {
        "id": "215add56"
      },
      "source": [
        "<h3>Data Set: Walmart Inc. (WMT); Time Period:Jan 1, 2020 - Feb 28, 2022</h3>"
      ]
    },
    {
      "cell_type": "code",
      "execution_count": null,
      "id": "df685def",
      "metadata": {
        "id": "df685def"
      },
      "outputs": [],
      "source": [
        "# Selecting the dataset\n",
        "dataset_path = \"D:\\Downloads\\WMT-01012020-02282022.csv\""
      ]
    },
    {
      "cell_type": "code",
      "execution_count": null,
      "id": "15cceec4",
      "metadata": {
        "id": "15cceec4"
      },
      "outputs": [],
      "source": [
        "# Creating a dataframe called df_ALL\n",
        "\n",
        "df_ALL = pd.read_csv(dataset_path)"
      ]
    },
    {
      "cell_type": "code",
      "execution_count": null,
      "id": "6c9b808e",
      "metadata": {
        "id": "6c9b808e",
        "outputId": "cf16b27d-991f-4026-81ed-ebfa785882e9"
      },
      "outputs": [
        {
          "data": {
            "text/html": [
              "<div>\n",
              "<style scoped>\n",
              "    .dataframe tbody tr th:only-of-type {\n",
              "        vertical-align: middle;\n",
              "    }\n",
              "\n",
              "    .dataframe tbody tr th {\n",
              "        vertical-align: top;\n",
              "    }\n",
              "\n",
              "    .dataframe thead th {\n",
              "        text-align: right;\n",
              "    }\n",
              "</style>\n",
              "<table border=\"1\" class=\"dataframe\">\n",
              "  <thead>\n",
              "    <tr style=\"text-align: right;\">\n",
              "      <th></th>\n",
              "      <th>Date</th>\n",
              "      <th>Open</th>\n",
              "      <th>High</th>\n",
              "      <th>Low</th>\n",
              "      <th>Close</th>\n",
              "      <th>Adj Close</th>\n",
              "      <th>Volume</th>\n",
              "    </tr>\n",
              "  </thead>\n",
              "  <tbody>\n",
              "    <tr>\n",
              "      <th>0</th>\n",
              "      <td>2020-01-02</td>\n",
              "      <td>118.860001</td>\n",
              "      <td>119.889999</td>\n",
              "      <td>118.699997</td>\n",
              "      <td>118.940002</td>\n",
              "      <td>112.910896</td>\n",
              "      <td>6764900</td>\n",
              "    </tr>\n",
              "    <tr>\n",
              "      <th>1</th>\n",
              "      <td>2020-01-03</td>\n",
              "      <td>118.269997</td>\n",
              "      <td>118.790001</td>\n",
              "      <td>117.589996</td>\n",
              "      <td>117.889999</td>\n",
              "      <td>111.914124</td>\n",
              "      <td>5399200</td>\n",
              "    </tr>\n",
              "    <tr>\n",
              "      <th>2</th>\n",
              "      <td>2020-01-06</td>\n",
              "      <td>117.400002</td>\n",
              "      <td>118.089996</td>\n",
              "      <td>116.769997</td>\n",
              "      <td>117.650002</td>\n",
              "      <td>111.686272</td>\n",
              "      <td>6445500</td>\n",
              "    </tr>\n",
              "    <tr>\n",
              "      <th>3</th>\n",
              "      <td>2020-01-07</td>\n",
              "      <td>117.260002</td>\n",
              "      <td>117.519997</td>\n",
              "      <td>116.199997</td>\n",
              "      <td>116.559998</td>\n",
              "      <td>110.651520</td>\n",
              "      <td>6846900</td>\n",
              "    </tr>\n",
              "    <tr>\n",
              "      <th>4</th>\n",
              "      <td>2020-01-08</td>\n",
              "      <td>116.300003</td>\n",
              "      <td>116.730003</td>\n",
              "      <td>115.680000</td>\n",
              "      <td>116.160004</td>\n",
              "      <td>110.271812</td>\n",
              "      <td>5875800</td>\n",
              "    </tr>\n",
              "  </tbody>\n",
              "</table>\n",
              "</div>"
            ],
            "text/plain": [
              "         Date        Open        High         Low       Close   Adj Close  \\\n",
              "0  2020-01-02  118.860001  119.889999  118.699997  118.940002  112.910896   \n",
              "1  2020-01-03  118.269997  118.790001  117.589996  117.889999  111.914124   \n",
              "2  2020-01-06  117.400002  118.089996  116.769997  117.650002  111.686272   \n",
              "3  2020-01-07  117.260002  117.519997  116.199997  116.559998  110.651520   \n",
              "4  2020-01-08  116.300003  116.730003  115.680000  116.160004  110.271812   \n",
              "\n",
              "    Volume  \n",
              "0  6764900  \n",
              "1  5399200  \n",
              "2  6445500  \n",
              "3  6846900  \n",
              "4  5875800  "
            ]
          },
          "execution_count": 6,
          "metadata": {},
          "output_type": "execute_result"
        }
      ],
      "source": [
        "# Load the first five rows\n",
        "\n",
        "df_ALL.head()"
      ]
    },
    {
      "cell_type": "markdown",
      "id": "406ea5bb",
      "metadata": {
        "id": "406ea5bb"
      },
      "source": [
        "<h3>Exploratory Data Analysis (EDA)</h3>"
      ]
    },
    {
      "cell_type": "code",
      "execution_count": null,
      "id": "7b480306",
      "metadata": {
        "id": "7b480306",
        "outputId": "5c362a57-6f68-4c98-8aee-6228d6cf2f73"
      },
      "outputs": [
        {
          "data": {
            "text/plain": [
              "(544, 7)"
            ]
          },
          "execution_count": 7,
          "metadata": {},
          "output_type": "execute_result"
        }
      ],
      "source": [
        "# Count Variables and data points\n",
        "\n",
        "df_ALL.shape"
      ]
    },
    {
      "cell_type": "code",
      "execution_count": null,
      "id": "7a9f3cac",
      "metadata": {
        "id": "7a9f3cac",
        "outputId": "4979fab2-c156-4898-e394-d0d5b0347c74"
      },
      "outputs": [
        {
          "data": {
            "text/plain": [
              "Date          object\n",
              "Open         float64\n",
              "High         float64\n",
              "Low          float64\n",
              "Close        float64\n",
              "Adj Close    float64\n",
              "Volume         int64\n",
              "dtype: object"
            ]
          },
          "execution_count": 8,
          "metadata": {},
          "output_type": "execute_result"
        }
      ],
      "source": [
        "# Identify the data types of variables\n",
        "\n",
        "df_ALL.dtypes"
      ]
    },
    {
      "cell_type": "code",
      "execution_count": null,
      "id": "ab3f2444",
      "metadata": {
        "id": "ab3f2444",
        "outputId": "21fcf5ff-b2bf-4d84-fc7b-4c2d65cb96f5"
      },
      "outputs": [
        {
          "data": {
            "text/html": [
              "<div>\n",
              "<style scoped>\n",
              "    .dataframe tbody tr th:only-of-type {\n",
              "        vertical-align: middle;\n",
              "    }\n",
              "\n",
              "    .dataframe tbody tr th {\n",
              "        vertical-align: top;\n",
              "    }\n",
              "\n",
              "    .dataframe thead th {\n",
              "        text-align: right;\n",
              "    }\n",
              "</style>\n",
              "<table border=\"1\" class=\"dataframe\">\n",
              "  <thead>\n",
              "    <tr style=\"text-align: right;\">\n",
              "      <th></th>\n",
              "      <th>Open</th>\n",
              "      <th>High</th>\n",
              "      <th>Low</th>\n",
              "      <th>Close</th>\n",
              "      <th>Adj Close</th>\n",
              "      <th>Volume</th>\n",
              "    </tr>\n",
              "  </thead>\n",
              "  <tbody>\n",
              "    <tr>\n",
              "      <th>count</th>\n",
              "      <td>544.000000</td>\n",
              "      <td>544.000000</td>\n",
              "      <td>544.000000</td>\n",
              "      <td>544.000000</td>\n",
              "      <td>544.000000</td>\n",
              "      <td>5.440000e+02</td>\n",
              "    </tr>\n",
              "    <tr>\n",
              "      <th>mean</th>\n",
              "      <td>135.860331</td>\n",
              "      <td>137.127904</td>\n",
              "      <td>134.696930</td>\n",
              "      <td>135.890827</td>\n",
              "      <td>131.337742</td>\n",
              "      <td>8.674467e+06</td>\n",
              "    </tr>\n",
              "    <tr>\n",
              "      <th>std</th>\n",
              "      <td>10.852610</td>\n",
              "      <td>10.583810</td>\n",
              "      <td>10.990895</td>\n",
              "      <td>10.721390</td>\n",
              "      <td>11.271173</td>\n",
              "      <td>4.401072e+06</td>\n",
              "    </tr>\n",
              "    <tr>\n",
              "      <th>min</th>\n",
              "      <td>105.199997</td>\n",
              "      <td>108.519997</td>\n",
              "      <td>102.000000</td>\n",
              "      <td>104.050003</td>\n",
              "      <td>98.775673</td>\n",
              "      <td>3.018200e+06</td>\n",
              "    </tr>\n",
              "    <tr>\n",
              "      <th>25%</th>\n",
              "      <td>129.649994</td>\n",
              "      <td>130.992501</td>\n",
              "      <td>128.537499</td>\n",
              "      <td>129.737500</td>\n",
              "      <td>124.379202</td>\n",
              "      <td>6.061100e+06</td>\n",
              "    </tr>\n",
              "    <tr>\n",
              "      <th>50%</th>\n",
              "      <td>139.409996</td>\n",
              "      <td>140.375000</td>\n",
              "      <td>138.370002</td>\n",
              "      <td>139.404999</td>\n",
              "      <td>135.346908</td>\n",
              "      <td>7.307650e+06</td>\n",
              "    </tr>\n",
              "    <tr>\n",
              "      <th>75%</th>\n",
              "      <td>143.697495</td>\n",
              "      <td>145.002502</td>\n",
              "      <td>142.742504</td>\n",
              "      <td>143.825004</td>\n",
              "      <td>139.334347</td>\n",
              "      <td>9.863500e+06</td>\n",
              "    </tr>\n",
              "    <tr>\n",
              "      <th>max</th>\n",
              "      <td>153.600006</td>\n",
              "      <td>153.660004</td>\n",
              "      <td>151.660004</td>\n",
              "      <td>152.789993</td>\n",
              "      <td>147.902008</td>\n",
              "      <td>3.967290e+07</td>\n",
              "    </tr>\n",
              "  </tbody>\n",
              "</table>\n",
              "</div>"
            ],
            "text/plain": [
              "             Open        High         Low       Close   Adj Close  \\\n",
              "count  544.000000  544.000000  544.000000  544.000000  544.000000   \n",
              "mean   135.860331  137.127904  134.696930  135.890827  131.337742   \n",
              "std     10.852610   10.583810   10.990895   10.721390   11.271173   \n",
              "min    105.199997  108.519997  102.000000  104.050003   98.775673   \n",
              "25%    129.649994  130.992501  128.537499  129.737500  124.379202   \n",
              "50%    139.409996  140.375000  138.370002  139.404999  135.346908   \n",
              "75%    143.697495  145.002502  142.742504  143.825004  139.334347   \n",
              "max    153.600006  153.660004  151.660004  152.789993  147.902008   \n",
              "\n",
              "             Volume  \n",
              "count  5.440000e+02  \n",
              "mean   8.674467e+06  \n",
              "std    4.401072e+06  \n",
              "min    3.018200e+06  \n",
              "25%    6.061100e+06  \n",
              "50%    7.307650e+06  \n",
              "75%    9.863500e+06  \n",
              "max    3.967290e+07  "
            ]
          },
          "execution_count": 9,
          "metadata": {},
          "output_type": "execute_result"
        }
      ],
      "source": [
        "# Summary Statistics\n",
        "\n",
        "df_ALL.describe()"
      ]
    },
    {
      "cell_type": "code",
      "execution_count": null,
      "id": "711ba7dd",
      "metadata": {
        "id": "711ba7dd"
      },
      "outputs": [],
      "source": [
        "# Select only the Closing Price for analysis\n",
        "\n",
        "df = df_ALL.iloc[:,4:5]"
      ]
    },
    {
      "cell_type": "code",
      "execution_count": null,
      "id": "d043a064",
      "metadata": {
        "id": "d043a064",
        "outputId": "c2647f35-be6f-4b7c-ae29-1786e76c35ca"
      },
      "outputs": [
        {
          "data": {
            "text/html": [
              "<div>\n",
              "<style scoped>\n",
              "    .dataframe tbody tr th:only-of-type {\n",
              "        vertical-align: middle;\n",
              "    }\n",
              "\n",
              "    .dataframe tbody tr th {\n",
              "        vertical-align: top;\n",
              "    }\n",
              "\n",
              "    .dataframe thead th {\n",
              "        text-align: right;\n",
              "    }\n",
              "</style>\n",
              "<table border=\"1\" class=\"dataframe\">\n",
              "  <thead>\n",
              "    <tr style=\"text-align: right;\">\n",
              "      <th></th>\n",
              "      <th>Close</th>\n",
              "    </tr>\n",
              "  </thead>\n",
              "  <tbody>\n",
              "    <tr>\n",
              "      <th>0</th>\n",
              "      <td>118.940002</td>\n",
              "    </tr>\n",
              "    <tr>\n",
              "      <th>1</th>\n",
              "      <td>117.889999</td>\n",
              "    </tr>\n",
              "    <tr>\n",
              "      <th>2</th>\n",
              "      <td>117.650002</td>\n",
              "    </tr>\n",
              "    <tr>\n",
              "      <th>3</th>\n",
              "      <td>116.559998</td>\n",
              "    </tr>\n",
              "    <tr>\n",
              "      <th>4</th>\n",
              "      <td>116.160004</td>\n",
              "    </tr>\n",
              "  </tbody>\n",
              "</table>\n",
              "</div>"
            ],
            "text/plain": [
              "        Close\n",
              "0  118.940002\n",
              "1  117.889999\n",
              "2  117.650002\n",
              "3  116.559998\n",
              "4  116.160004"
            ]
          },
          "execution_count": 11,
          "metadata": {},
          "output_type": "execute_result"
        }
      ],
      "source": [
        "df.head()"
      ]
    },
    {
      "cell_type": "code",
      "execution_count": null,
      "id": "b3b64acf",
      "metadata": {
        "id": "b3b64acf",
        "outputId": "0899b943-8a08-4b1c-a230-3b443eb86003"
      },
      "outputs": [
        {
          "data": {
            "text/plain": [
              "<AxesSubplot:>"
            ]
          },
          "execution_count": 12,
          "metadata": {},
          "output_type": "execute_result"
        },
        {
          "data": {
            "image/png": "[encoded data removed]",
            "text/plain": [
              "<Figure size 864x576 with 1 Axes>"
            ]
          },
          "metadata": {
            "needs_background": "light"
          },
          "output_type": "display_data"
        }
      ],
      "source": [
        "# Plot Closing Price\n",
        "\n",
        "df.plot(figsize=(12,8))"
      ]
    },
    {
      "cell_type": "markdown",
      "id": "2d753b17",
      "metadata": {
        "id": "2d753b17"
      },
      "source": [
        "<h3>Length of Input Time Series - Number of Input Time Steps</h3>"
      ]
    },
    {
      "cell_type": "code",
      "execution_count": null,
      "id": "cff0e054",
      "metadata": {
        "id": "cff0e054"
      },
      "outputs": [],
      "source": [
        "# Set the length of the input sequence\n",
        "# Here we are using 40 consecutive closing prices to predict the next one\n",
        "\n",
        "length40 = 40"
      ]
    },
    {
      "cell_type": "code",
      "execution_count": null,
      "id": "762064a2",
      "metadata": {
        "id": "762064a2",
        "outputId": "db5cc301-29e9-445b-cd92-23184a43e0dd"
      },
      "outputs": [
        {
          "data": {
            "text/plain": [
              "40"
            ]
          },
          "execution_count": 14,
          "metadata": {},
          "output_type": "execute_result"
        }
      ],
      "source": [
        "length40"
      ]
    },
    {
      "cell_type": "markdown",
      "id": "5b4c649e",
      "metadata": {
        "id": "5b4c649e"
      },
      "source": [
        "<h3>Time Series Dataset: Train/Test Split</h3>"
      ]
    },
    {
      "cell_type": "code",
      "execution_count": null,
      "id": "846cc7af",
      "metadata": {
        "id": "846cc7af",
        "outputId": "95f2a962-5377-4f43-9956-77db5ebabed5"
      },
      "outputs": [
        {
          "data": {
            "text/plain": [
              "544"
            ]
          },
          "execution_count": 15,
          "metadata": {},
          "output_type": "execute_result"
        }
      ],
      "source": [
        "len(df)"
      ]
    },
    {
      "cell_type": "code",
      "execution_count": null,
      "id": "cb67ec18",
      "metadata": {
        "id": "cb67ec18"
      },
      "outputs": [],
      "source": [
        "# Set percentage of data used for testing, 20% reserved for testing\n",
        "\n",
        "test_percent = 0.2"
      ]
    },
    {
      "cell_type": "code",
      "execution_count": null,
      "id": "6f15476c",
      "metadata": {
        "id": "6f15476c",
        "outputId": "595147ac-2a09-47a1-fa4f-b7855b1b0332"
      },
      "outputs": [
        {
          "data": {
            "text/plain": [
              "108.80000000000001"
            ]
          },
          "execution_count": 17,
          "metadata": {},
          "output_type": "execute_result"
        }
      ],
      "source": [
        "# Number of data points reserved for testing the model\n",
        "\n",
        "len(df)*test_percent"
      ]
    },
    {
      "cell_type": "code",
      "execution_count": null,
      "id": "d0f2adf8",
      "metadata": {
        "id": "d0f2adf8",
        "outputId": "0272d873-08e1-4c79-99e2-3001f862a377"
      },
      "outputs": [
        {
          "data": {
            "text/plain": [
              "109.0"
            ]
          },
          "execution_count": 18,
          "metadata": {},
          "output_type": "execute_result"
        }
      ],
      "source": [
        "# Round the test data points to the nearest decimal\n",
        "\n",
        "test_length = np.round(len(df)*test_percent)\n",
        "test_length"
      ]
    },
    {
      "cell_type": "code",
      "execution_count": null,
      "id": "da4d85a2",
      "metadata": {
        "id": "da4d85a2",
        "outputId": "354c8196-880a-448b-e410-0551744e1ae7"
      },
      "outputs": [
        {
          "data": {
            "text/plain": [
              "435"
            ]
          },
          "execution_count": 19,
          "metadata": {},
          "output_type": "execute_result"
        }
      ],
      "source": [
        "# Index of the testing data\n",
        "\n",
        "split_index = int(len(df)-test_length)\n",
        "split_index"
      ]
    },
    {
      "cell_type": "code",
      "execution_count": null,
      "id": "51ad3933",
      "metadata": {
        "id": "51ad3933"
      },
      "outputs": [],
      "source": [
        "# Training Dataset, 80% reserved for training data\n",
        "\n",
        "data_train = df.iloc[: split_index]\n",
        "\n",
        "# Testing Dataset\n",
        "# All the indicies from (split_index - length40) to the end of the dataframe\n",
        "# split_index - length40: Need the last 45 historical data points (belong to data_train) to predict the first data point of the data_test\n",
        "\n",
        "data_test = df.iloc[split_index - length40 :]\n"
      ]
    },
    {
      "cell_type": "code",
      "execution_count": null,
      "id": "6e690ba6",
      "metadata": {
        "id": "6e690ba6",
        "outputId": "f9f13efa-ee2e-421a-ebb2-ccdb7b86440c"
      },
      "outputs": [
        {
          "data": {
            "text/html": [
              "<div>\n",
              "<style scoped>\n",
              "    .dataframe tbody tr th:only-of-type {\n",
              "        vertical-align: middle;\n",
              "    }\n",
              "\n",
              "    .dataframe tbody tr th {\n",
              "        vertical-align: top;\n",
              "    }\n",
              "\n",
              "    .dataframe thead th {\n",
              "        text-align: right;\n",
              "    }\n",
              "</style>\n",
              "<table border=\"1\" class=\"dataframe\">\n",
              "  <thead>\n",
              "    <tr style=\"text-align: right;\">\n",
              "      <th></th>\n",
              "      <th>Close</th>\n",
              "    </tr>\n",
              "  </thead>\n",
              "  <tbody>\n",
              "    <tr>\n",
              "      <th>0</th>\n",
              "      <td>118.940002</td>\n",
              "    </tr>\n",
              "    <tr>\n",
              "      <th>1</th>\n",
              "      <td>117.889999</td>\n",
              "    </tr>\n",
              "    <tr>\n",
              "      <th>2</th>\n",
              "      <td>117.650002</td>\n",
              "    </tr>\n",
              "    <tr>\n",
              "      <th>3</th>\n",
              "      <td>116.559998</td>\n",
              "    </tr>\n",
              "    <tr>\n",
              "      <th>4</th>\n",
              "      <td>116.160004</td>\n",
              "    </tr>\n",
              "  </tbody>\n",
              "</table>\n",
              "</div>"
            ],
            "text/plain": [
              "        Close\n",
              "0  118.940002\n",
              "1  117.889999\n",
              "2  117.650002\n",
              "3  116.559998\n",
              "4  116.160004"
            ]
          },
          "execution_count": 21,
          "metadata": {},
          "output_type": "execute_result"
        }
      ],
      "source": [
        "#Load training data first 5 rows\n",
        "data_train.head()"
      ]
    },
    {
      "cell_type": "code",
      "execution_count": null,
      "id": "e12b7c7d",
      "metadata": {
        "id": "e12b7c7d",
        "outputId": "87b6ef32-dbd3-4fc8-bdb2-82ab8df11425"
      },
      "outputs": [
        {
          "data": {
            "text/html": [
              "<div>\n",
              "<style scoped>\n",
              "    .dataframe tbody tr th:only-of-type {\n",
              "        vertical-align: middle;\n",
              "    }\n",
              "\n",
              "    .dataframe tbody tr th {\n",
              "        vertical-align: top;\n",
              "    }\n",
              "\n",
              "    .dataframe thead th {\n",
              "        text-align: right;\n",
              "    }\n",
              "</style>\n",
              "<table border=\"1\" class=\"dataframe\">\n",
              "  <thead>\n",
              "    <tr style=\"text-align: right;\">\n",
              "      <th></th>\n",
              "      <th>Close</th>\n",
              "    </tr>\n",
              "  </thead>\n",
              "  <tbody>\n",
              "    <tr>\n",
              "      <th>430</th>\n",
              "      <td>145.029999</td>\n",
              "    </tr>\n",
              "    <tr>\n",
              "      <th>431</th>\n",
              "      <td>144.729996</td>\n",
              "    </tr>\n",
              "    <tr>\n",
              "      <th>432</th>\n",
              "      <td>142.740005</td>\n",
              "    </tr>\n",
              "    <tr>\n",
              "      <th>433</th>\n",
              "      <td>143.020004</td>\n",
              "    </tr>\n",
              "    <tr>\n",
              "      <th>434</th>\n",
              "      <td>142.690002</td>\n",
              "    </tr>\n",
              "  </tbody>\n",
              "</table>\n",
              "</div>"
            ],
            "text/plain": [
              "          Close\n",
              "430  145.029999\n",
              "431  144.729996\n",
              "432  142.740005\n",
              "433  143.020004\n",
              "434  142.690002"
            ]
          },
          "execution_count": 22,
          "metadata": {},
          "output_type": "execute_result"
        }
      ],
      "source": [
        "#Load training data last 5 rows\n",
        "data_train.tail()"
      ]
    },
    {
      "cell_type": "code",
      "execution_count": null,
      "id": "b259b479",
      "metadata": {
        "id": "b259b479",
        "outputId": "b14868bb-e44b-4c39-9104-9ed320a8decd"
      },
      "outputs": [
        {
          "data": {
            "text/html": [
              "<div>\n",
              "<style scoped>\n",
              "    .dataframe tbody tr th:only-of-type {\n",
              "        vertical-align: middle;\n",
              "    }\n",
              "\n",
              "    .dataframe tbody tr th {\n",
              "        vertical-align: top;\n",
              "    }\n",
              "\n",
              "    .dataframe thead th {\n",
              "        text-align: right;\n",
              "    }\n",
              "</style>\n",
              "<table border=\"1\" class=\"dataframe\">\n",
              "  <thead>\n",
              "    <tr style=\"text-align: right;\">\n",
              "      <th></th>\n",
              "      <th>Close</th>\n",
              "    </tr>\n",
              "  </thead>\n",
              "  <tbody>\n",
              "    <tr>\n",
              "      <th>395</th>\n",
              "      <td>142.059998</td>\n",
              "    </tr>\n",
              "    <tr>\n",
              "      <th>396</th>\n",
              "      <td>142.240005</td>\n",
              "    </tr>\n",
              "    <tr>\n",
              "      <th>397</th>\n",
              "      <td>142.550003</td>\n",
              "    </tr>\n",
              "    <tr>\n",
              "      <th>398</th>\n",
              "      <td>142.220001</td>\n",
              "    </tr>\n",
              "    <tr>\n",
              "      <th>399</th>\n",
              "      <td>143.820007</td>\n",
              "    </tr>\n",
              "  </tbody>\n",
              "</table>\n",
              "</div>"
            ],
            "text/plain": [
              "          Close\n",
              "395  142.059998\n",
              "396  142.240005\n",
              "397  142.550003\n",
              "398  142.220001\n",
              "399  143.820007"
            ]
          },
          "execution_count": 23,
          "metadata": {},
          "output_type": "execute_result"
        }
      ],
      "source": [
        "#Load testing data first 5 rows\n",
        "data_test.head()"
      ]
    },
    {
      "cell_type": "code",
      "execution_count": null,
      "id": "3b6a9483",
      "metadata": {
        "id": "3b6a9483",
        "outputId": "f85af40d-0d41-47d2-d300-3d7d6a0ceab2"
      },
      "outputs": [
        {
          "data": {
            "text/html": [
              "<div>\n",
              "<style scoped>\n",
              "    .dataframe tbody tr th:only-of-type {\n",
              "        vertical-align: middle;\n",
              "    }\n",
              "\n",
              "    .dataframe tbody tr th {\n",
              "        vertical-align: top;\n",
              "    }\n",
              "\n",
              "    .dataframe thead th {\n",
              "        text-align: right;\n",
              "    }\n",
              "</style>\n",
              "<table border=\"1\" class=\"dataframe\">\n",
              "  <thead>\n",
              "    <tr style=\"text-align: right;\">\n",
              "      <th></th>\n",
              "      <th>Close</th>\n",
              "    </tr>\n",
              "  </thead>\n",
              "  <tbody>\n",
              "    <tr>\n",
              "      <th>539</th>\n",
              "      <td>136.449997</td>\n",
              "    </tr>\n",
              "    <tr>\n",
              "      <th>540</th>\n",
              "      <td>135.050003</td>\n",
              "    </tr>\n",
              "    <tr>\n",
              "      <th>541</th>\n",
              "      <td>134.529999</td>\n",
              "    </tr>\n",
              "    <tr>\n",
              "      <th>542</th>\n",
              "      <td>136.380005</td>\n",
              "    </tr>\n",
              "    <tr>\n",
              "      <th>543</th>\n",
              "      <td>135.160004</td>\n",
              "    </tr>\n",
              "  </tbody>\n",
              "</table>\n",
              "</div>"
            ],
            "text/plain": [
              "          Close\n",
              "539  136.449997\n",
              "540  135.050003\n",
              "541  134.529999\n",
              "542  136.380005\n",
              "543  135.160004"
            ]
          },
          "execution_count": 24,
          "metadata": {},
          "output_type": "execute_result"
        }
      ],
      "source": [
        "#Load testing data last 5 rows\n",
        "data_test.tail()"
      ]
    },
    {
      "cell_type": "markdown",
      "id": "a78a8267",
      "metadata": {
        "id": "a78a8267"
      },
      "source": [
        "<h3>Normalize Data (Scale it into the range [0, 1])</h3>"
      ]
    },
    {
      "cell_type": "code",
      "execution_count": null,
      "id": "473c253c",
      "metadata": {
        "id": "473c253c"
      },
      "outputs": [],
      "source": [
        "# Create a MinMaxScaler to normalize the data\n",
        "\n",
        "scaler = MinMaxScaler()"
      ]
    },
    {
      "cell_type": "code",
      "execution_count": null,
      "id": "e3b6611d",
      "metadata": {
        "id": "e3b6611d",
        "outputId": "9f9cbd53-2df0-40c2-ecc0-1d3085e3bf65"
      },
      "outputs": [
        {
          "data": {
            "text/plain": [
              "MinMaxScaler()"
            ]
          },
          "execution_count": 26,
          "metadata": {},
          "output_type": "execute_result"
        }
      ],
      "source": [
        "# Train the scaler to perform the normalization (for training data only)\n",
        "\n",
        "scaler.fit(data_train)"
      ]
    },
    {
      "cell_type": "code",
      "execution_count": null,
      "id": "76039fb4",
      "metadata": {
        "id": "76039fb4"
      },
      "outputs": [],
      "source": [
        "# Normalize the training dataset\n",
        "\n",
        "normalized_train = scaler.transform(data_train)\n",
        "\n",
        "# Normalize the testing dataset\n",
        "\n",
        "normalized_test = scaler.transform(data_test)"
      ]
    },
    {
      "cell_type": "markdown",
      "id": "e29900f8",
      "metadata": {
        "id": "e29900f8"
      },
      "source": [
        "<h3>Create TimeseriesGenerator for Training</h3>"
      ]
    },
    {
      "cell_type": "code",
      "execution_count": null,
      "id": "dde6b8f2",
      "metadata": {
        "id": "dde6b8f2"
      },
      "outputs": [],
      "source": [
        "# TimeseriesGenerator: Generate Time Series batches for training/testing\n",
        "# Length is 45\n",
        "# Batch size: Number of time series samples in each batch\n",
        "\n",
        "batch_size22 = 22\n",
        "\n",
        "# Creating a TimeseriesGenerator for Training\n",
        "\n",
        "train_tsGenerator45 = TimeseriesGenerator(normalized_train, normalized_train, length=length40, batch_size=batch_size22)"
      ]
    },
    {
      "cell_type": "code",
      "execution_count": null,
      "id": "c874dabe",
      "metadata": {
        "id": "c874dabe",
        "outputId": "98668191-8c47-4b65-9760-1dca02bdb91d"
      },
      "outputs": [
        {
          "data": {
            "text/plain": [
              "435"
            ]
          },
          "execution_count": 29,
          "metadata": {},
          "output_type": "execute_result"
        }
      ],
      "source": [
        "# Length of the normalized training dataset\n",
        "\n",
        "len(normalized_train)"
      ]
    },
    {
      "cell_type": "code",
      "execution_count": null,
      "id": "ff8160fd",
      "metadata": {
        "id": "ff8160fd",
        "outputId": "7adf4852-19e5-4367-913c-a58d784bd4b0"
      },
      "outputs": [
        {
          "data": {
            "text/plain": [
              "18"
            ]
          },
          "execution_count": 30,
          "metadata": {},
          "output_type": "execute_result"
        }
      ],
      "source": [
        "len(train_tsGenerator45)"
      ]
    },
    {
      "cell_type": "code",
      "execution_count": null,
      "id": "c056ccf8",
      "metadata": {
        "id": "c056ccf8"
      },
      "outputs": [],
      "source": [
        "# Check the first batch\n",
        "\n",
        "X,y = train_tsGenerator45[0]"
      ]
    },
    {
      "cell_type": "code",
      "execution_count": null,
      "id": "9fa80e79",
      "metadata": {
        "id": "9fa80e79",
        "outputId": "91c3d795-e78a-4953-96ab-36e29e37ec6d"
      },
      "outputs": [
        {
          "name": "stdout",
          "output_type": "stream",
          "text": [
            "[[[0.30549861]\n",
            "  [0.28395566]\n",
            "  [0.27903163]\n",
            "  [0.25666798]\n",
            "  [0.24846129]\n",
            "  [0.27308167]\n",
            "  [0.2529749 ]\n",
            "  [0.24271638]\n",
            "  [0.24887155]\n",
            "  [0.2304062 ]\n",
            "  [0.24312682]\n",
            "  [0.22384075]\n",
            "  [0.23676642]\n",
            "  [0.24723015]\n",
            "  [0.24128021]\n",
            "  [0.21173578]\n",
            "  [0.24230612]\n",
            "  [0.25748867]\n",
            "  [0.24292159]\n",
            "  [0.25707841]\n",
            "  [0.21419773]\n",
            "  [0.20968396]\n",
            "  [0.23020099]\n",
            "  [0.26179724]\n",
            "  [0.25153873]\n",
            "  [0.25441109]\n",
            "  [0.22979071]\n",
            "  [0.23286831]\n",
            "  [0.24210089]\n",
            "  [0.27472306]\n",
            "  [0.28395566]\n",
            "  [0.31965526]\n",
            "  [0.2796471 ]\n",
            "  [0.27985231]\n",
            "  [0.29811247]\n",
            "  [0.25174394]\n",
            "  [0.21214604]\n",
            "  [0.19963065]\n",
            "  [0.13028314]\n",
            "  [0.07447677]]\n",
            "\n",
            " [[0.28395566]\n",
            "  [0.27903163]\n",
            "  [0.25666798]\n",
            "  [0.24846129]\n",
            "  [0.27308167]\n",
            "  [0.2529749 ]\n",
            "  [0.24271638]\n",
            "  [0.24887155]\n",
            "  [0.2304062 ]\n",
            "  [0.24312682]\n",
            "  [0.22384075]\n",
            "  [0.23676642]\n",
            "  [0.24723015]\n",
            "  [0.24128021]\n",
            "  [0.21173578]\n",
            "  [0.24230612]\n",
            "  [0.25748867]\n",
            "  [0.24292159]\n",
            "  [0.25707841]\n",
            "  [0.21419773]\n",
            "  [0.20968396]\n",
            "  [0.23020099]\n",
            "  [0.26179724]\n",
            "  [0.25153873]\n",
            "  [0.25441109]\n",
            "  [0.22979071]\n",
            "  [0.23286831]\n",
            "  [0.24210089]\n",
            "  [0.27472306]\n",
            "  [0.28395566]\n",
            "  [0.31965526]\n",
            "  [0.2796471 ]\n",
            "  [0.27985231]\n",
            "  [0.29811247]\n",
            "  [0.25174394]\n",
            "  [0.21214604]\n",
            "  [0.19963065]\n",
            "  [0.13028314]\n",
            "  [0.07447677]\n",
            "  [0.24271638]]\n",
            "\n",
            " [[0.27903163]\n",
            "  [0.25666798]\n",
            "  [0.24846129]\n",
            "  [0.27308167]\n",
            "  [0.2529749 ]\n",
            "  [0.24271638]\n",
            "  [0.24887155]\n",
            "  [0.2304062 ]\n",
            "  [0.24312682]\n",
            "  [0.22384075]\n",
            "  [0.23676642]\n",
            "  [0.24723015]\n",
            "  [0.24128021]\n",
            "  [0.21173578]\n",
            "  [0.24230612]\n",
            "  [0.25748867]\n",
            "  [0.24292159]\n",
            "  [0.25707841]\n",
            "  [0.21419773]\n",
            "  [0.20968396]\n",
            "  [0.23020099]\n",
            "  [0.26179724]\n",
            "  [0.25153873]\n",
            "  [0.25441109]\n",
            "  [0.22979071]\n",
            "  [0.23286831]\n",
            "  [0.24210089]\n",
            "  [0.27472306]\n",
            "  [0.28395566]\n",
            "  [0.31965526]\n",
            "  [0.2796471 ]\n",
            "  [0.27985231]\n",
            "  [0.29811247]\n",
            "  [0.25174394]\n",
            "  [0.21214604]\n",
            "  [0.19963065]\n",
            "  [0.13028314]\n",
            "  [0.07447677]\n",
            "  [0.24271638]\n",
            "  [0.18178094]]\n",
            "\n",
            " [[0.25666798]\n",
            "  [0.24846129]\n",
            "  [0.27308167]\n",
            "  [0.2529749 ]\n",
            "  [0.24271638]\n",
            "  [0.24887155]\n",
            "  [0.2304062 ]\n",
            "  [0.24312682]\n",
            "  [0.22384075]\n",
            "  [0.23676642]\n",
            "  [0.24723015]\n",
            "  [0.24128021]\n",
            "  [0.21173578]\n",
            "  [0.24230612]\n",
            "  [0.25748867]\n",
            "  [0.24292159]\n",
            "  [0.25707841]\n",
            "  [0.21419773]\n",
            "  [0.20968396]\n",
            "  [0.23020099]\n",
            "  [0.26179724]\n",
            "  [0.25153873]\n",
            "  [0.25441109]\n",
            "  [0.22979071]\n",
            "  [0.23286831]\n",
            "  [0.24210089]\n",
            "  [0.27472306]\n",
            "  [0.28395566]\n",
            "  [0.31965526]\n",
            "  [0.2796471 ]\n",
            "  [0.27985231]\n",
            "  [0.29811247]\n",
            "  [0.25174394]\n",
            "  [0.21214604]\n",
            "  [0.19963065]\n",
            "  [0.13028314]\n",
            "  [0.07447677]\n",
            "  [0.24271638]\n",
            "  [0.18178094]\n",
            "  [0.26097654]]\n",
            "\n",
            " [[0.24846129]\n",
            "  [0.27308167]\n",
            "  [0.2529749 ]\n",
            "  [0.24271638]\n",
            "  [0.24887155]\n",
            "  [0.2304062 ]\n",
            "  [0.24312682]\n",
            "  [0.22384075]\n",
            "  [0.23676642]\n",
            "  [0.24723015]\n",
            "  [0.24128021]\n",
            "  [0.21173578]\n",
            "  [0.24230612]\n",
            "  [0.25748867]\n",
            "  [0.24292159]\n",
            "  [0.25707841]\n",
            "  [0.21419773]\n",
            "  [0.20968396]\n",
            "  [0.23020099]\n",
            "  [0.26179724]\n",
            "  [0.25153873]\n",
            "  [0.25441109]\n",
            "  [0.22979071]\n",
            "  [0.23286831]\n",
            "  [0.24210089]\n",
            "  [0.27472306]\n",
            "  [0.28395566]\n",
            "  [0.31965526]\n",
            "  [0.2796471 ]\n",
            "  [0.27985231]\n",
            "  [0.29811247]\n",
            "  [0.25174394]\n",
            "  [0.21214604]\n",
            "  [0.19963065]\n",
            "  [0.13028314]\n",
            "  [0.07447677]\n",
            "  [0.24271638]\n",
            "  [0.18178094]\n",
            "  [0.26097654]\n",
            "  [0.24353708]]\n",
            "\n",
            " [[0.27308167]\n",
            "  [0.2529749 ]\n",
            "  [0.24271638]\n",
            "  [0.24887155]\n",
            "  [0.2304062 ]\n",
            "  [0.24312682]\n",
            "  [0.22384075]\n",
            "  [0.23676642]\n",
            "  [0.24723015]\n",
            "  [0.24128021]\n",
            "  [0.21173578]\n",
            "  [0.24230612]\n",
            "  [0.25748867]\n",
            "  [0.24292159]\n",
            "  [0.25707841]\n",
            "  [0.21419773]\n",
            "  [0.20968396]\n",
            "  [0.23020099]\n",
            "  [0.26179724]\n",
            "  [0.25153873]\n",
            "  [0.25441109]\n",
            "  [0.22979071]\n",
            "  [0.23286831]\n",
            "  [0.24210089]\n",
            "  [0.27472306]\n",
            "  [0.28395566]\n",
            "  [0.31965526]\n",
            "  [0.2796471 ]\n",
            "  [0.27985231]\n",
            "  [0.29811247]\n",
            "  [0.25174394]\n",
            "  [0.21214604]\n",
            "  [0.19963065]\n",
            "  [0.13028314]\n",
            "  [0.07447677]\n",
            "  [0.24271638]\n",
            "  [0.18178094]\n",
            "  [0.26097654]\n",
            "  [0.24353708]\n",
            "  [0.2704145 ]]\n",
            "\n",
            " [[0.2529749 ]\n",
            "  [0.24271638]\n",
            "  [0.24887155]\n",
            "  [0.2304062 ]\n",
            "  [0.24312682]\n",
            "  [0.22384075]\n",
            "  [0.23676642]\n",
            "  [0.24723015]\n",
            "  [0.24128021]\n",
            "  [0.21173578]\n",
            "  [0.24230612]\n",
            "  [0.25748867]\n",
            "  [0.24292159]\n",
            "  [0.25707841]\n",
            "  [0.21419773]\n",
            "  [0.20968396]\n",
            "  [0.23020099]\n",
            "  [0.26179724]\n",
            "  [0.25153873]\n",
            "  [0.25441109]\n",
            "  [0.22979071]\n",
            "  [0.23286831]\n",
            "  [0.24210089]\n",
            "  [0.27472306]\n",
            "  [0.28395566]\n",
            "  [0.31965526]\n",
            "  [0.2796471 ]\n",
            "  [0.27985231]\n",
            "  [0.29811247]\n",
            "  [0.25174394]\n",
            "  [0.21214604]\n",
            "  [0.19963065]\n",
            "  [0.13028314]\n",
            "  [0.07447677]\n",
            "  [0.24271638]\n",
            "  [0.18178094]\n",
            "  [0.26097654]\n",
            "  [0.24353708]\n",
            "  [0.2704145 ]\n",
            "  [0.26897833]]\n",
            "\n",
            " [[0.24271638]\n",
            "  [0.24887155]\n",
            "  [0.2304062 ]\n",
            "  [0.24312682]\n",
            "  [0.22384075]\n",
            "  [0.23676642]\n",
            "  [0.24723015]\n",
            "  [0.24128021]\n",
            "  [0.21173578]\n",
            "  [0.24230612]\n",
            "  [0.25748867]\n",
            "  [0.24292159]\n",
            "  [0.25707841]\n",
            "  [0.21419773]\n",
            "  [0.20968396]\n",
            "  [0.23020099]\n",
            "  [0.26179724]\n",
            "  [0.25153873]\n",
            "  [0.25441109]\n",
            "  [0.22979071]\n",
            "  [0.23286831]\n",
            "  [0.24210089]\n",
            "  [0.27472306]\n",
            "  [0.28395566]\n",
            "  [0.31965526]\n",
            "  [0.2796471 ]\n",
            "  [0.27985231]\n",
            "  [0.29811247]\n",
            "  [0.25174394]\n",
            "  [0.21214604]\n",
            "  [0.19963065]\n",
            "  [0.13028314]\n",
            "  [0.07447677]\n",
            "  [0.24271638]\n",
            "  [0.18178094]\n",
            "  [0.26097654]\n",
            "  [0.24353708]\n",
            "  [0.2704145 ]\n",
            "  [0.26897833]\n",
            "  [0.32293806]]\n",
            "\n",
            " [[0.24887155]\n",
            "  [0.2304062 ]\n",
            "  [0.24312682]\n",
            "  [0.22384075]\n",
            "  [0.23676642]\n",
            "  [0.24723015]\n",
            "  [0.24128021]\n",
            "  [0.21173578]\n",
            "  [0.24230612]\n",
            "  [0.25748867]\n",
            "  [0.24292159]\n",
            "  [0.25707841]\n",
            "  [0.21419773]\n",
            "  [0.20968396]\n",
            "  [0.23020099]\n",
            "  [0.26179724]\n",
            "  [0.25153873]\n",
            "  [0.25441109]\n",
            "  [0.22979071]\n",
            "  [0.23286831]\n",
            "  [0.24210089]\n",
            "  [0.27472306]\n",
            "  [0.28395566]\n",
            "  [0.31965526]\n",
            "  [0.2796471 ]\n",
            "  [0.27985231]\n",
            "  [0.29811247]\n",
            "  [0.25174394]\n",
            "  [0.21214604]\n",
            "  [0.19963065]\n",
            "  [0.13028314]\n",
            "  [0.07447677]\n",
            "  [0.24271638]\n",
            "  [0.18178094]\n",
            "  [0.26097654]\n",
            "  [0.24353708]\n",
            "  [0.2704145 ]\n",
            "  [0.26897833]\n",
            "  [0.32293806]\n",
            "  [0.21296674]]\n",
            "\n",
            " [[0.2304062 ]\n",
            "  [0.24312682]\n",
            "  [0.22384075]\n",
            "  [0.23676642]\n",
            "  [0.24723015]\n",
            "  [0.24128021]\n",
            "  [0.21173578]\n",
            "  [0.24230612]\n",
            "  [0.25748867]\n",
            "  [0.24292159]\n",
            "  [0.25707841]\n",
            "  [0.21419773]\n",
            "  [0.20968396]\n",
            "  [0.23020099]\n",
            "  [0.26179724]\n",
            "  [0.25153873]\n",
            "  [0.25441109]\n",
            "  [0.22979071]\n",
            "  [0.23286831]\n",
            "  [0.24210089]\n",
            "  [0.27472306]\n",
            "  [0.28395566]\n",
            "  [0.31965526]\n",
            "  [0.2796471 ]\n",
            "  [0.27985231]\n",
            "  [0.29811247]\n",
            "  [0.25174394]\n",
            "  [0.21214604]\n",
            "  [0.19963065]\n",
            "  [0.13028314]\n",
            "  [0.07447677]\n",
            "  [0.24271638]\n",
            "  [0.18178094]\n",
            "  [0.26097654]\n",
            "  [0.24353708]\n",
            "  [0.2704145 ]\n",
            "  [0.26897833]\n",
            "  [0.32293806]\n",
            "  [0.21296674]\n",
            "  [0.        ]]\n",
            "\n",
            " [[0.24312682]\n",
            "  [0.22384075]\n",
            "  [0.23676642]\n",
            "  [0.24723015]\n",
            "  [0.24128021]\n",
            "  [0.21173578]\n",
            "  [0.24230612]\n",
            "  [0.25748867]\n",
            "  [0.24292159]\n",
            "  [0.25707841]\n",
            "  [0.21419773]\n",
            "  [0.20968396]\n",
            "  [0.23020099]\n",
            "  [0.26179724]\n",
            "  [0.25153873]\n",
            "  [0.25441109]\n",
            "  [0.22979071]\n",
            "  [0.23286831]\n",
            "  [0.24210089]\n",
            "  [0.27472306]\n",
            "  [0.28395566]\n",
            "  [0.31965526]\n",
            "  [0.2796471 ]\n",
            "  [0.27985231]\n",
            "  [0.29811247]\n",
            "  [0.25174394]\n",
            "  [0.21214604]\n",
            "  [0.19963065]\n",
            "  [0.13028314]\n",
            "  [0.07447677]\n",
            "  [0.24271638]\n",
            "  [0.18178094]\n",
            "  [0.26097654]\n",
            "  [0.24353708]\n",
            "  [0.2704145 ]\n",
            "  [0.26897833]\n",
            "  [0.32293806]\n",
            "  [0.21296674]\n",
            "  [0.        ]\n",
            "  [0.20619608]]\n",
            "\n",
            " [[0.22384075]\n",
            "  [0.23676642]\n",
            "  [0.24723015]\n",
            "  [0.24128021]\n",
            "  [0.21173578]\n",
            "  [0.24230612]\n",
            "  [0.25748867]\n",
            "  [0.24292159]\n",
            "  [0.25707841]\n",
            "  [0.21419773]\n",
            "  [0.20968396]\n",
            "  [0.23020099]\n",
            "  [0.26179724]\n",
            "  [0.25153873]\n",
            "  [0.25441109]\n",
            "  [0.22979071]\n",
            "  [0.23286831]\n",
            "  [0.24210089]\n",
            "  [0.27472306]\n",
            "  [0.28395566]\n",
            "  [0.31965526]\n",
            "  [0.2796471 ]\n",
            "  [0.27985231]\n",
            "  [0.29811247]\n",
            "  [0.25174394]\n",
            "  [0.21214604]\n",
            "  [0.19963065]\n",
            "  [0.13028314]\n",
            "  [0.07447677]\n",
            "  [0.24271638]\n",
            "  [0.18178094]\n",
            "  [0.26097654]\n",
            "  [0.24353708]\n",
            "  [0.2704145 ]\n",
            "  [0.26897833]\n",
            "  [0.32293806]\n",
            "  [0.21296674]\n",
            "  [0.        ]\n",
            "  [0.20619608]\n",
            "  [0.05560114]]\n",
            "\n",
            " [[0.23676642]\n",
            "  [0.24723015]\n",
            "  [0.24128021]\n",
            "  [0.21173578]\n",
            "  [0.24230612]\n",
            "  [0.25748867]\n",
            "  [0.24292159]\n",
            "  [0.25707841]\n",
            "  [0.21419773]\n",
            "  [0.20968396]\n",
            "  [0.23020099]\n",
            "  [0.26179724]\n",
            "  [0.25153873]\n",
            "  [0.25441109]\n",
            "  [0.22979071]\n",
            "  [0.23286831]\n",
            "  [0.24210089]\n",
            "  [0.27472306]\n",
            "  [0.28395566]\n",
            "  [0.31965526]\n",
            "  [0.2796471 ]\n",
            "  [0.27985231]\n",
            "  [0.29811247]\n",
            "  [0.25174394]\n",
            "  [0.21214604]\n",
            "  [0.19963065]\n",
            "  [0.13028314]\n",
            "  [0.07447677]\n",
            "  [0.24271638]\n",
            "  [0.18178094]\n",
            "  [0.26097654]\n",
            "  [0.24353708]\n",
            "  [0.2704145 ]\n",
            "  [0.26897833]\n",
            "  [0.32293806]\n",
            "  [0.21296674]\n",
            "  [0.        ]\n",
            "  [0.20619608]\n",
            "  [0.05560114]\n",
            "  [0.31206406]]\n",
            "\n",
            " [[0.24723015]\n",
            "  [0.24128021]\n",
            "  [0.21173578]\n",
            "  [0.24230612]\n",
            "  [0.25748867]\n",
            "  [0.24292159]\n",
            "  [0.25707841]\n",
            "  [0.21419773]\n",
            "  [0.20968396]\n",
            "  [0.23020099]\n",
            "  [0.26179724]\n",
            "  [0.25153873]\n",
            "  [0.25441109]\n",
            "  [0.22979071]\n",
            "  [0.23286831]\n",
            "  [0.24210089]\n",
            "  [0.27472306]\n",
            "  [0.28395566]\n",
            "  [0.31965526]\n",
            "  [0.2796471 ]\n",
            "  [0.27985231]\n",
            "  [0.29811247]\n",
            "  [0.25174394]\n",
            "  [0.21214604]\n",
            "  [0.19963065]\n",
            "  [0.13028314]\n",
            "  [0.07447677]\n",
            "  [0.24271638]\n",
            "  [0.18178094]\n",
            "  [0.26097654]\n",
            "  [0.24353708]\n",
            "  [0.2704145 ]\n",
            "  [0.26897833]\n",
            "  [0.32293806]\n",
            "  [0.21296674]\n",
            "  [0.        ]\n",
            "  [0.20619608]\n",
            "  [0.05560114]\n",
            "  [0.31206406]\n",
            "  [0.38018061]]\n",
            "\n",
            " [[0.24128021]\n",
            "  [0.21173578]\n",
            "  [0.24230612]\n",
            "  [0.25748867]\n",
            "  [0.24292159]\n",
            "  [0.25707841]\n",
            "  [0.21419773]\n",
            "  [0.20968396]\n",
            "  [0.23020099]\n",
            "  [0.26179724]\n",
            "  [0.25153873]\n",
            "  [0.25441109]\n",
            "  [0.22979071]\n",
            "  [0.23286831]\n",
            "  [0.24210089]\n",
            "  [0.27472306]\n",
            "  [0.28395566]\n",
            "  [0.31965526]\n",
            "  [0.2796471 ]\n",
            "  [0.27985231]\n",
            "  [0.29811247]\n",
            "  [0.25174394]\n",
            "  [0.21214604]\n",
            "  [0.19963065]\n",
            "  [0.13028314]\n",
            "  [0.07447677]\n",
            "  [0.24271638]\n",
            "  [0.18178094]\n",
            "  [0.26097654]\n",
            "  [0.24353708]\n",
            "  [0.2704145 ]\n",
            "  [0.26897833]\n",
            "  [0.32293806]\n",
            "  [0.21296674]\n",
            "  [0.        ]\n",
            "  [0.20619608]\n",
            "  [0.05560114]\n",
            "  [0.31206406]\n",
            "  [0.38018061]\n",
            "  [0.31596219]]\n",
            "\n",
            " [[0.21173578]\n",
            "  [0.24230612]\n",
            "  [0.25748867]\n",
            "  [0.24292159]\n",
            "  [0.25707841]\n",
            "  [0.21419773]\n",
            "  [0.20968396]\n",
            "  [0.23020099]\n",
            "  [0.26179724]\n",
            "  [0.25153873]\n",
            "  [0.25441109]\n",
            "  [0.22979071]\n",
            "  [0.23286831]\n",
            "  [0.24210089]\n",
            "  [0.27472306]\n",
            "  [0.28395566]\n",
            "  [0.31965526]\n",
            "  [0.2796471 ]\n",
            "  [0.27985231]\n",
            "  [0.29811247]\n",
            "  [0.25174394]\n",
            "  [0.21214604]\n",
            "  [0.19963065]\n",
            "  [0.13028314]\n",
            "  [0.07447677]\n",
            "  [0.24271638]\n",
            "  [0.18178094]\n",
            "  [0.26097654]\n",
            "  [0.24353708]\n",
            "  [0.2704145 ]\n",
            "  [0.26897833]\n",
            "  [0.32293806]\n",
            "  [0.21296674]\n",
            "  [0.        ]\n",
            "  [0.20619608]\n",
            "  [0.05560114]\n",
            "  [0.31206406]\n",
            "  [0.38018061]\n",
            "  [0.31596219]\n",
            "  [0.20352893]]\n",
            "\n",
            " [[0.24230612]\n",
            "  [0.25748867]\n",
            "  [0.24292159]\n",
            "  [0.25707841]\n",
            "  [0.21419773]\n",
            "  [0.20968396]\n",
            "  [0.23020099]\n",
            "  [0.26179724]\n",
            "  [0.25153873]\n",
            "  [0.25441109]\n",
            "  [0.22979071]\n",
            "  [0.23286831]\n",
            "  [0.24210089]\n",
            "  [0.27472306]\n",
            "  [0.28395566]\n",
            "  [0.31965526]\n",
            "  [0.2796471 ]\n",
            "  [0.27985231]\n",
            "  [0.29811247]\n",
            "  [0.25174394]\n",
            "  [0.21214604]\n",
            "  [0.19963065]\n",
            "  [0.13028314]\n",
            "  [0.07447677]\n",
            "  [0.24271638]\n",
            "  [0.18178094]\n",
            "  [0.26097654]\n",
            "  [0.24353708]\n",
            "  [0.2704145 ]\n",
            "  [0.26897833]\n",
            "  [0.32293806]\n",
            "  [0.21296674]\n",
            "  [0.        ]\n",
            "  [0.20619608]\n",
            "  [0.05560114]\n",
            "  [0.31206406]\n",
            "  [0.38018061]\n",
            "  [0.31596219]\n",
            "  [0.20352893]\n",
            "  [0.20988917]]\n",
            "\n",
            " [[0.25748867]\n",
            "  [0.24292159]\n",
            "  [0.25707841]\n",
            "  [0.21419773]\n",
            "  [0.20968396]\n",
            "  [0.23020099]\n",
            "  [0.26179724]\n",
            "  [0.25153873]\n",
            "  [0.25441109]\n",
            "  [0.22979071]\n",
            "  [0.23286831]\n",
            "  [0.24210089]\n",
            "  [0.27472306]\n",
            "  [0.28395566]\n",
            "  [0.31965526]\n",
            "  [0.2796471 ]\n",
            "  [0.27985231]\n",
            "  [0.29811247]\n",
            "  [0.25174394]\n",
            "  [0.21214604]\n",
            "  [0.19963065]\n",
            "  [0.13028314]\n",
            "  [0.07447677]\n",
            "  [0.24271638]\n",
            "  [0.18178094]\n",
            "  [0.26097654]\n",
            "  [0.24353708]\n",
            "  [0.2704145 ]\n",
            "  [0.26897833]\n",
            "  [0.32293806]\n",
            "  [0.21296674]\n",
            "  [0.        ]\n",
            "  [0.20619608]\n",
            "  [0.05560114]\n",
            "  [0.31206406]\n",
            "  [0.38018061]\n",
            "  [0.31596219]\n",
            "  [0.20352893]\n",
            "  [0.20988917]\n",
            "  [0.22527694]]\n",
            "\n",
            " [[0.24292159]\n",
            "  [0.25707841]\n",
            "  [0.21419773]\n",
            "  [0.20968396]\n",
            "  [0.23020099]\n",
            "  [0.26179724]\n",
            "  [0.25153873]\n",
            "  [0.25441109]\n",
            "  [0.22979071]\n",
            "  [0.23286831]\n",
            "  [0.24210089]\n",
            "  [0.27472306]\n",
            "  [0.28395566]\n",
            "  [0.31965526]\n",
            "  [0.2796471 ]\n",
            "  [0.27985231]\n",
            "  [0.29811247]\n",
            "  [0.25174394]\n",
            "  [0.21214604]\n",
            "  [0.19963065]\n",
            "  [0.13028314]\n",
            "  [0.07447677]\n",
            "  [0.24271638]\n",
            "  [0.18178094]\n",
            "  [0.26097654]\n",
            "  [0.24353708]\n",
            "  [0.2704145 ]\n",
            "  [0.26897833]\n",
            "  [0.32293806]\n",
            "  [0.21296674]\n",
            "  [0.        ]\n",
            "  [0.20619608]\n",
            "  [0.05560114]\n",
            "  [0.31206406]\n",
            "  [0.38018061]\n",
            "  [0.31596219]\n",
            "  [0.20352893]\n",
            "  [0.20988917]\n",
            "  [0.22527694]\n",
            "  [0.10976611]]\n",
            "\n",
            " [[0.25707841]\n",
            "  [0.21419773]\n",
            "  [0.20968396]\n",
            "  [0.23020099]\n",
            "  [0.26179724]\n",
            "  [0.25153873]\n",
            "  [0.25441109]\n",
            "  [0.22979071]\n",
            "  [0.23286831]\n",
            "  [0.24210089]\n",
            "  [0.27472306]\n",
            "  [0.28395566]\n",
            "  [0.31965526]\n",
            "  [0.2796471 ]\n",
            "  [0.27985231]\n",
            "  [0.29811247]\n",
            "  [0.25174394]\n",
            "  [0.21214604]\n",
            "  [0.19963065]\n",
            "  [0.13028314]\n",
            "  [0.07447677]\n",
            "  [0.24271638]\n",
            "  [0.18178094]\n",
            "  [0.26097654]\n",
            "  [0.24353708]\n",
            "  [0.2704145 ]\n",
            "  [0.26897833]\n",
            "  [0.32293806]\n",
            "  [0.21296674]\n",
            "  [0.        ]\n",
            "  [0.20619608]\n",
            "  [0.05560114]\n",
            "  [0.31206406]\n",
            "  [0.38018061]\n",
            "  [0.31596219]\n",
            "  [0.20352893]\n",
            "  [0.20988917]\n",
            "  [0.22527694]\n",
            "  [0.10976611]\n",
            "  [0.11838322]]\n",
            "\n",
            " [[0.21419773]\n",
            "  [0.20968396]\n",
            "  [0.23020099]\n",
            "  [0.26179724]\n",
            "  [0.25153873]\n",
            "  [0.25441109]\n",
            "  [0.22979071]\n",
            "  [0.23286831]\n",
            "  [0.24210089]\n",
            "  [0.27472306]\n",
            "  [0.28395566]\n",
            "  [0.31965526]\n",
            "  [0.2796471 ]\n",
            "  [0.27985231]\n",
            "  [0.29811247]\n",
            "  [0.25174394]\n",
            "  [0.21214604]\n",
            "  [0.19963065]\n",
            "  [0.13028314]\n",
            "  [0.07447677]\n",
            "  [0.24271638]\n",
            "  [0.18178094]\n",
            "  [0.26097654]\n",
            "  [0.24353708]\n",
            "  [0.2704145 ]\n",
            "  [0.26897833]\n",
            "  [0.32293806]\n",
            "  [0.21296674]\n",
            "  [0.        ]\n",
            "  [0.20619608]\n",
            "  [0.05560114]\n",
            "  [0.31206406]\n",
            "  [0.38018061]\n",
            "  [0.31596219]\n",
            "  [0.20352893]\n",
            "  [0.20988917]\n",
            "  [0.22527694]\n",
            "  [0.10976611]\n",
            "  [0.11838322]\n",
            "  [0.11345917]]\n",
            "\n",
            " [[0.20968396]\n",
            "  [0.23020099]\n",
            "  [0.26179724]\n",
            "  [0.25153873]\n",
            "  [0.25441109]\n",
            "  [0.22979071]\n",
            "  [0.23286831]\n",
            "  [0.24210089]\n",
            "  [0.27472306]\n",
            "  [0.28395566]\n",
            "  [0.31965526]\n",
            "  [0.2796471 ]\n",
            "  [0.27985231]\n",
            "  [0.29811247]\n",
            "  [0.25174394]\n",
            "  [0.21214604]\n",
            "  [0.19963065]\n",
            "  [0.13028314]\n",
            "  [0.07447677]\n",
            "  [0.24271638]\n",
            "  [0.18178094]\n",
            "  [0.26097654]\n",
            "  [0.24353708]\n",
            "  [0.2704145 ]\n",
            "  [0.26897833]\n",
            "  [0.32293806]\n",
            "  [0.21296674]\n",
            "  [0.        ]\n",
            "  [0.20619608]\n",
            "  [0.05560114]\n",
            "  [0.31206406]\n",
            "  [0.38018061]\n",
            "  [0.31596219]\n",
            "  [0.20352893]\n",
            "  [0.20988917]\n",
            "  [0.22527694]\n",
            "  [0.10976611]\n",
            "  [0.11838322]\n",
            "  [0.11345917]\n",
            "  [0.22855973]]]\n"
          ]
        }
      ],
      "source": [
        "print(X)"
      ]
    },
    {
      "cell_type": "code",
      "execution_count": null,
      "id": "0d1dab5c",
      "metadata": {
        "id": "0d1dab5c",
        "outputId": "1fcab8c9-cf5f-4c07-a45b-da43dab23cb7"
      },
      "outputs": [
        {
          "name": "stdout",
          "output_type": "stream",
          "text": [
            "[[0.24271638]\n",
            " [0.18178094]\n",
            " [0.26097654]\n",
            " [0.24353708]\n",
            " [0.2704145 ]\n",
            " [0.26897833]\n",
            " [0.32293806]\n",
            " [0.21296674]\n",
            " [0.        ]\n",
            " [0.20619608]\n",
            " [0.05560114]\n",
            " [0.31206406]\n",
            " [0.38018061]\n",
            " [0.31596219]\n",
            " [0.20352893]\n",
            " [0.20988917]\n",
            " [0.22527694]\n",
            " [0.10976611]\n",
            " [0.11838322]\n",
            " [0.11345917]\n",
            " [0.22855973]\n",
            " [0.19634801]]\n"
          ]
        }
      ],
      "source": [
        "print (y)"
      ]
    },
    {
      "cell_type": "markdown",
      "id": "b5b75dab",
      "metadata": {
        "id": "b5b75dab"
      },
      "source": [
        "<h3>Build, Train, and Test Model</h3></n></n><h3>Build LSTM Model</h3>"
      ]
    },
    {
      "cell_type": "code",
      "execution_count": null,
      "id": "b42cd7ad",
      "metadata": {
        "id": "b42cd7ad"
      },
      "outputs": [],
      "source": [
        "# We are using only one feature, i.e., Close Price\n",
        "\n",
        "n_features = 1"
      ]
    },
    {
      "cell_type": "code",
      "execution_count": null,
      "id": "adada714",
      "metadata": {
        "id": "adada714"
      },
      "outputs": [],
      "source": [
        "# Define model\n",
        "\n",
        "model = Sequential()\n",
        "\n",
        "# Add an LSTM layer\n",
        "# This layer has 50 LSTM cells\n",
        "# Activation function: relu\n",
        "\n",
        "model.add(LSTM(50, activation='relu', return_sequences=True, input_shape=(length40, n_features)))\n",
        "\n",
        "# Dropout Layer\n",
        "\n",
        "model.add(Dropout(0.2))\n",
        "\n",
        "# Add 2nd LSTM layer\n",
        "\n",
        "model.add(LSTM(units=50, activation='relu', return_sequences=True))\n",
        "\n",
        "# Dropout Layer\n",
        "\n",
        "model.add(Dropout(0.2))\n",
        "\n",
        "# Add 3rd LSTM layer\n",
        "\n",
        "model.add(LSTM(units=50, activation='relu'))\n",
        "\n",
        "# Add a fully-connected layer for the final prediction\n",
        "\n",
        "model.add(Dense(1))"
      ]
    },
    {
      "cell_type": "markdown",
      "id": "6ecd8e34",
      "metadata": {
        "id": "6ecd8e34"
      },
      "source": [
        "<h3>Compile Model</h3>"
      ]
    },
    {
      "cell_type": "code",
      "execution_count": null,
      "id": "4e9a3e71",
      "metadata": {
        "id": "4e9a3e71",
        "outputId": "befbda06-fbb1-442e-d0a0-72e468089cd5"
      },
      "outputs": [
        {
          "name": "stdout",
          "output_type": "stream",
          "text": [
            "Model: \"sequential\"\n",
            "_________________________________________________________________\n",
            " Layer (type)                Output Shape              Param #   \n",
            "=================================================================\n",
            " lstm (LSTM)                 (None, 40, 50)            10400     \n",
            "                                                                 \n",
            " dropout (Dropout)           (None, 40, 50)            0         \n",
            "                                                                 \n",
            " lstm_1 (LSTM)               (None, 40, 50)            20200     \n",
            "                                                                 \n",
            " dropout_1 (Dropout)         (None, 40, 50)            0         \n",
            "                                                                 \n",
            " lstm_2 (LSTM)               (None, 50)                20200     \n",
            "                                                                 \n",
            " dense (Dense)               (None, 1)                 51        \n",
            "                                                                 \n",
            "=================================================================\n",
            "Total params: 50,851\n",
            "Trainable params: 50,851\n",
            "Non-trainable params: 0\n",
            "_________________________________________________________________\n"
          ]
        }
      ],
      "source": [
        "# Compile Model\n",
        "\n",
        "model.compile(optimizer='adam', loss='mse')\n",
        "\n",
        "model.summary()"
      ]
    },
    {
      "cell_type": "markdown",
      "id": "1e418606",
      "metadata": {
        "id": "1e418606"
      },
      "source": [
        "<h3>Train (fit) model using fit_generator()</h3>"
      ]
    },
    {
      "cell_type": "code",
      "execution_count": null,
      "id": "c572a603",
      "metadata": {
        "id": "c572a603",
        "outputId": "7514b7d9-1331-4fcc-afc5-dac2c90045b3"
      },
      "outputs": [
        {
          "name": "stdout",
          "output_type": "stream",
          "text": [
            "Epoch 1/50\n"
          ]
        },
        {
          "name": "stderr",
          "output_type": "stream",
          "text": [
            "C:\\Users\\Phani\\AppData\\Local\\Temp\\ipykernel_9920\\952923546.py:3: UserWarning: `Model.fit_generator` is deprecated and will be removed in a future version. Please use `Model.fit`, which supports generators.\n",
            "  model.fit_generator(train_tsGenerator45, epochs=50)\n"
          ]
        },
        {
          "name": "stdout",
          "output_type": "stream",
          "text": [
            "18/18 [==============================] - 10s 69ms/step - loss: 0.2318\n",
            "Epoch 2/50\n",
            "18/18 [==============================] - 1s 69ms/step - loss: 0.0483\n",
            "Epoch 3/50\n",
            "18/18 [==============================] - 1s 69ms/step - loss: 0.0214\n",
            "Epoch 4/50\n",
            "18/18 [==============================] - 1s 70ms/step - loss: 0.0244\n",
            "Epoch 5/50\n",
            "18/18 [==============================] - 1s 72ms/step - loss: 0.0211\n",
            "Epoch 6/50\n",
            "18/18 [==============================] - 1s 74ms/step - loss: 0.0184\n",
            "Epoch 7/50\n",
            "18/18 [==============================] - 1s 74ms/step - loss: 0.0134\n",
            "Epoch 8/50\n",
            "18/18 [==============================] - 1s 73ms/step - loss: 0.0128\n",
            "Epoch 9/50\n",
            "18/18 [==============================] - 1s 69ms/step - loss: 0.0177\n",
            "Epoch 10/50\n",
            "18/18 [==============================] - 1s 70ms/step - loss: 0.0156\n",
            "Epoch 11/50\n",
            "18/18 [==============================] - 1s 70ms/step - loss: 0.0113\n",
            "Epoch 12/50\n",
            "18/18 [==============================] - 1s 69ms/step - loss: 0.0159\n",
            "Epoch 13/50\n",
            "18/18 [==============================] - 1s 70ms/step - loss: 0.0106\n",
            "Epoch 14/50\n",
            "18/18 [==============================] - 1s 71ms/step - loss: 0.0108\n",
            "Epoch 15/50\n",
            "18/18 [==============================] - 1s 71ms/step - loss: 0.0108\n",
            "Epoch 16/50\n",
            "18/18 [==============================] - 1s 69ms/step - loss: 0.0100\n",
            "Epoch 17/50\n",
            "18/18 [==============================] - 1s 74ms/step - loss: 0.0158\n",
            "Epoch 18/50\n",
            "18/18 [==============================] - 1s 75ms/step - loss: 0.0190\n",
            "Epoch 19/50\n",
            "18/18 [==============================] - 1s 75ms/step - loss: 0.0166\n",
            "Epoch 20/50\n",
            "18/18 [==============================] - 1s 73ms/step - loss: 0.0095\n",
            "Epoch 21/50\n",
            "18/18 [==============================] - 1s 69ms/step - loss: 0.0099\n",
            "Epoch 22/50\n",
            "18/18 [==============================] - 1s 69ms/step - loss: 0.0106\n",
            "Epoch 23/50\n",
            "18/18 [==============================] - 1s 68ms/step - loss: 0.0075\n",
            "Epoch 24/50\n",
            "18/18 [==============================] - 1s 69ms/step - loss: 0.0098\n",
            "Epoch 25/50\n",
            "18/18 [==============================] - 1s 68ms/step - loss: 0.0087\n",
            "Epoch 26/50\n",
            "18/18 [==============================] - 1s 69ms/step - loss: 0.0101\n",
            "Epoch 27/50\n",
            "18/18 [==============================] - 1s 69ms/step - loss: 0.0113\n",
            "Epoch 28/50\n",
            "18/18 [==============================] - 1s 69ms/step - loss: 0.0092\n",
            "Epoch 29/50\n",
            "18/18 [==============================] - 1s 72ms/step - loss: 0.0117\n",
            "Epoch 30/50\n",
            "18/18 [==============================] - 1s 73ms/step - loss: 0.0101\n",
            "Epoch 31/50\n",
            "18/18 [==============================] - 1s 73ms/step - loss: 0.0114\n",
            "Epoch 32/50\n",
            "18/18 [==============================] - 1s 73ms/step - loss: 0.0081\n",
            "Epoch 33/50\n",
            "18/18 [==============================] - 1s 69ms/step - loss: 0.0081\n",
            "Epoch 34/50\n",
            "18/18 [==============================] - 1s 69ms/step - loss: 0.0087\n",
            "Epoch 35/50\n",
            "18/18 [==============================] - 1s 70ms/step - loss: 0.0099\n",
            "Epoch 36/50\n",
            "18/18 [==============================] - 1s 69ms/step - loss: 0.0108\n",
            "Epoch 37/50\n",
            "18/18 [==============================] - 1s 68ms/step - loss: 0.0121\n",
            "Epoch 38/50\n",
            "18/18 [==============================] - 1s 70ms/step - loss: 0.0086\n",
            "Epoch 39/50\n",
            "18/18 [==============================] - 1s 69ms/step - loss: 0.0083\n",
            "Epoch 40/50\n",
            "18/18 [==============================] - 1s 68ms/step - loss: 0.0087\n",
            "Epoch 41/50\n",
            "18/18 [==============================] - 1s 71ms/step - loss: 0.0074\n",
            "Epoch 42/50\n",
            "18/18 [==============================] - 1s 73ms/step - loss: 0.0069\n",
            "Epoch 43/50\n",
            "18/18 [==============================] - 1s 74ms/step - loss: 0.0076\n",
            "Epoch 44/50\n",
            "18/18 [==============================] - 1s 74ms/step - loss: 0.0085\n",
            "Epoch 45/50\n",
            "18/18 [==============================] - 1s 71ms/step - loss: 0.0083\n",
            "Epoch 46/50\n",
            "18/18 [==============================] - 1s 69ms/step - loss: 0.0069\n",
            "Epoch 47/50\n",
            "18/18 [==============================] - 1s 69ms/step - loss: 0.0065\n",
            "Epoch 48/50\n",
            "18/18 [==============================] - 1s 72ms/step - loss: 0.0060\n",
            "Epoch 49/50\n",
            "18/18 [==============================] - 1s 70ms/step - loss: 0.0062\n",
            "Epoch 50/50\n",
            "18/18 [==============================] - 1s 70ms/step - loss: 0.0063\n"
          ]
        },
        {
          "data": {
            "text/plain": [
              "<keras.callbacks.History at 0x1b3f43ab1c0>"
            ]
          },
          "execution_count": 37,
          "metadata": {},
          "output_type": "execute_result"
        }
      ],
      "source": [
        "# Train the model\n",
        "\n",
        "model.fit_generator(train_tsGenerator45, epochs=50)"
      ]
    },
    {
      "cell_type": "markdown",
      "id": "c4448d6f",
      "metadata": {
        "id": "c4448d6f"
      },
      "source": [
        "<h3>Visualize Model's Performance after Training</h3>"
      ]
    },
    {
      "cell_type": "code",
      "execution_count": null,
      "id": "544287f0",
      "metadata": {
        "id": "544287f0",
        "outputId": "4567a705-ff5d-4138-c296-52203e1ed043"
      },
      "outputs": [
        {
          "data": {
            "text/plain": [
              "dict_keys(['loss'])"
            ]
          },
          "execution_count": 38,
          "metadata": {},
          "output_type": "execute_result"
        }
      ],
      "source": [
        "loss_history_keys = model.history.history.keys()\n",
        "loss_history_keys"
      ]
    },
    {
      "cell_type": "code",
      "execution_count": null,
      "id": "713d4a24",
      "metadata": {
        "id": "713d4a24",
        "outputId": "0e965477-0218-4d20-f16c-cd74f4d89d7b"
      },
      "outputs": [
        {
          "data": {
            "text/plain": [
              "<AxesSubplot:>"
            ]
          },
          "execution_count": 39,
          "metadata": {},
          "output_type": "execute_result"
        },
        {
          "data": {
            "image/png": "[encoded data removed]",
            "text/plain": [
              "<Figure size 432x288 with 1 Axes>"
            ]
          },
          "metadata": {
            "needs_background": "light"
          },
          "output_type": "display_data"
        }
      ],
      "source": [
        "# Load the loss data (model.history.history) into a data frame\n",
        "\n",
        "ds_model_loss = pd.DataFrame(model.history.history)\n",
        "\n",
        "# Visualize the loss data using DataFrame.plot()\n",
        "\n",
        "ds_model_loss.plot()"
      ]
    },
    {
      "cell_type": "markdown",
      "id": "25f9c1cc",
      "metadata": {
        "id": "25f9c1cc"
      },
      "source": [
        "<h3>Prediction for Testing: Using TimeseriesGenerator</h3></n></n><h5>Create TimeseriesGenerator for Testing</h5>"
      ]
    },
    {
      "cell_type": "code",
      "execution_count": null,
      "id": "7e811c3c",
      "metadata": {
        "id": "7e811c3c"
      },
      "outputs": [],
      "source": [
        "# Batch Size is 1\n",
        "\n",
        "batch_size1 = 1\n",
        "\n",
        "# Create a TimeseriesGenerator for testing: test_tsGenerator\n",
        "\n",
        "test_tsGenerator45 = TimeseriesGenerator(normalized_test, normalized_test, length=length40, batch_size=batch_size1)"
      ]
    },
    {
      "cell_type": "markdown",
      "id": "e3f1049a",
      "metadata": {
        "id": "e3f1049a"
      },
      "source": [
        "<h5>Predict Future Data Points for Testing</h5>"
      ]
    },
    {
      "cell_type": "code",
      "execution_count": null,
      "id": "836ab0bc",
      "metadata": {
        "id": "836ab0bc",
        "outputId": "71a83b37-1dbd-4b36-e5f6-56302c8c52d7"
      },
      "outputs": [
        {
          "name": "stderr",
          "output_type": "stream",
          "text": [
            "C:\\Users\\Phani\\AppData\\Local\\Temp\\ipykernel_9920\\26107903.py:1: UserWarning: `Model.predict_generator` is deprecated and will be removed in a future version. Please use `Model.predict`, which supports generators.\n",
            "  normalized_prediction = model.predict_generator(test_tsGenerator45)\n"
          ]
        }
      ],
      "source": [
        "normalized_prediction = model.predict_generator(test_tsGenerator45)"
      ]
    },
    {
      "cell_type": "code",
      "execution_count": null,
      "id": "7f774a9e",
      "metadata": {
        "id": "7f774a9e",
        "outputId": "57e51dd0-bd94-4394-9151-4a8fc57f6bb0"
      },
      "outputs": [
        {
          "data": {
            "text/plain": [
              "array([[0.83153504],\n",
              "       [0.824819  ],\n",
              "       [0.8196025 ],\n",
              "       [0.8151456 ],\n",
              "       [0.8094097 ],\n",
              "       [0.80238014],\n",
              "       [0.79349065],\n",
              "       [0.7808712 ],\n",
              "       [0.7641501 ],\n",
              "       [0.7460477 ],\n",
              "       [0.72963434],\n",
              "       [0.71834195],\n",
              "       [0.7130601 ],\n",
              "       [0.7130915 ],\n",
              "       [0.717035  ],\n",
              "       [0.722317  ],\n",
              "       [0.7291175 ],\n",
              "       [0.7373304 ],\n",
              "       [0.7471288 ],\n",
              "       [0.7598172 ],\n",
              "       [0.77529716],\n",
              "       [0.792462  ],\n",
              "       [0.81083137],\n",
              "       [0.83012307],\n",
              "       [0.8491092 ],\n",
              "       [0.86580604],\n",
              "       [0.879992  ],\n",
              "       [0.8921236 ],\n",
              "       [0.9024668 ],\n",
              "       [0.91098905],\n",
              "       [0.9180226 ],\n",
              "       [0.9244632 ],\n",
              "       [0.9295945 ],\n",
              "       [0.9323787 ],\n",
              "       [0.9332316 ],\n",
              "       [0.93138003],\n",
              "       [0.9275086 ],\n",
              "       [0.921795  ],\n",
              "       [0.914228  ],\n",
              "       [0.9012979 ],\n",
              "       [0.8827984 ],\n",
              "       [0.862658  ],\n",
              "       [0.84268945],\n",
              "       [0.8272632 ],\n",
              "       [0.8183195 ],\n",
              "       [0.81616   ],\n",
              "       [0.81809336],\n",
              "       [0.8201592 ],\n",
              "       [0.81876916],\n",
              "       [0.8096295 ],\n",
              "       [0.7919893 ],\n",
              "       [0.77089375],\n",
              "       [0.75137615],\n",
              "       [0.7353683 ],\n",
              "       [0.7222844 ],\n",
              "       [0.71365696],\n",
              "       [0.7116298 ],\n",
              "       [0.7170818 ],\n",
              "       [0.72914326],\n",
              "       [0.7461689 ],\n",
              "       [0.7645586 ],\n",
              "       [0.7770946 ],\n",
              "       [0.7827629 ],\n",
              "       [0.7827701 ],\n",
              "       [0.77900225],\n",
              "       [0.77285194],\n",
              "       [0.7671883 ],\n",
              "       [0.7649675 ],\n",
              "       [0.7664524 ],\n",
              "       [0.77136296],\n",
              "       [0.7798781 ],\n",
              "       [0.7907812 ],\n",
              "       [0.8000902 ],\n",
              "       [0.80843747],\n",
              "       [0.8152856 ],\n",
              "       [0.82170767],\n",
              "       [0.82756215],\n",
              "       [0.83231443],\n",
              "       [0.8350267 ],\n",
              "       [0.8377131 ],\n",
              "       [0.84036607],\n",
              "       [0.8402509 ],\n",
              "       [0.838891  ],\n",
              "       [0.83389205],\n",
              "       [0.82455534],\n",
              "       [0.8121737 ],\n",
              "       [0.7950621 ],\n",
              "       [0.77348274],\n",
              "       [0.74971193],\n",
              "       [0.7280811 ],\n",
              "       [0.7133571 ],\n",
              "       [0.7071557 ],\n",
              "       [0.7083545 ],\n",
              "       [0.71530205],\n",
              "       [0.7244265 ],\n",
              "       [0.7321434 ],\n",
              "       [0.73713964],\n",
              "       [0.73889434],\n",
              "       [0.736144  ],\n",
              "       [0.7288271 ],\n",
              "       [0.71687037],\n",
              "       [0.70209575],\n",
              "       [0.6856958 ],\n",
              "       [0.6750693 ],\n",
              "       [0.671017  ],\n",
              "       [0.6711272 ],\n",
              "       [0.6722089 ],\n",
              "       [0.6724834 ],\n",
              "       [0.6733943 ]], dtype=float32)"
            ]
          },
          "execution_count": 42,
          "metadata": {},
          "output_type": "execute_result"
        }
      ],
      "source": [
        "# Prediction is a numpy 2D array with only one column\n",
        "\n",
        "normalized_prediction"
      ]
    },
    {
      "cell_type": "code",
      "execution_count": null,
      "id": "5c5c116f",
      "metadata": {
        "id": "5c5c116f",
        "outputId": "dbdcc1e2-b6e3-4e6e-99f7-2c1947f57d2f"
      },
      "outputs": [
        {
          "data": {
            "text/plain": [
              "109"
            ]
          },
          "execution_count": 43,
          "metadata": {},
          "output_type": "execute_result"
        }
      ],
      "source": [
        "len(normalized_prediction)"
      ]
    },
    {
      "cell_type": "code",
      "execution_count": null,
      "id": "b20bda08",
      "metadata": {
        "id": "b20bda08"
      },
      "outputs": [],
      "source": [
        "# Convert normalized predictions back to the true values\n",
        "\n",
        "prediction = scaler.inverse_transform(normalized_prediction)"
      ]
    },
    {
      "cell_type": "code",
      "execution_count": null,
      "id": "f041cf8d",
      "metadata": {
        "id": "f041cf8d"
      },
      "outputs": [],
      "source": [
        "# Flatten all the 2D array\n",
        "\n",
        "prediction_index = np.arange(435, 544, step=1)\n",
        "df_prediction = pd.DataFrame(data=prediction,index=prediction_index, columns=['Prediction'])"
      ]
    },
    {
      "cell_type": "code",
      "execution_count": null,
      "id": "185f6b5d",
      "metadata": {
        "id": "185f6b5d",
        "outputId": "1d1e58f5-cf5d-451f-913e-8e27a9e04bd6"
      },
      "outputs": [
        {
          "data": {
            "text/html": [
              "<div>\n",
              "<style scoped>\n",
              "    .dataframe tbody tr th:only-of-type {\n",
              "        vertical-align: middle;\n",
              "    }\n",
              "\n",
              "    .dataframe tbody tr th {\n",
              "        vertical-align: top;\n",
              "    }\n",
              "\n",
              "    .dataframe thead th {\n",
              "        text-align: right;\n",
              "    }\n",
              "</style>\n",
              "<table border=\"1\" class=\"dataframe\">\n",
              "  <thead>\n",
              "    <tr style=\"text-align: right;\">\n",
              "      <th></th>\n",
              "      <th>Prediction</th>\n",
              "    </tr>\n",
              "  </thead>\n",
              "  <tbody>\n",
              "    <tr>\n",
              "      <th>435</th>\n",
              "      <td>144.579010</td>\n",
              "    </tr>\n",
              "    <tr>\n",
              "      <th>436</th>\n",
              "      <td>144.251678</td>\n",
              "    </tr>\n",
              "    <tr>\n",
              "      <th>437</th>\n",
              "      <td>143.997421</td>\n",
              "    </tr>\n",
              "    <tr>\n",
              "      <th>438</th>\n",
              "      <td>143.780197</td>\n",
              "    </tr>\n",
              "    <tr>\n",
              "      <th>439</th>\n",
              "      <td>143.500610</td>\n",
              "    </tr>\n",
              "    <tr>\n",
              "      <th>...</th>\n",
              "      <td>...</td>\n",
              "    </tr>\n",
              "    <tr>\n",
              "      <th>539</th>\n",
              "      <td>136.755356</td>\n",
              "    </tr>\n",
              "    <tr>\n",
              "      <th>540</th>\n",
              "      <td>136.760742</td>\n",
              "    </tr>\n",
              "    <tr>\n",
              "      <th>541</th>\n",
              "      <td>136.813461</td>\n",
              "    </tr>\n",
              "    <tr>\n",
              "      <th>542</th>\n",
              "      <td>136.826843</td>\n",
              "    </tr>\n",
              "    <tr>\n",
              "      <th>543</th>\n",
              "      <td>136.871246</td>\n",
              "    </tr>\n",
              "  </tbody>\n",
              "</table>\n",
              "<p>109 rows × 1 columns</p>\n",
              "</div>"
            ],
            "text/plain": [
              "     Prediction\n",
              "435  144.579010\n",
              "436  144.251678\n",
              "437  143.997421\n",
              "438  143.780197\n",
              "439  143.500610\n",
              "..          ...\n",
              "539  136.755356\n",
              "540  136.760742\n",
              "541  136.813461\n",
              "542  136.826843\n",
              "543  136.871246\n",
              "\n",
              "[109 rows x 1 columns]"
            ]
          },
          "execution_count": 46,
          "metadata": {},
          "output_type": "execute_result"
        }
      ],
      "source": [
        "df_prediction"
      ]
    },
    {
      "cell_type": "markdown",
      "id": "b7835630",
      "metadata": {
        "id": "b7835630"
      },
      "source": [
        "<h3>Visualize Prediction</h3>"
      ]
    },
    {
      "cell_type": "code",
      "execution_count": null,
      "id": "22e2e555",
      "metadata": {
        "id": "22e2e555",
        "outputId": "46d34f52-eb5e-42c5-9068-eee0416386f0"
      },
      "outputs": [
        {
          "data": {
            "text/plain": [
              "<AxesSubplot:>"
            ]
          },
          "execution_count": 47,
          "metadata": {},
          "output_type": "execute_result"
        },
        {
          "data": {
            "image/png": "[encoded data removed]",
            "text/plain": [
              "<Figure size 576x864 with 1 Axes>"
            ]
          },
          "metadata": {
            "needs_background": "light"
          },
          "output_type": "display_data"
        }
      ],
      "source": [
        "ax = data_train.plot()\n",
        "df_prediction.plot(ax=ax, figsize=(8, 12))"
      ]
    },
    {
      "cell_type": "markdown",
      "id": "8dc1fce2",
      "metadata": {
        "id": "8dc1fce2"
      },
      "source": [
        "<h3>Visualize Prediction and Compare Actual Close Price</h3>"
      ]
    },
    {
      "cell_type": "code",
      "execution_count": null,
      "id": "c2c01e03",
      "metadata": {
        "id": "c2c01e03",
        "outputId": "795b552b-9587-4a83-a341-74ab40e9a30e"
      },
      "outputs": [
        {
          "data": {
            "text/plain": [
              "<AxesSubplot:>"
            ]
          },
          "execution_count": 48,
          "metadata": {},
          "output_type": "execute_result"
        },
        {
          "data": {
            "image/png": "[encoded data removed]",
            "text/plain": [
              "<Figure size 576x864 with 1 Axes>"
            ]
          },
          "metadata": {
            "needs_background": "light"
          },
          "output_type": "display_data"
        }
      ],
      "source": [
        "ax = df.plot()\n",
        "df_prediction.plot(ax=ax, figsize=(8, 12))"
      ]
    },
    {
      "cell_type": "markdown",
      "id": "737bc1c8",
      "metadata": {
        "id": "737bc1c8"
      },
      "source": [
        "<h3>Time Series Forecasting with LSTM</h3></n></n><h5>Preprocess Full Input Dataset</h5>"
      ]
    },
    {
      "cell_type": "code",
      "execution_count": null,
      "id": "bf23aa8b",
      "metadata": {
        "id": "bf23aa8b"
      },
      "outputs": [],
      "source": [
        "# Using MinMaxScaler to normalize the full dataset df\n",
        "\n",
        "full_scaler = MinMaxScaler()\n",
        "normalized_full_data = full_scaler.fit_transform(df)"
      ]
    },
    {
      "cell_type": "markdown",
      "id": "69910b6f",
      "metadata": {
        "id": "69910b6f"
      },
      "source": [
        "<h3>Create TimeSeriesGenerator for Forecasting</h3>"
      ]
    },
    {
      "cell_type": "code",
      "execution_count": null,
      "id": "b51a45dd",
      "metadata": {
        "id": "b51a45dd",
        "outputId": "50514065-e701-40bc-9549-ee785a19df35"
      },
      "outputs": [
        {
          "data": {
            "text/plain": [
              "40"
            ]
          },
          "execution_count": 50,
          "metadata": {},
          "output_type": "execute_result"
        }
      ],
      "source": [
        "# Number of steps of the input timeseries\n",
        "\n",
        "length40"
      ]
    },
    {
      "cell_type": "code",
      "execution_count": null,
      "id": "b60dee7a",
      "metadata": {
        "id": "b60dee7a"
      },
      "outputs": [],
      "source": [
        "# Create Timeseries Generator for forecasting\n",
        "\n",
        "forecast_tsGenerator = TimeseriesGenerator(normalized_full_data, normalized_full_data, length=length40, batch_size=batch_size22)"
      ]
    },
    {
      "cell_type": "markdown",
      "id": "d8956f3d",
      "metadata": {
        "id": "d8956f3d"
      },
      "source": [
        "<h3>Build, Compile, and fit LSTM Model for Forecasting</h3>"
      ]
    },
    {
      "cell_type": "code",
      "execution_count": null,
      "id": "c26c2143",
      "metadata": {
        "id": "c26c2143",
        "outputId": "c26db151-bab7-4d4c-c955-edeced758551"
      },
      "outputs": [
        {
          "name": "stdout",
          "output_type": "stream",
          "text": [
            "Epoch 1/50\n"
          ]
        },
        {
          "name": "stderr",
          "output_type": "stream",
          "text": [
            "C:\\Users\\Phani\\AppData\\Local\\Temp\\ipykernel_9920\\1146977592.py:3: UserWarning: `Model.fit_generator` is deprecated and will be removed in a future version. Please use `Model.fit`, which supports generators.\n",
            "  model.fit_generator(forecast_tsGenerator, epochs = 50)\n"
          ]
        },
        {
          "name": "stdout",
          "output_type": "stream",
          "text": [
            "23/23 [==============================] - 2s 73ms/step - loss: 0.0061\n",
            "Epoch 2/50\n",
            "23/23 [==============================] - 2s 73ms/step - loss: 0.0064\n",
            "Epoch 3/50\n",
            "23/23 [==============================] - 1s 40ms/step - loss: 0.0065\n",
            "Epoch 4/50\n",
            "23/23 [==============================] - 1s 34ms/step - loss: 0.0052\n",
            "Epoch 5/50\n",
            "23/23 [==============================] - 1s 34ms/step - loss: 0.0054\n",
            "Epoch 6/50\n",
            "23/23 [==============================] - 1s 34ms/step - loss: 0.0053\n",
            "Epoch 7/50\n",
            "23/23 [==============================] - 1s 34ms/step - loss: 0.0049\n",
            "Epoch 8/50\n",
            "23/23 [==============================] - 1s 34ms/step - loss: 0.0051\n",
            "Epoch 9/50\n",
            "23/23 [==============================] - 1s 34ms/step - loss: 0.0048\n",
            "Epoch 10/50\n",
            "23/23 [==============================] - 1s 45ms/step - loss: 0.0050\n",
            "Epoch 11/50\n",
            "23/23 [==============================] - 2s 68ms/step - loss: 0.0045\n",
            "Epoch 12/50\n",
            "23/23 [==============================] - 2s 68ms/step - loss: 0.0048\n",
            "Epoch 13/50\n",
            "23/23 [==============================] - 2s 72ms/step - loss: 0.0047\n",
            "Epoch 14/50\n",
            "23/23 [==============================] - 2s 73ms/step - loss: 0.0051\n",
            "Epoch 15/50\n",
            "23/23 [==============================] - 2s 73ms/step - loss: 0.0049\n",
            "Epoch 16/50\n",
            "23/23 [==============================] - 2s 74ms/step - loss: 0.0053\n",
            "Epoch 17/50\n",
            "23/23 [==============================] - 2s 69ms/step - loss: 0.0052\n",
            "Epoch 18/50\n",
            "23/23 [==============================] - 2s 70ms/step - loss: 0.0049\n",
            "Epoch 19/50\n",
            "23/23 [==============================] - 2s 69ms/step - loss: 0.0052\n",
            "Epoch 20/50\n",
            "23/23 [==============================] - 2s 68ms/step - loss: 0.0050\n",
            "Epoch 21/50\n",
            "23/23 [==============================] - 2s 69ms/step - loss: 0.0045\n",
            "Epoch 22/50\n",
            "23/23 [==============================] - 2s 67ms/step - loss: 0.0044\n",
            "Epoch 23/50\n",
            "23/23 [==============================] - 2s 70ms/step - loss: 0.0045\n",
            "Epoch 24/50\n",
            "23/23 [==============================] - 2s 73ms/step - loss: 0.0044\n",
            "Epoch 25/50\n",
            "23/23 [==============================] - 2s 73ms/step - loss: 0.0043\n",
            "Epoch 26/50\n",
            "23/23 [==============================] - 2s 71ms/step - loss: 0.0045\n",
            "Epoch 27/50\n",
            "23/23 [==============================] - 2s 67ms/step - loss: 0.0052\n",
            "Epoch 28/50\n",
            "23/23 [==============================] - 2s 69ms/step - loss: 0.0043\n",
            "Epoch 29/50\n",
            "23/23 [==============================] - 2s 68ms/step - loss: 0.0044\n",
            "Epoch 30/50\n",
            "23/23 [==============================] - 2s 68ms/step - loss: 0.0042\n",
            "Epoch 31/50\n",
            "23/23 [==============================] - 2s 69ms/step - loss: 0.0042\n",
            "Epoch 32/50\n",
            "23/23 [==============================] - 2s 68ms/step - loss: 0.0041\n",
            "Epoch 33/50\n",
            "23/23 [==============================] - 2s 72ms/step - loss: 0.0042\n",
            "Epoch 34/50\n",
            "23/23 [==============================] - 2s 73ms/step - loss: 0.0044\n",
            "Epoch 35/50\n",
            "23/23 [==============================] - 2s 72ms/step - loss: 0.0039\n",
            "Epoch 36/50\n",
            "23/23 [==============================] - 2s 70ms/step - loss: 0.0040\n",
            "Epoch 37/50\n",
            "23/23 [==============================] - 2s 69ms/step - loss: 0.0038\n",
            "Epoch 38/50\n",
            "23/23 [==============================] - 2s 68ms/step - loss: 0.0038\n",
            "Epoch 39/50\n",
            "23/23 [==============================] - 2s 70ms/step - loss: 0.0039\n",
            "Epoch 40/50\n",
            "23/23 [==============================] - 2s 71ms/step - loss: 0.0036\n",
            "Epoch 41/50\n",
            "23/23 [==============================] - 2s 69ms/step - loss: 0.0036\n",
            "Epoch 42/50\n",
            "23/23 [==============================] - 2s 70ms/step - loss: 0.0041\n",
            "Epoch 43/50\n",
            "23/23 [==============================] - 2s 73ms/step - loss: 0.0033\n",
            "Epoch 44/50\n",
            "23/23 [==============================] - 2s 77ms/step - loss: 0.0039\n",
            "Epoch 45/50\n",
            "23/23 [==============================] - 2s 73ms/step - loss: 0.0037\n",
            "Epoch 46/50\n",
            "23/23 [==============================] - 2s 69ms/step - loss: 0.0039\n",
            "Epoch 47/50\n",
            "23/23 [==============================] - 2s 70ms/step - loss: 0.0043\n",
            "Epoch 48/50\n",
            "23/23 [==============================] - 2s 68ms/step - loss: 0.0043\n",
            "Epoch 49/50\n",
            "23/23 [==============================] - 2s 69ms/step - loss: 0.0038\n",
            "Epoch 50/50\n",
            "23/23 [==============================] - 2s 70ms/step - loss: 0.0042\n"
          ]
        },
        {
          "data": {
            "text/plain": [
              "<keras.callbacks.History at 0x1b3fb6b6e20>"
            ]
          },
          "execution_count": 52,
          "metadata": {},
          "output_type": "execute_result"
        }
      ],
      "source": [
        "# Train/Fit LSTM Model\n",
        "\n",
        "model.fit_generator(forecast_tsGenerator, epochs = 50)"
      ]
    },
    {
      "cell_type": "markdown",
      "id": "6254b1c3",
      "metadata": {
        "id": "6254b1c3"
      },
      "source": [
        "<h3>Time Series Forecasting Using LSTM Neural Network </h3>"
      ]
    },
    {
      "cell_type": "code",
      "execution_count": null,
      "id": "5780c078",
      "metadata": {
        "id": "5780c078",
        "outputId": "8bcc107b-433b-42f7-889a-4cee046714fe"
      },
      "outputs": [
        {
          "name": "stdout",
          "output_type": "stream",
          "text": [
            "1/1 [==============================] - 1s 1s/step\n",
            "1/1 [==============================] - 0s 47ms/step\n",
            "1/1 [==============================] - 0s 62ms/step\n",
            "1/1 [==============================] - 0s 47ms/step\n",
            "1/1 [==============================] - 0s 47ms/step\n",
            "1/1 [==============================] - 0s 47ms/step\n",
            "1/1 [==============================] - 0s 47ms/step\n",
            "1/1 [==============================] - 0s 62ms/step\n",
            "1/1 [==============================] - 0s 63ms/step\n",
            "1/1 [==============================] - 0s 62ms/step\n",
            "1/1 [==============================] - 0s 62ms/step\n",
            "1/1 [==============================] - 0s 47ms/step\n",
            "1/1 [==============================] - 0s 62ms/step\n",
            "1/1 [==============================] - 0s 47ms/step\n",
            "1/1 [==============================] - 0s 62ms/step\n",
            "1/1 [==============================] - 0s 47ms/step\n",
            "1/1 [==============================] - 0s 47ms/step\n",
            "1/1 [==============================] - 0s 47ms/step\n",
            "1/1 [==============================] - 0s 47ms/step\n",
            "1/1 [==============================] - 0s 62ms/step\n",
            "1/1 [==============================] - 0s 47ms/step\n",
            "1/1 [==============================] - 0s 31ms/step\n",
            "1/1 [==============================] - 0s 47ms/step\n",
            "1/1 [==============================] - 0s 47ms/step\n",
            "1/1 [==============================] - 0s 47ms/step\n",
            "1/1 [==============================] - 0s 47ms/step\n",
            "1/1 [==============================] - 0s 77ms/step\n",
            "1/1 [==============================] - 0s 47ms/step\n",
            "1/1 [==============================] - 0s 47ms/step\n",
            "1/1 [==============================] - 0s 47ms/step\n"
          ]
        }
      ],
      "source": [
        "forecast = []\n",
        "\n",
        "# Set periods with the time span of forecasting\n",
        "# Let's forecast for the next 30 business days (03/01/2022-04/11/2022)\n",
        "\n",
        "periods = 30\n",
        "\n",
        "first_eval_batch = normalized_full_data[-length40:]\n",
        "current_batch = first_eval_batch.reshape((1, length40, n_features))\n",
        "\n",
        "for i in range(periods):\n",
        "\n",
        "    #get prediction 1 time stamp ahead ([0] is for grabbing just the number instead of [array])\n",
        "\n",
        "    current_pred = model.predict(current_batch)[0]\n",
        "\n",
        "    #store prediction\n",
        "\n",
        "    forecast.append(current_pred)\n",
        "\n",
        "    # update batch now include prediction and drop first value\n",
        "\n",
        "    current_batch = np.append(current_batch[:,1:,:],[[current_pred]],axis=1)"
      ]
    },
    {
      "cell_type": "markdown",
      "id": "841e390b",
      "metadata": {
        "id": "841e390b"
      },
      "source": [
        "<h3>Inverse to Transform Normalized Data Back into True Values</h3>"
      ]
    },
    {
      "cell_type": "code",
      "execution_count": null,
      "id": "bd81de97",
      "metadata": {
        "id": "bd81de97",
        "outputId": "1e38a354-5e19-45d3-c179-35c649b6d08a"
      },
      "outputs": [
        {
          "data": {
            "text/plain": [
              "array([[135.92261479],\n",
              "       [135.87256522],\n",
              "       [135.96691221],\n",
              "       [136.12210715],\n",
              "       [136.29338489],\n",
              "       [136.46067098],\n",
              "       [136.61456151],\n",
              "       [136.75118977],\n",
              "       [136.86796436],\n",
              "       [136.96492888],\n",
              "       [137.04208041],\n",
              "       [137.1022718 ],\n",
              "       [137.14804793],\n",
              "       [137.18009441],\n",
              "       [137.20229832],\n",
              "       [137.21914807],\n",
              "       [137.23369696],\n",
              "       [137.24974199],\n",
              "       [137.26804431],\n",
              "       [137.28966719],\n",
              "       [137.31540664],\n",
              "       [137.34476879],\n",
              "       [137.37832013],\n",
              "       [137.41607811],\n",
              "       [137.45722055],\n",
              "       [137.50066096],\n",
              "       [137.54478117],\n",
              "       [137.58815475],\n",
              "       [137.63006416],\n",
              "       [137.67201133]])"
            ]
          },
          "execution_count": 54,
          "metadata": {},
          "output_type": "execute_result"
        }
      ],
      "source": [
        "forecast = full_scaler.inverse_transform(forecast)\n",
        "forecast"
      ]
    },
    {
      "cell_type": "code",
      "execution_count": null,
      "id": "58c49cf1",
      "metadata": {
        "id": "58c49cf1",
        "outputId": "c542287a-e404-4af7-d8cb-875bf0c4077e"
      },
      "outputs": [
        {
          "data": {
            "text/html": [
              "<div>\n",
              "<style scoped>\n",
              "    .dataframe tbody tr th:only-of-type {\n",
              "        vertical-align: middle;\n",
              "    }\n",
              "\n",
              "    .dataframe tbody tr th {\n",
              "        vertical-align: top;\n",
              "    }\n",
              "\n",
              "    .dataframe thead th {\n",
              "        text-align: right;\n",
              "    }\n",
              "</style>\n",
              "<table border=\"1\" class=\"dataframe\">\n",
              "  <thead>\n",
              "    <tr style=\"text-align: right;\">\n",
              "      <th></th>\n",
              "      <th>Close</th>\n",
              "    </tr>\n",
              "  </thead>\n",
              "  <tbody>\n",
              "    <tr>\n",
              "      <th>0</th>\n",
              "      <td>118.940002</td>\n",
              "    </tr>\n",
              "    <tr>\n",
              "      <th>1</th>\n",
              "      <td>117.889999</td>\n",
              "    </tr>\n",
              "    <tr>\n",
              "      <th>2</th>\n",
              "      <td>117.650002</td>\n",
              "    </tr>\n",
              "    <tr>\n",
              "      <th>3</th>\n",
              "      <td>116.559998</td>\n",
              "    </tr>\n",
              "    <tr>\n",
              "      <th>4</th>\n",
              "      <td>116.160004</td>\n",
              "    </tr>\n",
              "    <tr>\n",
              "      <th>...</th>\n",
              "      <td>...</td>\n",
              "    </tr>\n",
              "    <tr>\n",
              "      <th>539</th>\n",
              "      <td>136.449997</td>\n",
              "    </tr>\n",
              "    <tr>\n",
              "      <th>540</th>\n",
              "      <td>135.050003</td>\n",
              "    </tr>\n",
              "    <tr>\n",
              "      <th>541</th>\n",
              "      <td>134.529999</td>\n",
              "    </tr>\n",
              "    <tr>\n",
              "      <th>542</th>\n",
              "      <td>136.380005</td>\n",
              "    </tr>\n",
              "    <tr>\n",
              "      <th>543</th>\n",
              "      <td>135.160004</td>\n",
              "    </tr>\n",
              "  </tbody>\n",
              "</table>\n",
              "<p>544 rows × 1 columns</p>\n",
              "</div>"
            ],
            "text/plain": [
              "          Close\n",
              "0    118.940002\n",
              "1    117.889999\n",
              "2    117.650002\n",
              "3    116.559998\n",
              "4    116.160004\n",
              "..          ...\n",
              "539  136.449997\n",
              "540  135.050003\n",
              "541  134.529999\n",
              "542  136.380005\n",
              "543  135.160004\n",
              "\n",
              "[544 rows x 1 columns]"
            ]
          },
          "execution_count": 55,
          "metadata": {},
          "output_type": "execute_result"
        }
      ],
      "source": [
        "df"
      ]
    },
    {
      "cell_type": "markdown",
      "id": "00af65b5",
      "metadata": {
        "id": "00af65b5"
      },
      "source": [
        "<h3>Creating new timestamp index with pandas</h3>"
      ]
    },
    {
      "cell_type": "code",
      "execution_count": null,
      "id": "1243f085",
      "metadata": {
        "id": "1243f085"
      },
      "outputs": [],
      "source": [
        "# Calculate forecast index\n",
        "\n",
        "forecast_index = np.arange(544, 574, step=1)"
      ]
    },
    {
      "cell_type": "code",
      "execution_count": null,
      "id": "e5095be5",
      "metadata": {
        "id": "e5095be5",
        "outputId": "9d1c7908-6ba6-4a11-d64c-dbc6258dfb41"
      },
      "outputs": [
        {
          "data": {
            "text/html": [
              "<div>\n",
              "<style scoped>\n",
              "    .dataframe tbody tr th:only-of-type {\n",
              "        vertical-align: middle;\n",
              "    }\n",
              "\n",
              "    .dataframe tbody tr th {\n",
              "        vertical-align: top;\n",
              "    }\n",
              "\n",
              "    .dataframe thead th {\n",
              "        text-align: right;\n",
              "    }\n",
              "</style>\n",
              "<table border=\"1\" class=\"dataframe\">\n",
              "  <thead>\n",
              "    <tr style=\"text-align: right;\">\n",
              "      <th></th>\n",
              "      <th>Forecast</th>\n",
              "    </tr>\n",
              "  </thead>\n",
              "  <tbody>\n",
              "    <tr>\n",
              "      <th>544</th>\n",
              "      <td>135.922615</td>\n",
              "    </tr>\n",
              "    <tr>\n",
              "      <th>545</th>\n",
              "      <td>135.872565</td>\n",
              "    </tr>\n",
              "    <tr>\n",
              "      <th>546</th>\n",
              "      <td>135.966912</td>\n",
              "    </tr>\n",
              "    <tr>\n",
              "      <th>547</th>\n",
              "      <td>136.122107</td>\n",
              "    </tr>\n",
              "    <tr>\n",
              "      <th>548</th>\n",
              "      <td>136.293385</td>\n",
              "    </tr>\n",
              "    <tr>\n",
              "      <th>549</th>\n",
              "      <td>136.460671</td>\n",
              "    </tr>\n",
              "    <tr>\n",
              "      <th>550</th>\n",
              "      <td>136.614562</td>\n",
              "    </tr>\n",
              "    <tr>\n",
              "      <th>551</th>\n",
              "      <td>136.751190</td>\n",
              "    </tr>\n",
              "    <tr>\n",
              "      <th>552</th>\n",
              "      <td>136.867964</td>\n",
              "    </tr>\n",
              "    <tr>\n",
              "      <th>553</th>\n",
              "      <td>136.964929</td>\n",
              "    </tr>\n",
              "    <tr>\n",
              "      <th>554</th>\n",
              "      <td>137.042080</td>\n",
              "    </tr>\n",
              "    <tr>\n",
              "      <th>555</th>\n",
              "      <td>137.102272</td>\n",
              "    </tr>\n",
              "    <tr>\n",
              "      <th>556</th>\n",
              "      <td>137.148048</td>\n",
              "    </tr>\n",
              "    <tr>\n",
              "      <th>557</th>\n",
              "      <td>137.180094</td>\n",
              "    </tr>\n",
              "    <tr>\n",
              "      <th>558</th>\n",
              "      <td>137.202298</td>\n",
              "    </tr>\n",
              "    <tr>\n",
              "      <th>559</th>\n",
              "      <td>137.219148</td>\n",
              "    </tr>\n",
              "    <tr>\n",
              "      <th>560</th>\n",
              "      <td>137.233697</td>\n",
              "    </tr>\n",
              "    <tr>\n",
              "      <th>561</th>\n",
              "      <td>137.249742</td>\n",
              "    </tr>\n",
              "    <tr>\n",
              "      <th>562</th>\n",
              "      <td>137.268044</td>\n",
              "    </tr>\n",
              "    <tr>\n",
              "      <th>563</th>\n",
              "      <td>137.289667</td>\n",
              "    </tr>\n",
              "    <tr>\n",
              "      <th>564</th>\n",
              "      <td>137.315407</td>\n",
              "    </tr>\n",
              "    <tr>\n",
              "      <th>565</th>\n",
              "      <td>137.344769</td>\n",
              "    </tr>\n",
              "    <tr>\n",
              "      <th>566</th>\n",
              "      <td>137.378320</td>\n",
              "    </tr>\n",
              "    <tr>\n",
              "      <th>567</th>\n",
              "      <td>137.416078</td>\n",
              "    </tr>\n",
              "    <tr>\n",
              "      <th>568</th>\n",
              "      <td>137.457221</td>\n",
              "    </tr>\n",
              "    <tr>\n",
              "      <th>569</th>\n",
              "      <td>137.500661</td>\n",
              "    </tr>\n",
              "    <tr>\n",
              "      <th>570</th>\n",
              "      <td>137.544781</td>\n",
              "    </tr>\n",
              "    <tr>\n",
              "      <th>571</th>\n",
              "      <td>137.588155</td>\n",
              "    </tr>\n",
              "    <tr>\n",
              "      <th>572</th>\n",
              "      <td>137.630064</td>\n",
              "    </tr>\n",
              "    <tr>\n",
              "      <th>573</th>\n",
              "      <td>137.672011</td>\n",
              "    </tr>\n",
              "  </tbody>\n",
              "</table>\n",
              "</div>"
            ],
            "text/plain": [
              "       Forecast\n",
              "544  135.922615\n",
              "545  135.872565\n",
              "546  135.966912\n",
              "547  136.122107\n",
              "548  136.293385\n",
              "549  136.460671\n",
              "550  136.614562\n",
              "551  136.751190\n",
              "552  136.867964\n",
              "553  136.964929\n",
              "554  137.042080\n",
              "555  137.102272\n",
              "556  137.148048\n",
              "557  137.180094\n",
              "558  137.202298\n",
              "559  137.219148\n",
              "560  137.233697\n",
              "561  137.249742\n",
              "562  137.268044\n",
              "563  137.289667\n",
              "564  137.315407\n",
              "565  137.344769\n",
              "566  137.378320\n",
              "567  137.416078\n",
              "568  137.457221\n",
              "569  137.500661\n",
              "570  137.544781\n",
              "571  137.588155\n",
              "572  137.630064\n",
              "573  137.672011"
            ]
          },
          "execution_count": 57,
          "metadata": {},
          "output_type": "execute_result"
        }
      ],
      "source": [
        "forecast_df = pd.DataFrame(data=forecast,index=forecast_index, columns=['Forecast'])\n",
        "forecast_df"
      ]
    },
    {
      "cell_type": "markdown",
      "id": "d118233d",
      "metadata": {
        "id": "d118233d"
      },
      "source": [
        "<h3>Plot the Forecast</h3>"
      ]
    },
    {
      "cell_type": "code",
      "execution_count": null,
      "id": "2e111122",
      "metadata": {
        "id": "2e111122",
        "outputId": "8a44ee3e-ad06-4636-8e9f-73d043e7a1f2"
      },
      "outputs": [
        {
          "data": {
            "text/plain": [
              "<AxesSubplot:>"
            ]
          },
          "execution_count": 58,
          "metadata": {},
          "output_type": "execute_result"
        },
        {
          "data": {
            "image/png": "[encoded data removed]",
            "text/plain": [
              "<Figure size 432x288 with 1 Axes>"
            ]
          },
          "metadata": {
            "needs_background": "light"
          },
          "output_type": "display_data"
        },
        {
          "data": {
            "image/png": "[encoded data removed]",
            "text/plain": [
              "<Figure size 432x288 with 1 Axes>"
            ]
          },
          "metadata": {
            "needs_background": "light"
          },
          "output_type": "display_data"
        }
      ],
      "source": [
        "df.plot()\n",
        "forecast_df.plot()"
      ]
    },
    {
      "cell_type": "markdown",
      "id": "a21e8b71",
      "metadata": {
        "id": "a21e8b71"
      },
      "source": [
        "<h3>Joining Pandas Plots</h3>"
      ]
    },
    {
      "cell_type": "code",
      "execution_count": null,
      "id": "62d77f43",
      "metadata": {
        "id": "62d77f43",
        "outputId": "1f0cd98a-8436-46a8-90fb-0ab3931ab4db"
      },
      "outputs": [
        {
          "data": {
            "text/plain": [
              "<AxesSubplot:>"
            ]
          },
          "execution_count": 59,
          "metadata": {},
          "output_type": "execute_result"
        },
        {
          "data": {
            "image/png": "[encoded data removed]",
            "text/plain": [
              "<Figure size 864x576 with 1 Axes>"
            ]
          },
          "metadata": {
            "needs_background": "light"
          },
          "output_type": "display_data"
        }
      ],
      "source": [
        "ax = df.plot()\n",
        "forecast_df.plot(ax=ax, figsize=(12, 8))"
      ]
    },
    {
      "cell_type": "code",
      "execution_count": null,
      "id": "2e6ef640",
      "metadata": {
        "id": "2e6ef640"
      },
      "outputs": [],
      "source": [
        "# Selecting the dataset (actual close price)\n",
        "dir_path_dataset_2 = 'D:\\Downloads\\WMT-03012020-04112022.csv'"
      ]
    },
    {
      "cell_type": "code",
      "execution_count": null,
      "id": "7d42313b",
      "metadata": {
        "id": "7d42313b"
      },
      "outputs": [],
      "source": [
        "# Creating a dataframe called df_ALL_MAR_APR_2022\n",
        "df_ALL_MAR_APR_2022 = pd.read_csv(dir_path_dataset_2)"
      ]
    },
    {
      "cell_type": "code",
      "execution_count": null,
      "id": "748057ec",
      "metadata": {
        "id": "748057ec",
        "outputId": "6f8368e5-5a9f-4b2d-be84-158f284d4acd"
      },
      "outputs": [
        {
          "data": {
            "text/html": [
              "<div>\n",
              "<style scoped>\n",
              "    .dataframe tbody tr th:only-of-type {\n",
              "        vertical-align: middle;\n",
              "    }\n",
              "\n",
              "    .dataframe tbody tr th {\n",
              "        vertical-align: top;\n",
              "    }\n",
              "\n",
              "    .dataframe thead th {\n",
              "        text-align: right;\n",
              "    }\n",
              "</style>\n",
              "<table border=\"1\" class=\"dataframe\">\n",
              "  <thead>\n",
              "    <tr style=\"text-align: right;\">\n",
              "      <th></th>\n",
              "      <th>Date</th>\n",
              "      <th>Open</th>\n",
              "      <th>High</th>\n",
              "      <th>Low</th>\n",
              "      <th>Close</th>\n",
              "      <th>Adj Close</th>\n",
              "      <th>Volume</th>\n",
              "    </tr>\n",
              "  </thead>\n",
              "  <tbody>\n",
              "    <tr>\n",
              "      <th>0</th>\n",
              "      <td>3/1/2022</td>\n",
              "      <td>135.869995</td>\n",
              "      <td>137.889999</td>\n",
              "      <td>135.020004</td>\n",
              "      <td>135.990005</td>\n",
              "      <td>133.338913</td>\n",
              "      <td>8008300</td>\n",
              "    </tr>\n",
              "    <tr>\n",
              "      <th>1</th>\n",
              "      <td>3/2/2022</td>\n",
              "      <td>135.660004</td>\n",
              "      <td>136.830002</td>\n",
              "      <td>135.179993</td>\n",
              "      <td>136.160004</td>\n",
              "      <td>133.505585</td>\n",
              "      <td>7954600</td>\n",
              "    </tr>\n",
              "    <tr>\n",
              "      <th>2</th>\n",
              "      <td>3/3/2022</td>\n",
              "      <td>137.289993</td>\n",
              "      <td>140.470001</td>\n",
              "      <td>136.550003</td>\n",
              "      <td>139.289993</td>\n",
              "      <td>136.574570</td>\n",
              "      <td>9961700</td>\n",
              "    </tr>\n",
              "    <tr>\n",
              "      <th>3</th>\n",
              "      <td>3/4/2022</td>\n",
              "      <td>137.809998</td>\n",
              "      <td>142.940002</td>\n",
              "      <td>137.589996</td>\n",
              "      <td>142.820007</td>\n",
              "      <td>140.035751</td>\n",
              "      <td>11858800</td>\n",
              "    </tr>\n",
              "    <tr>\n",
              "      <th>4</th>\n",
              "      <td>3/7/2022</td>\n",
              "      <td>141.300003</td>\n",
              "      <td>143.630005</td>\n",
              "      <td>140.449997</td>\n",
              "      <td>141.669998</td>\n",
              "      <td>138.908173</td>\n",
              "      <td>15290000</td>\n",
              "    </tr>\n",
              "  </tbody>\n",
              "</table>\n",
              "</div>"
            ],
            "text/plain": [
              "       Date        Open        High         Low       Close   Adj Close  \\\n",
              "0  3/1/2022  135.869995  137.889999  135.020004  135.990005  133.338913   \n",
              "1  3/2/2022  135.660004  136.830002  135.179993  136.160004  133.505585   \n",
              "2  3/3/2022  137.289993  140.470001  136.550003  139.289993  136.574570   \n",
              "3  3/4/2022  137.809998  142.940002  137.589996  142.820007  140.035751   \n",
              "4  3/7/2022  141.300003  143.630005  140.449997  141.669998  138.908173   \n",
              "\n",
              "     Volume  \n",
              "0   8008300  \n",
              "1   7954600  \n",
              "2   9961700  \n",
              "3  11858800  \n",
              "4  15290000  "
            ]
          },
          "execution_count": 62,
          "metadata": {},
          "output_type": "execute_result"
        }
      ],
      "source": [
        "# Print the first 5 rows of the dataframe\n",
        "df_ALL_MAR_APR_2022.head()"
      ]
    },
    {
      "cell_type": "code",
      "execution_count": null,
      "id": "b83e9a69",
      "metadata": {
        "id": "b83e9a69",
        "outputId": "a8cdd3e5-1a58-48bd-c7c4-b8e9241ffb6f"
      },
      "outputs": [
        {
          "data": {
            "text/html": [
              "<div>\n",
              "<style scoped>\n",
              "    .dataframe tbody tr th:only-of-type {\n",
              "        vertical-align: middle;\n",
              "    }\n",
              "\n",
              "    .dataframe tbody tr th {\n",
              "        vertical-align: top;\n",
              "    }\n",
              "\n",
              "    .dataframe thead th {\n",
              "        text-align: right;\n",
              "    }\n",
              "</style>\n",
              "<table border=\"1\" class=\"dataframe\">\n",
              "  <thead>\n",
              "    <tr style=\"text-align: right;\">\n",
              "      <th></th>\n",
              "      <th>Close</th>\n",
              "    </tr>\n",
              "  </thead>\n",
              "  <tbody>\n",
              "    <tr>\n",
              "      <th>0</th>\n",
              "      <td>135.990005</td>\n",
              "    </tr>\n",
              "    <tr>\n",
              "      <th>1</th>\n",
              "      <td>136.160004</td>\n",
              "    </tr>\n",
              "    <tr>\n",
              "      <th>2</th>\n",
              "      <td>139.289993</td>\n",
              "    </tr>\n",
              "    <tr>\n",
              "      <th>3</th>\n",
              "      <td>142.820007</td>\n",
              "    </tr>\n",
              "    <tr>\n",
              "      <th>4</th>\n",
              "      <td>141.669998</td>\n",
              "    </tr>\n",
              "    <tr>\n",
              "      <th>5</th>\n",
              "      <td>138.740005</td>\n",
              "    </tr>\n",
              "    <tr>\n",
              "      <th>6</th>\n",
              "      <td>139.460007</td>\n",
              "    </tr>\n",
              "    <tr>\n",
              "      <th>7</th>\n",
              "      <td>142.630005</td>\n",
              "    </tr>\n",
              "    <tr>\n",
              "      <th>8</th>\n",
              "      <td>142.070007</td>\n",
              "    </tr>\n",
              "    <tr>\n",
              "      <th>9</th>\n",
              "      <td>144.050003</td>\n",
              "    </tr>\n",
              "    <tr>\n",
              "      <th>10</th>\n",
              "      <td>145.779999</td>\n",
              "    </tr>\n",
              "    <tr>\n",
              "      <th>11</th>\n",
              "      <td>145.350006</td>\n",
              "    </tr>\n",
              "    <tr>\n",
              "      <th>12</th>\n",
              "      <td>145.009995</td>\n",
              "    </tr>\n",
              "    <tr>\n",
              "      <th>13</th>\n",
              "      <td>145.440002</td>\n",
              "    </tr>\n",
              "    <tr>\n",
              "      <th>14</th>\n",
              "      <td>144.229996</td>\n",
              "    </tr>\n",
              "    <tr>\n",
              "      <th>15</th>\n",
              "      <td>143.800003</td>\n",
              "    </tr>\n",
              "    <tr>\n",
              "      <th>16</th>\n",
              "      <td>141.949997</td>\n",
              "    </tr>\n",
              "    <tr>\n",
              "      <th>17</th>\n",
              "      <td>142.830002</td>\n",
              "    </tr>\n",
              "    <tr>\n",
              "      <th>18</th>\n",
              "      <td>143.449997</td>\n",
              "    </tr>\n",
              "    <tr>\n",
              "      <th>19</th>\n",
              "      <td>146.000000</td>\n",
              "    </tr>\n",
              "    <tr>\n",
              "      <th>20</th>\n",
              "      <td>147.229996</td>\n",
              "    </tr>\n",
              "    <tr>\n",
              "      <th>21</th>\n",
              "      <td>149.869995</td>\n",
              "    </tr>\n",
              "    <tr>\n",
              "      <th>22</th>\n",
              "      <td>148.919998</td>\n",
              "    </tr>\n",
              "    <tr>\n",
              "      <th>23</th>\n",
              "      <td>151.009995</td>\n",
              "    </tr>\n",
              "    <tr>\n",
              "      <th>24</th>\n",
              "      <td>151.039993</td>\n",
              "    </tr>\n",
              "    <tr>\n",
              "      <th>25</th>\n",
              "      <td>151.470001</td>\n",
              "    </tr>\n",
              "    <tr>\n",
              "      <th>26</th>\n",
              "      <td>154.990005</td>\n",
              "    </tr>\n",
              "    <tr>\n",
              "      <th>27</th>\n",
              "      <td>156.539993</td>\n",
              "    </tr>\n",
              "    <tr>\n",
              "      <th>28</th>\n",
              "      <td>157.410004</td>\n",
              "    </tr>\n",
              "    <tr>\n",
              "      <th>29</th>\n",
              "      <td>154.289993</td>\n",
              "    </tr>\n",
              "  </tbody>\n",
              "</table>\n",
              "</div>"
            ],
            "text/plain": [
              "         Close\n",
              "0   135.990005\n",
              "1   136.160004\n",
              "2   139.289993\n",
              "3   142.820007\n",
              "4   141.669998\n",
              "5   138.740005\n",
              "6   139.460007\n",
              "7   142.630005\n",
              "8   142.070007\n",
              "9   144.050003\n",
              "10  145.779999\n",
              "11  145.350006\n",
              "12  145.009995\n",
              "13  145.440002\n",
              "14  144.229996\n",
              "15  143.800003\n",
              "16  141.949997\n",
              "17  142.830002\n",
              "18  143.449997\n",
              "19  146.000000\n",
              "20  147.229996\n",
              "21  149.869995\n",
              "22  148.919998\n",
              "23  151.009995\n",
              "24  151.039993\n",
              "25  151.470001\n",
              "26  154.990005\n",
              "27  156.539993\n",
              "28  157.410004\n",
              "29  154.289993"
            ]
          },
          "execution_count": 63,
          "metadata": {},
          "output_type": "execute_result"
        }
      ],
      "source": [
        "df_ALL_MAR_APR_2022 = df_ALL_MAR_APR_2022.iloc[:,4:5]\n",
        "df_ALL_MAR_APR_2022"
      ]
    },
    {
      "cell_type": "code",
      "execution_count": null,
      "id": "91066d54",
      "metadata": {
        "id": "91066d54",
        "outputId": "25220fbc-7085-442c-92b6-21ca262a869c"
      },
      "outputs": [
        {
          "data": {
            "text/plain": [
              "<AxesSubplot:>"
            ]
          },
          "execution_count": 64,
          "metadata": {},
          "output_type": "execute_result"
        },
        {
          "data": {
            "image/png": "[encoded data removed]",
            "text/plain": [
              "<Figure size 432x288 with 1 Axes>"
            ]
          },
          "metadata": {
            "needs_background": "light"
          },
          "output_type": "display_data"
        }
      ],
      "source": [
        "# Plot stock close values\n",
        "df_ALL_MAR_APR_2022.plot()"
      ]
    },
    {
      "cell_type": "code",
      "execution_count": null,
      "id": "ea36c757",
      "metadata": {
        "id": "ea36c757",
        "outputId": "7286ffb1-f580-4420-b3a9-9eb0e7999df0"
      },
      "outputs": [
        {
          "data": {
            "text/plain": [
              "array([135.92261479, 135.87256522, 135.96691221, 136.12210715,\n",
              "       136.29338489, 136.46067098, 136.61456151, 136.75118977,\n",
              "       136.86796436, 136.96492888, 137.04208041, 137.1022718 ,\n",
              "       137.14804793, 137.18009441, 137.20229832, 137.21914807,\n",
              "       137.23369696, 137.24974199, 137.26804431, 137.28966719,\n",
              "       137.31540664, 137.34476879, 137.37832013, 137.41607811,\n",
              "       137.45722055, 137.50066096, 137.54478117, 137.58815475,\n",
              "       137.63006416, 137.67201133])"
            ]
          },
          "execution_count": 65,
          "metadata": {},
          "output_type": "execute_result"
        }
      ],
      "source": [
        "forecast_df['Forecast'].values"
      ]
    },
    {
      "cell_type": "code",
      "execution_count": null,
      "id": "bc65bd58",
      "metadata": {
        "id": "bc65bd58",
        "outputId": "667f7310-0823-4e03-942f-8c8573e22d2a"
      },
      "outputs": [
        {
          "data": {
            "text/html": [
              "<div>\n",
              "<style scoped>\n",
              "    .dataframe tbody tr th:only-of-type {\n",
              "        vertical-align: middle;\n",
              "    }\n",
              "\n",
              "    .dataframe tbody tr th {\n",
              "        vertical-align: top;\n",
              "    }\n",
              "\n",
              "    .dataframe thead th {\n",
              "        text-align: right;\n",
              "    }\n",
              "</style>\n",
              "<table border=\"1\" class=\"dataframe\">\n",
              "  <thead>\n",
              "    <tr style=\"text-align: right;\">\n",
              "      <th></th>\n",
              "      <th>Close</th>\n",
              "      <th>Forecast</th>\n",
              "    </tr>\n",
              "  </thead>\n",
              "  <tbody>\n",
              "    <tr>\n",
              "      <th>0</th>\n",
              "      <td>135.990005</td>\n",
              "      <td>135.922615</td>\n",
              "    </tr>\n",
              "    <tr>\n",
              "      <th>1</th>\n",
              "      <td>136.160004</td>\n",
              "      <td>135.872565</td>\n",
              "    </tr>\n",
              "    <tr>\n",
              "      <th>2</th>\n",
              "      <td>139.289993</td>\n",
              "      <td>135.966912</td>\n",
              "    </tr>\n",
              "    <tr>\n",
              "      <th>3</th>\n",
              "      <td>142.820007</td>\n",
              "      <td>136.122107</td>\n",
              "    </tr>\n",
              "    <tr>\n",
              "      <th>4</th>\n",
              "      <td>141.669998</td>\n",
              "      <td>136.293385</td>\n",
              "    </tr>\n",
              "    <tr>\n",
              "      <th>5</th>\n",
              "      <td>138.740005</td>\n",
              "      <td>136.460671</td>\n",
              "    </tr>\n",
              "    <tr>\n",
              "      <th>6</th>\n",
              "      <td>139.460007</td>\n",
              "      <td>136.614562</td>\n",
              "    </tr>\n",
              "    <tr>\n",
              "      <th>7</th>\n",
              "      <td>142.630005</td>\n",
              "      <td>136.751190</td>\n",
              "    </tr>\n",
              "    <tr>\n",
              "      <th>8</th>\n",
              "      <td>142.070007</td>\n",
              "      <td>136.867964</td>\n",
              "    </tr>\n",
              "    <tr>\n",
              "      <th>9</th>\n",
              "      <td>144.050003</td>\n",
              "      <td>136.964929</td>\n",
              "    </tr>\n",
              "    <tr>\n",
              "      <th>10</th>\n",
              "      <td>145.779999</td>\n",
              "      <td>137.042080</td>\n",
              "    </tr>\n",
              "    <tr>\n",
              "      <th>11</th>\n",
              "      <td>145.350006</td>\n",
              "      <td>137.102272</td>\n",
              "    </tr>\n",
              "    <tr>\n",
              "      <th>12</th>\n",
              "      <td>145.009995</td>\n",
              "      <td>137.148048</td>\n",
              "    </tr>\n",
              "    <tr>\n",
              "      <th>13</th>\n",
              "      <td>145.440002</td>\n",
              "      <td>137.180094</td>\n",
              "    </tr>\n",
              "    <tr>\n",
              "      <th>14</th>\n",
              "      <td>144.229996</td>\n",
              "      <td>137.202298</td>\n",
              "    </tr>\n",
              "    <tr>\n",
              "      <th>15</th>\n",
              "      <td>143.800003</td>\n",
              "      <td>137.219148</td>\n",
              "    </tr>\n",
              "    <tr>\n",
              "      <th>16</th>\n",
              "      <td>141.949997</td>\n",
              "      <td>137.233697</td>\n",
              "    </tr>\n",
              "    <tr>\n",
              "      <th>17</th>\n",
              "      <td>142.830002</td>\n",
              "      <td>137.249742</td>\n",
              "    </tr>\n",
              "    <tr>\n",
              "      <th>18</th>\n",
              "      <td>143.449997</td>\n",
              "      <td>137.268044</td>\n",
              "    </tr>\n",
              "    <tr>\n",
              "      <th>19</th>\n",
              "      <td>146.000000</td>\n",
              "      <td>137.289667</td>\n",
              "    </tr>\n",
              "    <tr>\n",
              "      <th>20</th>\n",
              "      <td>147.229996</td>\n",
              "      <td>137.315407</td>\n",
              "    </tr>\n",
              "    <tr>\n",
              "      <th>21</th>\n",
              "      <td>149.869995</td>\n",
              "      <td>137.344769</td>\n",
              "    </tr>\n",
              "    <tr>\n",
              "      <th>22</th>\n",
              "      <td>148.919998</td>\n",
              "      <td>137.378320</td>\n",
              "    </tr>\n",
              "    <tr>\n",
              "      <th>23</th>\n",
              "      <td>151.009995</td>\n",
              "      <td>137.416078</td>\n",
              "    </tr>\n",
              "    <tr>\n",
              "      <th>24</th>\n",
              "      <td>151.039993</td>\n",
              "      <td>137.457221</td>\n",
              "    </tr>\n",
              "    <tr>\n",
              "      <th>25</th>\n",
              "      <td>151.470001</td>\n",
              "      <td>137.500661</td>\n",
              "    </tr>\n",
              "    <tr>\n",
              "      <th>26</th>\n",
              "      <td>154.990005</td>\n",
              "      <td>137.544781</td>\n",
              "    </tr>\n",
              "    <tr>\n",
              "      <th>27</th>\n",
              "      <td>156.539993</td>\n",
              "      <td>137.588155</td>\n",
              "    </tr>\n",
              "    <tr>\n",
              "      <th>28</th>\n",
              "      <td>157.410004</td>\n",
              "      <td>137.630064</td>\n",
              "    </tr>\n",
              "    <tr>\n",
              "      <th>29</th>\n",
              "      <td>154.289993</td>\n",
              "      <td>137.672011</td>\n",
              "    </tr>\n",
              "  </tbody>\n",
              "</table>\n",
              "</div>"
            ],
            "text/plain": [
              "         Close    Forecast\n",
              "0   135.990005  135.922615\n",
              "1   136.160004  135.872565\n",
              "2   139.289993  135.966912\n",
              "3   142.820007  136.122107\n",
              "4   141.669998  136.293385\n",
              "5   138.740005  136.460671\n",
              "6   139.460007  136.614562\n",
              "7   142.630005  136.751190\n",
              "8   142.070007  136.867964\n",
              "9   144.050003  136.964929\n",
              "10  145.779999  137.042080\n",
              "11  145.350006  137.102272\n",
              "12  145.009995  137.148048\n",
              "13  145.440002  137.180094\n",
              "14  144.229996  137.202298\n",
              "15  143.800003  137.219148\n",
              "16  141.949997  137.233697\n",
              "17  142.830002  137.249742\n",
              "18  143.449997  137.268044\n",
              "19  146.000000  137.289667\n",
              "20  147.229996  137.315407\n",
              "21  149.869995  137.344769\n",
              "22  148.919998  137.378320\n",
              "23  151.009995  137.416078\n",
              "24  151.039993  137.457221\n",
              "25  151.470001  137.500661\n",
              "26  154.990005  137.544781\n",
              "27  156.539993  137.588155\n",
              "28  157.410004  137.630064\n",
              "29  154.289993  137.672011"
            ]
          },
          "execution_count": 66,
          "metadata": {},
          "output_type": "execute_result"
        }
      ],
      "source": [
        "df_ALL_MAR_APR_2022['Forecast'] = forecast_df['Forecast'].values\n",
        "df_ALL_MAR_APR_2022"
      ]
    },
    {
      "cell_type": "code",
      "execution_count": null,
      "id": "9512bae7",
      "metadata": {
        "id": "9512bae7",
        "outputId": "ab403822-c719-4d13-e0d9-0f057d365cac"
      },
      "outputs": [
        {
          "data": {
            "text/plain": [
              "<AxesSubplot:>"
            ]
          },
          "execution_count": 67,
          "metadata": {},
          "output_type": "execute_result"
        },
        {
          "data": {
            "image/png": "[encoded data removed]",
            "text/plain": [
              "<Figure size 432x288 with 1 Axes>"
            ]
          },
          "metadata": {
            "needs_background": "light"
          },
          "output_type": "display_data"
        }
      ],
      "source": [
        "# Plot Actual Close and Forecast\n",
        "df_ALL_MAR_APR_2022.plot()"
      ]
    },
    {
      "cell_type": "code",
      "execution_count": null,
      "id": "e97f5d3f",
      "metadata": {
        "id": "e97f5d3f"
      },
      "outputs": [],
      "source": [
        "vipin katakam"
      ]
    }
  ],
  "metadata": {
    "kernelspec": {
      "display_name": "Python 3 (ipykernel)",
      "language": "python",
      "name": "python3"
    },
    "language_info": {
      "codemirror_mode": {
        "name": "ipython",
        "version": 3
      },
      "file_extension": ".py",
      "mimetype": "text/x-python",
      "name": "python",
      "nbconvert_exporter": "python",
      "pygments_lexer": "ipython3",
      "version": "3.9.13"
    },
    "colab": {
      "provenance": []
    }
  },
  "nbformat": 4,
  "nbformat_minor": 5
}