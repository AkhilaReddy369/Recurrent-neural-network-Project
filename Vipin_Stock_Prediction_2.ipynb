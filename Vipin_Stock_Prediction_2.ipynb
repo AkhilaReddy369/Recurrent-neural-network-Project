{
  "cells": [
    {
      "cell_type": "markdown",
      "id": "ba0efd83",
      "metadata": {
        "id": "ba0efd83"
      },
      "source": [
        "<h3>Import Basic Libraries</h3>"
      ]
    },
    {
      "cell_type": "code",
      "execution_count": null,
      "id": "622f8ab7",
      "metadata": {
        "id": "622f8ab7"
      },
      "outputs": [],
      "source": [
        "# Import basic libraries\n",
        "\n",
        "import pandas as pd\n",
        "import numpy as np\n",
        "%matplotlib inline\n",
        "import matplotlib.pyplot as plt"
      ]
    },
    {
      "cell_type": "code",
      "execution_count": null,
      "id": "4cf4238d",
      "metadata": {
        "id": "4cf4238d"
      },
      "outputs": [],
      "source": [
        "# Import libraries required for timeseries RNN LSTM neural network\n",
        "\n",
        "from tensorflow.keras.models import Sequential\n",
        "from tensorflow.keras.layers import LSTM\n",
        "from tensorflow.keras.layers import Dropout\n",
        "from tensorflow.keras.layers import Dense"
      ]
    },
    {
      "cell_type": "code",
      "execution_count": null,
      "id": "1494972e",
      "metadata": {
        "id": "1494972e"
      },
      "outputs": [],
      "source": [
        "# Import KERAS:TimeseriesGenerator\n",
        "# This class produces time series batches used on training/testing the model\n",
        "\n",
        "from tensorflow.keras.preprocessing.sequence import TimeseriesGenerator\n",
        "\n",
        "# Import KERAS:MinMaxScaler\n",
        "# This class is used to preprocess (scale) the data\n",
        "\n",
        "from sklearn.preprocessing import MinMaxScaler"
      ]
    },
    {
      "cell_type": "markdown",
      "id": "215add56",
      "metadata": {
        "id": "215add56"
      },
      "source": [
        "<h3>Data Set: Walmart Inc. (WMT); Time Period:Jan 1, 2020 - Feb 28, 2022</h3>"
      ]
    },
    {
      "cell_type": "code",
      "execution_count": null,
      "id": "df685def",
      "metadata": {
        "id": "df685def"
      },
      "outputs": [],
      "source": [
        "# Selecting the dataset\n",
        "dataset_path = \"D:\\Downloads\\WMT-01012020-02282022.csv\""
      ]
    },
    {
      "cell_type": "code",
      "execution_count": null,
      "id": "15cceec4",
      "metadata": {
        "id": "15cceec4"
      },
      "outputs": [],
      "source": [
        "# Creating a dataframe called df_ALL\n",
        "\n",
        "df_ALL = pd.read_csv(dataset_path)"
      ]
    },
    {
      "cell_type": "code",
      "execution_count": null,
      "id": "6c9b808e",
      "metadata": {
        "id": "6c9b808e",
        "outputId": "a6c1f6fa-d973-406c-9106-81da4f316d01"
      },
      "outputs": [
        {
          "data": {
            "text/html": [
              "<div>\n",
              "<style scoped>\n",
              "    .dataframe tbody tr th:only-of-type {\n",
              "        vertical-align: middle;\n",
              "    }\n",
              "\n",
              "    .dataframe tbody tr th {\n",
              "        vertical-align: top;\n",
              "    }\n",
              "\n",
              "    .dataframe thead th {\n",
              "        text-align: right;\n",
              "    }\n",
              "</style>\n",
              "<table border=\"1\" class=\"dataframe\">\n",
              "  <thead>\n",
              "    <tr style=\"text-align: right;\">\n",
              "      <th></th>\n",
              "      <th>Date</th>\n",
              "      <th>Open</th>\n",
              "      <th>High</th>\n",
              "      <th>Low</th>\n",
              "      <th>Close</th>\n",
              "      <th>Adj Close</th>\n",
              "      <th>Volume</th>\n",
              "    </tr>\n",
              "  </thead>\n",
              "  <tbody>\n",
              "    <tr>\n",
              "      <th>0</th>\n",
              "      <td>2020-01-02</td>\n",
              "      <td>118.860001</td>\n",
              "      <td>119.889999</td>\n",
              "      <td>118.699997</td>\n",
              "      <td>118.940002</td>\n",
              "      <td>112.910896</td>\n",
              "      <td>6764900</td>\n",
              "    </tr>\n",
              "    <tr>\n",
              "      <th>1</th>\n",
              "      <td>2020-01-03</td>\n",
              "      <td>118.269997</td>\n",
              "      <td>118.790001</td>\n",
              "      <td>117.589996</td>\n",
              "      <td>117.889999</td>\n",
              "      <td>111.914124</td>\n",
              "      <td>5399200</td>\n",
              "    </tr>\n",
              "    <tr>\n",
              "      <th>2</th>\n",
              "      <td>2020-01-06</td>\n",
              "      <td>117.400002</td>\n",
              "      <td>118.089996</td>\n",
              "      <td>116.769997</td>\n",
              "      <td>117.650002</td>\n",
              "      <td>111.686272</td>\n",
              "      <td>6445500</td>\n",
              "    </tr>\n",
              "    <tr>\n",
              "      <th>3</th>\n",
              "      <td>2020-01-07</td>\n",
              "      <td>117.260002</td>\n",
              "      <td>117.519997</td>\n",
              "      <td>116.199997</td>\n",
              "      <td>116.559998</td>\n",
              "      <td>110.651520</td>\n",
              "      <td>6846900</td>\n",
              "    </tr>\n",
              "    <tr>\n",
              "      <th>4</th>\n",
              "      <td>2020-01-08</td>\n",
              "      <td>116.300003</td>\n",
              "      <td>116.730003</td>\n",
              "      <td>115.680000</td>\n",
              "      <td>116.160004</td>\n",
              "      <td>110.271812</td>\n",
              "      <td>5875800</td>\n",
              "    </tr>\n",
              "  </tbody>\n",
              "</table>\n",
              "</div>"
            ],
            "text/plain": [
              "         Date        Open        High         Low       Close   Adj Close  \\\n",
              "0  2020-01-02  118.860001  119.889999  118.699997  118.940002  112.910896   \n",
              "1  2020-01-03  118.269997  118.790001  117.589996  117.889999  111.914124   \n",
              "2  2020-01-06  117.400002  118.089996  116.769997  117.650002  111.686272   \n",
              "3  2020-01-07  117.260002  117.519997  116.199997  116.559998  110.651520   \n",
              "4  2020-01-08  116.300003  116.730003  115.680000  116.160004  110.271812   \n",
              "\n",
              "    Volume  \n",
              "0  6764900  \n",
              "1  5399200  \n",
              "2  6445500  \n",
              "3  6846900  \n",
              "4  5875800  "
            ]
          },
          "execution_count": 6,
          "metadata": {},
          "output_type": "execute_result"
        }
      ],
      "source": [
        "# Load the first five rows\n",
        "\n",
        "df_ALL.head()"
      ]
    },
    {
      "cell_type": "markdown",
      "id": "406ea5bb",
      "metadata": {
        "id": "406ea5bb"
      },
      "source": [
        "<h3>Exploratory Data Analysis (EDA)</h3>"
      ]
    },
    {
      "cell_type": "code",
      "execution_count": null,
      "id": "7b480306",
      "metadata": {
        "id": "7b480306",
        "outputId": "c3082fa9-3353-4dbf-ed11-305283e6cf41"
      },
      "outputs": [
        {
          "data": {
            "text/plain": [
              "(544, 7)"
            ]
          },
          "execution_count": 7,
          "metadata": {},
          "output_type": "execute_result"
        }
      ],
      "source": [
        "# Count Variables and data points\n",
        "\n",
        "df_ALL.shape"
      ]
    },
    {
      "cell_type": "code",
      "execution_count": null,
      "id": "7a9f3cac",
      "metadata": {
        "id": "7a9f3cac",
        "outputId": "1d07bec4-72ad-4fcc-887c-dd91841b4fdc"
      },
      "outputs": [
        {
          "data": {
            "text/plain": [
              "Date          object\n",
              "Open         float64\n",
              "High         float64\n",
              "Low          float64\n",
              "Close        float64\n",
              "Adj Close    float64\n",
              "Volume         int64\n",
              "dtype: object"
            ]
          },
          "execution_count": 8,
          "metadata": {},
          "output_type": "execute_result"
        }
      ],
      "source": [
        "# Identify the data types of variables\n",
        "\n",
        "df_ALL.dtypes"
      ]
    },
    {
      "cell_type": "code",
      "execution_count": null,
      "id": "ab3f2444",
      "metadata": {
        "id": "ab3f2444",
        "outputId": "06535720-847a-4bdd-cb5b-1c43c648ba36"
      },
      "outputs": [
        {
          "data": {
            "text/html": [
              "<div>\n",
              "<style scoped>\n",
              "    .dataframe tbody tr th:only-of-type {\n",
              "        vertical-align: middle;\n",
              "    }\n",
              "\n",
              "    .dataframe tbody tr th {\n",
              "        vertical-align: top;\n",
              "    }\n",
              "\n",
              "    .dataframe thead th {\n",
              "        text-align: right;\n",
              "    }\n",
              "</style>\n",
              "<table border=\"1\" class=\"dataframe\">\n",
              "  <thead>\n",
              "    <tr style=\"text-align: right;\">\n",
              "      <th></th>\n",
              "      <th>Open</th>\n",
              "      <th>High</th>\n",
              "      <th>Low</th>\n",
              "      <th>Close</th>\n",
              "      <th>Adj Close</th>\n",
              "      <th>Volume</th>\n",
              "    </tr>\n",
              "  </thead>\n",
              "  <tbody>\n",
              "    <tr>\n",
              "      <th>count</th>\n",
              "      <td>544.000000</td>\n",
              "      <td>544.000000</td>\n",
              "      <td>544.000000</td>\n",
              "      <td>544.000000</td>\n",
              "      <td>544.000000</td>\n",
              "      <td>5.440000e+02</td>\n",
              "    </tr>\n",
              "    <tr>\n",
              "      <th>mean</th>\n",
              "      <td>135.860331</td>\n",
              "      <td>137.127904</td>\n",
              "      <td>134.696930</td>\n",
              "      <td>135.890827</td>\n",
              "      <td>131.337742</td>\n",
              "      <td>8.674467e+06</td>\n",
              "    </tr>\n",
              "    <tr>\n",
              "      <th>std</th>\n",
              "      <td>10.852610</td>\n",
              "      <td>10.583810</td>\n",
              "      <td>10.990895</td>\n",
              "      <td>10.721390</td>\n",
              "      <td>11.271173</td>\n",
              "      <td>4.401072e+06</td>\n",
              "    </tr>\n",
              "    <tr>\n",
              "      <th>min</th>\n",
              "      <td>105.199997</td>\n",
              "      <td>108.519997</td>\n",
              "      <td>102.000000</td>\n",
              "      <td>104.050003</td>\n",
              "      <td>98.775673</td>\n",
              "      <td>3.018200e+06</td>\n",
              "    </tr>\n",
              "    <tr>\n",
              "      <th>25%</th>\n",
              "      <td>129.649994</td>\n",
              "      <td>130.992501</td>\n",
              "      <td>128.537499</td>\n",
              "      <td>129.737500</td>\n",
              "      <td>124.379202</td>\n",
              "      <td>6.061100e+06</td>\n",
              "    </tr>\n",
              "    <tr>\n",
              "      <th>50%</th>\n",
              "      <td>139.409996</td>\n",
              "      <td>140.375000</td>\n",
              "      <td>138.370002</td>\n",
              "      <td>139.404999</td>\n",
              "      <td>135.346908</td>\n",
              "      <td>7.307650e+06</td>\n",
              "    </tr>\n",
              "    <tr>\n",
              "      <th>75%</th>\n",
              "      <td>143.697495</td>\n",
              "      <td>145.002502</td>\n",
              "      <td>142.742504</td>\n",
              "      <td>143.825004</td>\n",
              "      <td>139.334347</td>\n",
              "      <td>9.863500e+06</td>\n",
              "    </tr>\n",
              "    <tr>\n",
              "      <th>max</th>\n",
              "      <td>153.600006</td>\n",
              "      <td>153.660004</td>\n",
              "      <td>151.660004</td>\n",
              "      <td>152.789993</td>\n",
              "      <td>147.902008</td>\n",
              "      <td>3.967290e+07</td>\n",
              "    </tr>\n",
              "  </tbody>\n",
              "</table>\n",
              "</div>"
            ],
            "text/plain": [
              "             Open        High         Low       Close   Adj Close  \\\n",
              "count  544.000000  544.000000  544.000000  544.000000  544.000000   \n",
              "mean   135.860331  137.127904  134.696930  135.890827  131.337742   \n",
              "std     10.852610   10.583810   10.990895   10.721390   11.271173   \n",
              "min    105.199997  108.519997  102.000000  104.050003   98.775673   \n",
              "25%    129.649994  130.992501  128.537499  129.737500  124.379202   \n",
              "50%    139.409996  140.375000  138.370002  139.404999  135.346908   \n",
              "75%    143.697495  145.002502  142.742504  143.825004  139.334347   \n",
              "max    153.600006  153.660004  151.660004  152.789993  147.902008   \n",
              "\n",
              "             Volume  \n",
              "count  5.440000e+02  \n",
              "mean   8.674467e+06  \n",
              "std    4.401072e+06  \n",
              "min    3.018200e+06  \n",
              "25%    6.061100e+06  \n",
              "50%    7.307650e+06  \n",
              "75%    9.863500e+06  \n",
              "max    3.967290e+07  "
            ]
          },
          "execution_count": 9,
          "metadata": {},
          "output_type": "execute_result"
        }
      ],
      "source": [
        "# Summary Statistics\n",
        "\n",
        "df_ALL.describe()"
      ]
    },
    {
      "cell_type": "code",
      "execution_count": null,
      "id": "711ba7dd",
      "metadata": {
        "id": "711ba7dd"
      },
      "outputs": [],
      "source": [
        "# Select only the Closing Price for analysis\n",
        "\n",
        "df = df_ALL.iloc[:,4:5]"
      ]
    },
    {
      "cell_type": "code",
      "execution_count": null,
      "id": "d043a064",
      "metadata": {
        "id": "d043a064",
        "outputId": "31ee1462-4fdc-4205-b838-39c83b914d61"
      },
      "outputs": [
        {
          "data": {
            "text/html": [
              "<div>\n",
              "<style scoped>\n",
              "    .dataframe tbody tr th:only-of-type {\n",
              "        vertical-align: middle;\n",
              "    }\n",
              "\n",
              "    .dataframe tbody tr th {\n",
              "        vertical-align: top;\n",
              "    }\n",
              "\n",
              "    .dataframe thead th {\n",
              "        text-align: right;\n",
              "    }\n",
              "</style>\n",
              "<table border=\"1\" class=\"dataframe\">\n",
              "  <thead>\n",
              "    <tr style=\"text-align: right;\">\n",
              "      <th></th>\n",
              "      <th>Close</th>\n",
              "    </tr>\n",
              "  </thead>\n",
              "  <tbody>\n",
              "    <tr>\n",
              "      <th>0</th>\n",
              "      <td>118.940002</td>\n",
              "    </tr>\n",
              "    <tr>\n",
              "      <th>1</th>\n",
              "      <td>117.889999</td>\n",
              "    </tr>\n",
              "    <tr>\n",
              "      <th>2</th>\n",
              "      <td>117.650002</td>\n",
              "    </tr>\n",
              "    <tr>\n",
              "      <th>3</th>\n",
              "      <td>116.559998</td>\n",
              "    </tr>\n",
              "    <tr>\n",
              "      <th>4</th>\n",
              "      <td>116.160004</td>\n",
              "    </tr>\n",
              "  </tbody>\n",
              "</table>\n",
              "</div>"
            ],
            "text/plain": [
              "        Close\n",
              "0  118.940002\n",
              "1  117.889999\n",
              "2  117.650002\n",
              "3  116.559998\n",
              "4  116.160004"
            ]
          },
          "execution_count": 11,
          "metadata": {},
          "output_type": "execute_result"
        }
      ],
      "source": [
        "df.head()"
      ]
    },
    {
      "cell_type": "code",
      "execution_count": null,
      "id": "b3b64acf",
      "metadata": {
        "id": "b3b64acf",
        "outputId": "f21a2eb5-7163-4adb-ae8e-c3af100dce33"
      },
      "outputs": [
        {
          "data": {
            "text/plain": [
              "<AxesSubplot:>"
            ]
          },
          "execution_count": 12,
          "metadata": {},
          "output_type": "execute_result"
        },
        {
          "data": {
            "image/png": "[encoded data removed]",
            "text/plain": [
              "<Figure size 864x576 with 1 Axes>"
            ]
          },
          "metadata": {
            "needs_background": "light"
          },
          "output_type": "display_data"
        }
      ],
      "source": [
        "# Plot Closing Price\n",
        "\n",
        "df.plot(figsize=(12,8))"
      ]
    },
    {
      "cell_type": "markdown",
      "id": "2d753b17",
      "metadata": {
        "id": "2d753b17"
      },
      "source": [
        "<h3>Length of Input Time Series - Number of Input Time Steps</h3>"
      ]
    },
    {
      "cell_type": "code",
      "execution_count": null,
      "id": "cff0e054",
      "metadata": {
        "id": "cff0e054"
      },
      "outputs": [],
      "source": [
        "# Set the length of the input sequence\n",
        "# Here we are using 40 consecutive closing prices to predict the next one\n",
        "\n",
        "length50= 50"
      ]
    },
    {
      "cell_type": "code",
      "execution_count": null,
      "id": "762064a2",
      "metadata": {
        "id": "762064a2",
        "outputId": "cabbf9de-6165-4121-d82a-c5f1a7a3c41d"
      },
      "outputs": [
        {
          "data": {
            "text/plain": [
              "50"
            ]
          },
          "execution_count": 14,
          "metadata": {},
          "output_type": "execute_result"
        }
      ],
      "source": [
        "length50"
      ]
    },
    {
      "cell_type": "markdown",
      "id": "5b4c649e",
      "metadata": {
        "id": "5b4c649e"
      },
      "source": [
        "<h3>Time Series Dataset: Train/Test Split</h3>"
      ]
    },
    {
      "cell_type": "code",
      "execution_count": null,
      "id": "846cc7af",
      "metadata": {
        "id": "846cc7af",
        "outputId": "fd37c6d0-d327-4430-e8c9-ff7daa3acf9b"
      },
      "outputs": [
        {
          "data": {
            "text/plain": [
              "544"
            ]
          },
          "execution_count": 15,
          "metadata": {},
          "output_type": "execute_result"
        }
      ],
      "source": [
        "len(df)"
      ]
    },
    {
      "cell_type": "code",
      "execution_count": null,
      "id": "cb67ec18",
      "metadata": {
        "id": "cb67ec18"
      },
      "outputs": [],
      "source": [
        "# Set percentage of data used for testing, 20% reserved for testing\n",
        "\n",
        "test_percent = 0.2"
      ]
    },
    {
      "cell_type": "code",
      "execution_count": null,
      "id": "6f15476c",
      "metadata": {
        "id": "6f15476c",
        "outputId": "0665621a-542f-4637-c251-020d9cc9f055"
      },
      "outputs": [
        {
          "data": {
            "text/plain": [
              "108.80000000000001"
            ]
          },
          "execution_count": 17,
          "metadata": {},
          "output_type": "execute_result"
        }
      ],
      "source": [
        "# Number of data points reserved for testing the model\n",
        "\n",
        "len(df)*test_percent"
      ]
    },
    {
      "cell_type": "code",
      "execution_count": null,
      "id": "d0f2adf8",
      "metadata": {
        "id": "d0f2adf8",
        "outputId": "0f10e988-755d-4612-bbfc-2448bb5f3d7f"
      },
      "outputs": [
        {
          "data": {
            "text/plain": [
              "109.0"
            ]
          },
          "execution_count": 18,
          "metadata": {},
          "output_type": "execute_result"
        }
      ],
      "source": [
        "# Round the test data points to the nearest decimal\n",
        "\n",
        "test_length = np.round(len(df)*test_percent)\n",
        "test_length"
      ]
    },
    {
      "cell_type": "code",
      "execution_count": null,
      "id": "da4d85a2",
      "metadata": {
        "id": "da4d85a2",
        "outputId": "d1473730-037f-4510-ec91-b60fa3ab4fd6"
      },
      "outputs": [
        {
          "data": {
            "text/plain": [
              "435"
            ]
          },
          "execution_count": 19,
          "metadata": {},
          "output_type": "execute_result"
        }
      ],
      "source": [
        "# Index of the testing data\n",
        "\n",
        "split_index = int(len(df)-test_length)\n",
        "split_index"
      ]
    },
    {
      "cell_type": "code",
      "execution_count": null,
      "id": "51ad3933",
      "metadata": {
        "id": "51ad3933"
      },
      "outputs": [],
      "source": [
        "# Training Dataset, 80% reserved for training data\n",
        "\n",
        "data_train = df.iloc[: split_index]\n",
        "\n",
        "# Testing Dataset\n",
        "# All the indicies from (split_index - length50) to the end of the dataframe\n",
        "# split_index - length50: Need the last 50 historical data points (belong to data_train) to predict the first data point of the data_test\n",
        "\n",
        "data_test = df.iloc[split_index - length50 :]\n"
      ]
    },
    {
      "cell_type": "code",
      "execution_count": null,
      "id": "6e690ba6",
      "metadata": {
        "id": "6e690ba6",
        "outputId": "50eeaf59-896f-4dd4-b79d-58300afaf563"
      },
      "outputs": [
        {
          "data": {
            "text/html": [
              "<div>\n",
              "<style scoped>\n",
              "    .dataframe tbody tr th:only-of-type {\n",
              "        vertical-align: middle;\n",
              "    }\n",
              "\n",
              "    .dataframe tbody tr th {\n",
              "        vertical-align: top;\n",
              "    }\n",
              "\n",
              "    .dataframe thead th {\n",
              "        text-align: right;\n",
              "    }\n",
              "</style>\n",
              "<table border=\"1\" class=\"dataframe\">\n",
              "  <thead>\n",
              "    <tr style=\"text-align: right;\">\n",
              "      <th></th>\n",
              "      <th>Close</th>\n",
              "    </tr>\n",
              "  </thead>\n",
              "  <tbody>\n",
              "    <tr>\n",
              "      <th>0</th>\n",
              "      <td>118.940002</td>\n",
              "    </tr>\n",
              "    <tr>\n",
              "      <th>1</th>\n",
              "      <td>117.889999</td>\n",
              "    </tr>\n",
              "    <tr>\n",
              "      <th>2</th>\n",
              "      <td>117.650002</td>\n",
              "    </tr>\n",
              "    <tr>\n",
              "      <th>3</th>\n",
              "      <td>116.559998</td>\n",
              "    </tr>\n",
              "    <tr>\n",
              "      <th>4</th>\n",
              "      <td>116.160004</td>\n",
              "    </tr>\n",
              "  </tbody>\n",
              "</table>\n",
              "</div>"
            ],
            "text/plain": [
              "        Close\n",
              "0  118.940002\n",
              "1  117.889999\n",
              "2  117.650002\n",
              "3  116.559998\n",
              "4  116.160004"
            ]
          },
          "execution_count": 21,
          "metadata": {},
          "output_type": "execute_result"
        }
      ],
      "source": [
        "#Load training data first 5 rows\n",
        "data_train.head()"
      ]
    },
    {
      "cell_type": "code",
      "execution_count": null,
      "id": "e12b7c7d",
      "metadata": {
        "id": "e12b7c7d",
        "outputId": "2de41aad-7082-464c-efdf-af2086286cd1"
      },
      "outputs": [
        {
          "data": {
            "text/html": [
              "<div>\n",
              "<style scoped>\n",
              "    .dataframe tbody tr th:only-of-type {\n",
              "        vertical-align: middle;\n",
              "    }\n",
              "\n",
              "    .dataframe tbody tr th {\n",
              "        vertical-align: top;\n",
              "    }\n",
              "\n",
              "    .dataframe thead th {\n",
              "        text-align: right;\n",
              "    }\n",
              "</style>\n",
              "<table border=\"1\" class=\"dataframe\">\n",
              "  <thead>\n",
              "    <tr style=\"text-align: right;\">\n",
              "      <th></th>\n",
              "      <th>Close</th>\n",
              "    </tr>\n",
              "  </thead>\n",
              "  <tbody>\n",
              "    <tr>\n",
              "      <th>430</th>\n",
              "      <td>145.029999</td>\n",
              "    </tr>\n",
              "    <tr>\n",
              "      <th>431</th>\n",
              "      <td>144.729996</td>\n",
              "    </tr>\n",
              "    <tr>\n",
              "      <th>432</th>\n",
              "      <td>142.740005</td>\n",
              "    </tr>\n",
              "    <tr>\n",
              "      <th>433</th>\n",
              "      <td>143.020004</td>\n",
              "    </tr>\n",
              "    <tr>\n",
              "      <th>434</th>\n",
              "      <td>142.690002</td>\n",
              "    </tr>\n",
              "  </tbody>\n",
              "</table>\n",
              "</div>"
            ],
            "text/plain": [
              "          Close\n",
              "430  145.029999\n",
              "431  144.729996\n",
              "432  142.740005\n",
              "433  143.020004\n",
              "434  142.690002"
            ]
          },
          "execution_count": 22,
          "metadata": {},
          "output_type": "execute_result"
        }
      ],
      "source": [
        "#Load training data last 5 rows\n",
        "data_train.tail()"
      ]
    },
    {
      "cell_type": "code",
      "execution_count": null,
      "id": "b259b479",
      "metadata": {
        "id": "b259b479",
        "outputId": "c7dd9012-abe5-499b-acfa-6e7c5f0fc414"
      },
      "outputs": [
        {
          "data": {
            "text/html": [
              "<div>\n",
              "<style scoped>\n",
              "    .dataframe tbody tr th:only-of-type {\n",
              "        vertical-align: middle;\n",
              "    }\n",
              "\n",
              "    .dataframe tbody tr th {\n",
              "        vertical-align: top;\n",
              "    }\n",
              "\n",
              "    .dataframe thead th {\n",
              "        text-align: right;\n",
              "    }\n",
              "</style>\n",
              "<table border=\"1\" class=\"dataframe\">\n",
              "  <thead>\n",
              "    <tr style=\"text-align: right;\">\n",
              "      <th></th>\n",
              "      <th>Close</th>\n",
              "    </tr>\n",
              "  </thead>\n",
              "  <tbody>\n",
              "    <tr>\n",
              "      <th>385</th>\n",
              "      <td>141.550003</td>\n",
              "    </tr>\n",
              "    <tr>\n",
              "      <th>386</th>\n",
              "      <td>141.660004</td>\n",
              "    </tr>\n",
              "    <tr>\n",
              "      <th>387</th>\n",
              "      <td>141.559998</td>\n",
              "    </tr>\n",
              "    <tr>\n",
              "      <th>388</th>\n",
              "      <td>141.229996</td>\n",
              "    </tr>\n",
              "    <tr>\n",
              "      <th>389</th>\n",
              "      <td>141.869995</td>\n",
              "    </tr>\n",
              "  </tbody>\n",
              "</table>\n",
              "</div>"
            ],
            "text/plain": [
              "          Close\n",
              "385  141.550003\n",
              "386  141.660004\n",
              "387  141.559998\n",
              "388  141.229996\n",
              "389  141.869995"
            ]
          },
          "execution_count": 23,
          "metadata": {},
          "output_type": "execute_result"
        }
      ],
      "source": [
        "#Load testing data first 5 rows\n",
        "data_test.head()"
      ]
    },
    {
      "cell_type": "code",
      "execution_count": null,
      "id": "3b6a9483",
      "metadata": {
        "id": "3b6a9483",
        "outputId": "51a29375-168b-41ff-a4c0-37e997027cd8"
      },
      "outputs": [
        {
          "data": {
            "text/html": [
              "<div>\n",
              "<style scoped>\n",
              "    .dataframe tbody tr th:only-of-type {\n",
              "        vertical-align: middle;\n",
              "    }\n",
              "\n",
              "    .dataframe tbody tr th {\n",
              "        vertical-align: top;\n",
              "    }\n",
              "\n",
              "    .dataframe thead th {\n",
              "        text-align: right;\n",
              "    }\n",
              "</style>\n",
              "<table border=\"1\" class=\"dataframe\">\n",
              "  <thead>\n",
              "    <tr style=\"text-align: right;\">\n",
              "      <th></th>\n",
              "      <th>Close</th>\n",
              "    </tr>\n",
              "  </thead>\n",
              "  <tbody>\n",
              "    <tr>\n",
              "      <th>539</th>\n",
              "      <td>136.449997</td>\n",
              "    </tr>\n",
              "    <tr>\n",
              "      <th>540</th>\n",
              "      <td>135.050003</td>\n",
              "    </tr>\n",
              "    <tr>\n",
              "      <th>541</th>\n",
              "      <td>134.529999</td>\n",
              "    </tr>\n",
              "    <tr>\n",
              "      <th>542</th>\n",
              "      <td>136.380005</td>\n",
              "    </tr>\n",
              "    <tr>\n",
              "      <th>543</th>\n",
              "      <td>135.160004</td>\n",
              "    </tr>\n",
              "  </tbody>\n",
              "</table>\n",
              "</div>"
            ],
            "text/plain": [
              "          Close\n",
              "539  136.449997\n",
              "540  135.050003\n",
              "541  134.529999\n",
              "542  136.380005\n",
              "543  135.160004"
            ]
          },
          "execution_count": 24,
          "metadata": {},
          "output_type": "execute_result"
        }
      ],
      "source": [
        "#Load testing data last 5 rows\n",
        "data_test.tail()"
      ]
    },
    {
      "cell_type": "markdown",
      "id": "a78a8267",
      "metadata": {
        "id": "a78a8267"
      },
      "source": [
        "<h3>Normalize Data (Scale it into the range [0, 1])</h3>"
      ]
    },
    {
      "cell_type": "code",
      "execution_count": null,
      "id": "473c253c",
      "metadata": {
        "id": "473c253c"
      },
      "outputs": [],
      "source": [
        "# Create a MinMaxScaler to normalize the data\n",
        "\n",
        "scaler = MinMaxScaler()"
      ]
    },
    {
      "cell_type": "code",
      "execution_count": null,
      "id": "e3b6611d",
      "metadata": {
        "id": "e3b6611d",
        "outputId": "1318af32-dd39-431a-f092-e39a108afe98"
      },
      "outputs": [
        {
          "data": {
            "text/plain": [
              "MinMaxScaler()"
            ]
          },
          "execution_count": 26,
          "metadata": {},
          "output_type": "execute_result"
        }
      ],
      "source": [
        "# Train the scaler to perform the normalization (for training data only)\n",
        "\n",
        "scaler.fit(data_train)"
      ]
    },
    {
      "cell_type": "code",
      "execution_count": null,
      "id": "76039fb4",
      "metadata": {
        "id": "76039fb4"
      },
      "outputs": [],
      "source": [
        "# Normalize the training dataset\n",
        "\n",
        "normalized_train = scaler.transform(data_train)\n",
        "\n",
        "# Normalize the testing dataset\n",
        "\n",
        "normalized_test = scaler.transform(data_test)"
      ]
    },
    {
      "cell_type": "markdown",
      "id": "e29900f8",
      "metadata": {
        "id": "e29900f8"
      },
      "source": [
        "<h3>Create TimeseriesGenerator for Training</h3>"
      ]
    },
    {
      "cell_type": "code",
      "execution_count": null,
      "id": "dde6b8f2",
      "metadata": {
        "id": "dde6b8f2"
      },
      "outputs": [],
      "source": [
        "# TimeseriesGenerator: Generate Time Series batches for training/testing\n",
        "# Length is 45\n",
        "# Batch size: Number of time series samples in each batch\n",
        "\n",
        "batch_size22 = 22\n",
        "\n",
        "# Creating a TimeseriesGenerator for Training\n",
        "\n",
        "train_tsGenerator45 = TimeseriesGenerator(normalized_train, normalized_train, length=length50, batch_size=batch_size22)"
      ]
    },
    {
      "cell_type": "code",
      "execution_count": null,
      "id": "c874dabe",
      "metadata": {
        "id": "c874dabe",
        "outputId": "7268829c-3e22-4e4f-faa5-7977af49b313"
      },
      "outputs": [
        {
          "data": {
            "text/plain": [
              "435"
            ]
          },
          "execution_count": 29,
          "metadata": {},
          "output_type": "execute_result"
        }
      ],
      "source": [
        "# Length of the normalized training dataset\n",
        "\n",
        "len(normalized_train)"
      ]
    },
    {
      "cell_type": "code",
      "execution_count": null,
      "id": "ff8160fd",
      "metadata": {
        "id": "ff8160fd",
        "outputId": "dd202092-e2b0-4172-c07f-89b0701557ca"
      },
      "outputs": [
        {
          "data": {
            "text/plain": [
              "18"
            ]
          },
          "execution_count": 30,
          "metadata": {},
          "output_type": "execute_result"
        }
      ],
      "source": [
        "len(train_tsGenerator45)"
      ]
    },
    {
      "cell_type": "code",
      "execution_count": null,
      "id": "c056ccf8",
      "metadata": {
        "id": "c056ccf8"
      },
      "outputs": [],
      "source": [
        "# Check the first batch\n",
        "\n",
        "X,y = train_tsGenerator45[0]"
      ]
    },
    {
      "cell_type": "code",
      "execution_count": null,
      "id": "9fa80e79",
      "metadata": {
        "id": "9fa80e79",
        "outputId": "1689c737-f317-4b50-8a08-3bdeed2e0678"
      },
      "outputs": [
        {
          "name": "stdout",
          "output_type": "stream",
          "text": [
            "[[[0.30549861]\n",
            "  [0.28395566]\n",
            "  [0.27903163]\n",
            "  ...\n",
            "  [0.21296674]\n",
            "  [0.        ]\n",
            "  [0.20619608]]\n",
            "\n",
            " [[0.28395566]\n",
            "  [0.27903163]\n",
            "  [0.25666798]\n",
            "  ...\n",
            "  [0.        ]\n",
            "  [0.20619608]\n",
            "  [0.05560114]]\n",
            "\n",
            " [[0.27903163]\n",
            "  [0.25666798]\n",
            "  [0.24846129]\n",
            "  ...\n",
            "  [0.20619608]\n",
            "  [0.05560114]\n",
            "  [0.31206406]]\n",
            "\n",
            " ...\n",
            "\n",
            " [[0.25707841]\n",
            "  [0.21419773]\n",
            "  [0.20968396]\n",
            "  ...\n",
            "  [0.36807548]\n",
            "  [0.36499788]\n",
            "  [0.36417734]]\n",
            "\n",
            " [[0.21419773]\n",
            "  [0.20968396]\n",
            "  [0.23020099]\n",
            "  ...\n",
            "  [0.36499788]\n",
            "  [0.36417734]\n",
            "  [0.43598696]]\n",
            "\n",
            " [[0.20968396]\n",
            "  [0.23020099]\n",
            "  [0.26179724]\n",
            "  ...\n",
            "  [0.36417734]\n",
            "  [0.43598696]\n",
            "  [0.51189992]]]\n"
          ]
        }
      ],
      "source": [
        "print(X)"
      ]
    },
    {
      "cell_type": "code",
      "execution_count": null,
      "id": "0d1dab5c",
      "metadata": {
        "id": "0d1dab5c",
        "outputId": "5bbb42fc-e4c9-4719-bd98-830187ebc3c6"
      },
      "outputs": [
        {
          "name": "stdout",
          "output_type": "stream",
          "text": [
            "[[0.05560114]\n",
            " [0.31206406]\n",
            " [0.38018061]\n",
            " [0.31596219]\n",
            " [0.20352893]\n",
            " [0.20988917]\n",
            " [0.22527694]\n",
            " [0.10976611]\n",
            " [0.11838322]\n",
            " [0.11345917]\n",
            " [0.22855973]\n",
            " [0.19634801]\n",
            " [0.20701678]\n",
            " [0.29954867]\n",
            " [0.31657782]\n",
            " [0.45178501]\n",
            " [0.36807548]\n",
            " [0.36499788]\n",
            " [0.36417734]\n",
            " [0.43598696]\n",
            " [0.51189992]\n",
            " [0.50697573]]\n"
          ]
        }
      ],
      "source": [
        "print (y)"
      ]
    },
    {
      "cell_type": "markdown",
      "id": "b5b75dab",
      "metadata": {
        "id": "b5b75dab"
      },
      "source": [
        "<h3>Build, Train, and Test Model</h3></n></n><h3>Build LSTM Model</h3>"
      ]
    },
    {
      "cell_type": "code",
      "execution_count": null,
      "id": "b42cd7ad",
      "metadata": {
        "id": "b42cd7ad"
      },
      "outputs": [],
      "source": [
        "# We are using only one feature, i.e., Close Price\n",
        "\n",
        "n_features = 1"
      ]
    },
    {
      "cell_type": "code",
      "execution_count": null,
      "id": "adada714",
      "metadata": {
        "id": "adada714"
      },
      "outputs": [],
      "source": [
        "# Define model\n",
        "\n",
        "model = Sequential()\n",
        "\n",
        "# Add an LSTM layer\n",
        "# This layer has 50 LSTM cells\n",
        "# Activation function: relu\n",
        "\n",
        "model.add(LSTM(50, activation='relu', return_sequences=True, input_shape=(length50, n_features)))\n",
        "\n",
        "# Dropout Layer\n",
        "\n",
        "model.add(Dropout(0.2))\n",
        "\n",
        "# Add 2nd LSTM layer\n",
        "\n",
        "model.add(LSTM(units=50, activation='relu', return_sequences=True))\n",
        "\n",
        "# Dropout Layer\n",
        "\n",
        "model.add(Dropout(0.2))\n",
        "\n",
        "# Add 3rd LSTM layer\n",
        "\n",
        "model.add(LSTM(units=50, activation='relu'))\n",
        "\n",
        "# Add a fully-connected layer for the final prediction\n",
        "\n",
        "model.add(Dense(1))"
      ]
    },
    {
      "cell_type": "markdown",
      "id": "6ecd8e34",
      "metadata": {
        "id": "6ecd8e34"
      },
      "source": [
        "<h3>Compile Model</h3>"
      ]
    },
    {
      "cell_type": "code",
      "execution_count": null,
      "id": "4e9a3e71",
      "metadata": {
        "id": "4e9a3e71",
        "outputId": "661afaa1-b1ab-410f-b975-65ef9378ae2e"
      },
      "outputs": [
        {
          "name": "stdout",
          "output_type": "stream",
          "text": [
            "Model: \"sequential\"\n",
            "_________________________________________________________________\n",
            " Layer (type)                Output Shape              Param #   \n",
            "=================================================================\n",
            " lstm (LSTM)                 (None, 50, 50)            10400     \n",
            "                                                                 \n",
            " dropout (Dropout)           (None, 50, 50)            0         \n",
            "                                                                 \n",
            " lstm_1 (LSTM)               (None, 50, 50)            20200     \n",
            "                                                                 \n",
            " dropout_1 (Dropout)         (None, 50, 50)            0         \n",
            "                                                                 \n",
            " lstm_2 (LSTM)               (None, 50)                20200     \n",
            "                                                                 \n",
            " dense (Dense)               (None, 1)                 51        \n",
            "                                                                 \n",
            "=================================================================\n",
            "Total params: 50,851\n",
            "Trainable params: 50,851\n",
            "Non-trainable params: 0\n",
            "_________________________________________________________________\n"
          ]
        }
      ],
      "source": [
        "# Compile Model\n",
        "\n",
        "model.compile(optimizer='adam', loss='mse')\n",
        "\n",
        "model.summary()"
      ]
    },
    {
      "cell_type": "markdown",
      "id": "1e418606",
      "metadata": {
        "id": "1e418606"
      },
      "source": [
        "<h3>Train (fit) model using fit_generator()</h3>"
      ]
    },
    {
      "cell_type": "code",
      "execution_count": null,
      "id": "c572a603",
      "metadata": {
        "id": "c572a603",
        "outputId": "733a6f12-d2d9-4733-8696-76c6a1e8e8b0"
      },
      "outputs": [
        {
          "name": "stdout",
          "output_type": "stream",
          "text": [
            "Epoch 1/30\n"
          ]
        },
        {
          "name": "stderr",
          "output_type": "stream",
          "text": [
            "C:\\Users\\Phani\\AppData\\Local\\Temp\\ipykernel_20424\\2165057723.py:3: UserWarning: `Model.fit_generator` is deprecated and will be removed in a future version. Please use `Model.fit`, which supports generators.\n",
            "  model.fit_generator(train_tsGenerator45, epochs=30)\n"
          ]
        },
        {
          "name": "stdout",
          "output_type": "stream",
          "text": [
            "18/18 [==============================] - 7s 83ms/step - loss: 0.2418\n",
            "Epoch 2/30\n",
            "18/18 [==============================] - 2s 82ms/step - loss: 0.0426\n",
            "Epoch 3/30\n",
            "18/18 [==============================] - 2s 83ms/step - loss: 0.0178\n",
            "Epoch 4/30\n",
            "18/18 [==============================] - 2s 83ms/step - loss: 0.0139\n",
            "Epoch 5/30\n",
            "18/18 [==============================] - 1s 81ms/step - loss: 0.0109\n",
            "Epoch 6/30\n",
            "18/18 [==============================] - 2s 82ms/step - loss: 0.0106\n",
            "Epoch 7/30\n",
            "18/18 [==============================] - 2s 90ms/step - loss: 0.0109\n",
            "Epoch 8/30\n",
            "18/18 [==============================] - 2s 89ms/step - loss: 0.0107\n",
            "Epoch 9/30\n",
            "18/18 [==============================] - 2s 90ms/step - loss: 0.0111\n",
            "Epoch 10/30\n",
            "18/18 [==============================] - 2s 84ms/step - loss: 0.0119\n",
            "Epoch 11/30\n",
            "18/18 [==============================] - 2s 84ms/step - loss: 0.0109\n",
            "Epoch 12/30\n",
            "18/18 [==============================] - 2s 82ms/step - loss: 0.0101\n",
            "Epoch 13/30\n",
            "18/18 [==============================] - 2s 84ms/step - loss: 0.0123\n",
            "Epoch 14/30\n",
            "18/18 [==============================] - 2s 84ms/step - loss: 0.0124\n",
            "Epoch 15/30\n",
            "18/18 [==============================] - 2s 83ms/step - loss: 0.0099\n",
            "Epoch 16/30\n",
            "18/18 [==============================] - 2s 83ms/step - loss: 0.0111\n",
            "Epoch 17/30\n",
            "18/18 [==============================] - 2s 92ms/step - loss: 0.0102\n",
            "Epoch 18/30\n",
            "18/18 [==============================] - 2s 90ms/step - loss: 0.0096\n",
            "Epoch 19/30\n",
            "18/18 [==============================] - 2s 89ms/step - loss: 0.0108\n",
            "Epoch 20/30\n",
            "18/18 [==============================] - 2s 89ms/step - loss: 0.0133\n",
            "Epoch 21/30\n",
            "18/18 [==============================] - 2s 84ms/step - loss: 0.0101\n",
            "Epoch 22/30\n",
            "18/18 [==============================] - 2s 85ms/step - loss: 0.0118\n",
            "Epoch 23/30\n",
            "18/18 [==============================] - 2s 85ms/step - loss: 0.0097\n",
            "Epoch 24/30\n",
            "18/18 [==============================] - 2s 85ms/step - loss: 0.0093\n",
            "Epoch 25/30\n",
            "18/18 [==============================] - 2s 83ms/step - loss: 0.0099\n",
            "Epoch 26/30\n",
            "18/18 [==============================] - 2s 84ms/step - loss: 0.0098\n",
            "Epoch 27/30\n",
            "18/18 [==============================] - 2s 93ms/step - loss: 0.0098\n",
            "Epoch 28/30\n",
            "18/18 [==============================] - 2s 95ms/step - loss: 0.0091\n",
            "Epoch 29/30\n",
            "18/18 [==============================] - 2s 88ms/step - loss: 0.0086\n",
            "Epoch 30/30\n",
            "18/18 [==============================] - 2s 85ms/step - loss: 0.0094\n"
          ]
        },
        {
          "data": {
            "text/plain": [
              "<keras.callbacks.History at 0x1e699f9e6a0>"
            ]
          },
          "execution_count": 37,
          "metadata": {},
          "output_type": "execute_result"
        }
      ],
      "source": [
        "# Train the model\n",
        "\n",
        "model.fit_generator(train_tsGenerator45, epochs=30)"
      ]
    },
    {
      "cell_type": "markdown",
      "id": "c4448d6f",
      "metadata": {
        "id": "c4448d6f"
      },
      "source": [
        "<h3>Visualize Model's Performance after Training</h3>"
      ]
    },
    {
      "cell_type": "code",
      "execution_count": null,
      "id": "544287f0",
      "metadata": {
        "id": "544287f0",
        "outputId": "fc1131da-d397-44f4-ff95-893eb2059ad2"
      },
      "outputs": [
        {
          "data": {
            "text/plain": [
              "dict_keys(['loss'])"
            ]
          },
          "execution_count": 38,
          "metadata": {},
          "output_type": "execute_result"
        }
      ],
      "source": [
        "loss_history_keys = model.history.history.keys()\n",
        "loss_history_keys"
      ]
    },
    {
      "cell_type": "code",
      "execution_count": null,
      "id": "713d4a24",
      "metadata": {
        "id": "713d4a24",
        "outputId": "1bf0fef1-3b31-4a82-92da-8c651517f668"
      },
      "outputs": [
        {
          "data": {
            "text/plain": [
              "<AxesSubplot:>"
            ]
          },
          "execution_count": 39,
          "metadata": {},
          "output_type": "execute_result"
        },
        {
          "data": {
            "image/png": "[encoded data removed]",
            "text/plain": [
              "<Figure size 432x288 with 1 Axes>"
            ]
          },
          "metadata": {
            "needs_background": "light"
          },
          "output_type": "display_data"
        }
      ],
      "source": [
        "# Load the loss data (model.history.history) into a data frame\n",
        "\n",
        "ds_model_loss = pd.DataFrame(model.history.history)\n",
        "\n",
        "# Visualize the loss data using DataFrame.plot()\n",
        "\n",
        "ds_model_loss.plot()"
      ]
    },
    {
      "cell_type": "markdown",
      "id": "25f9c1cc",
      "metadata": {
        "id": "25f9c1cc"
      },
      "source": [
        "<h3>Prediction for Testing: Using TimeseriesGenerator</h3></n></n><h5>Create TimeseriesGenerator for Testing</h5>"
      ]
    },
    {
      "cell_type": "code",
      "execution_count": null,
      "id": "7e811c3c",
      "metadata": {
        "id": "7e811c3c"
      },
      "outputs": [],
      "source": [
        "# Batch Size is 1\n",
        "\n",
        "batch_size1 = 1\n",
        "\n",
        "# Create a TimeseriesGenerator for testing: test_tsGenerator\n",
        "\n",
        "test_tsGenerator45 = TimeseriesGenerator(normalized_test, normalized_test, length=length50, batch_size=batch_size1)"
      ]
    },
    {
      "cell_type": "markdown",
      "id": "e3f1049a",
      "metadata": {
        "id": "e3f1049a"
      },
      "source": [
        "<h5>Predict Future Data Points for Testing</h5>"
      ]
    },
    {
      "cell_type": "code",
      "execution_count": null,
      "id": "836ab0bc",
      "metadata": {
        "id": "836ab0bc",
        "outputId": "bd5d3afc-be63-4636-fa03-bf30383b9edc"
      },
      "outputs": [
        {
          "name": "stderr",
          "output_type": "stream",
          "text": [
            "C:\\Users\\Phani\\AppData\\Local\\Temp\\ipykernel_20424\\26107903.py:1: UserWarning: `Model.predict_generator` is deprecated and will be removed in a future version. Please use `Model.predict`, which supports generators.\n",
            "  normalized_prediction = model.predict_generator(test_tsGenerator45)\n"
          ]
        }
      ],
      "source": [
        "normalized_prediction = model.predict_generator(test_tsGenerator45)"
      ]
    },
    {
      "cell_type": "code",
      "execution_count": null,
      "id": "7f774a9e",
      "metadata": {
        "id": "7f774a9e",
        "outputId": "8f1420b4-59c3-4705-9131-74fff3de1340"
      },
      "outputs": [
        {
          "data": {
            "text/plain": [
              "array([[0.79366285],\n",
              "       [0.7883788 ],\n",
              "       [0.78327656],\n",
              "       [0.7782745 ],\n",
              "       [0.773011  ],\n",
              "       [0.7674836 ],\n",
              "       [0.7615492 ],\n",
              "       [0.7547835 ],\n",
              "       [0.7469697 ],\n",
              "       [0.73852456],\n",
              "       [0.730018  ],\n",
              "       [0.7221593 ],\n",
              "       [0.71535456],\n",
              "       [0.709701  ],\n",
              "       [0.70512736],\n",
              "       [0.7012679 ],\n",
              "       [0.6983217 ],\n",
              "       [0.69639224],\n",
              "       [0.6956662 ],\n",
              "       [0.6967452 ],\n",
              "       [0.6998185 ],\n",
              "       [0.7047881 ],\n",
              "       [0.71162504],\n",
              "       [0.7203209 ],\n",
              "       [0.73019785],\n",
              "       [0.74041283],\n",
              "       [0.7506526 ],\n",
              "       [0.7608251 ],\n",
              "       [0.7708158 ],\n",
              "       [0.7804313 ],\n",
              "       [0.7896226 ],\n",
              "       [0.7985529 ],\n",
              "       [0.8069107 ],\n",
              "       [0.81430644],\n",
              "       [0.82075477],\n",
              "       [0.8259108 ],\n",
              "       [0.8298177 ],\n",
              "       [0.8324072 ],\n",
              "       [0.833626  ],\n",
              "       [0.83273345],\n",
              "       [0.82956123],\n",
              "       [0.8247438 ],\n",
              "       [0.81861454],\n",
              "       [0.8122148 ],\n",
              "       [0.80628973],\n",
              "       [0.80138934],\n",
              "       [0.7972162 ],\n",
              "       [0.79307926],\n",
              "       [0.7883618 ],\n",
              "       [0.78213567],\n",
              "       [0.77396536],\n",
              "       [0.7646722 ],\n",
              "       [0.7551394 ],\n",
              "       [0.74577534],\n",
              "       [0.7365761 ],\n",
              "       [0.7279994 ],\n",
              "       [0.7208465 ],\n",
              "       [0.71593237],\n",
              "       [0.71360165],\n",
              "       [0.7138387 ],\n",
              "       [0.71566176],\n",
              "       [0.7172954 ],\n",
              "       [0.718246  ],\n",
              "       [0.7184437 ],\n",
              "       [0.71798515],\n",
              "       [0.7169318 ],\n",
              "       [0.7157434 ],\n",
              "       [0.7151233 ],\n",
              "       [0.7152178 ],\n",
              "       [0.7161177 ],\n",
              "       [0.7181079 ],\n",
              "       [0.7210602 ],\n",
              "       [0.724061  ],\n",
              "       [0.72725654],\n",
              "       [0.7304441 ],\n",
              "       [0.73386186],\n",
              "       [0.73740065],\n",
              "       [0.7408542 ],\n",
              "       [0.7439127 ],\n",
              "       [0.74701107],\n",
              "       [0.75009435],\n",
              "       [0.75245553],\n",
              "       [0.7543347 ],\n",
              "       [0.7550987 ],\n",
              "       [0.75451976],\n",
              "       [0.75272024],\n",
              "       [0.7492371 ],\n",
              "       [0.7439141 ],\n",
              "       [0.73710763],\n",
              "       [0.7296443 ],\n",
              "       [0.722541  ],\n",
              "       [0.7165243 ],\n",
              "       [0.711822  ],\n",
              "       [0.70845705],\n",
              "       [0.705876  ],\n",
              "       [0.70348   ],\n",
              "       [0.70107085],\n",
              "       [0.6985109 ],\n",
              "       [0.69543654],\n",
              "       [0.691692  ],\n",
              "       [0.6870073 ],\n",
              "       [0.6816376 ],\n",
              "       [0.6756251 ],\n",
              "       [0.67043984],\n",
              "       [0.66633695],\n",
              "       [0.6630085 ],\n",
              "       [0.65997905],\n",
              "       [0.65695655],\n",
              "       [0.65430766]], dtype=float32)"
            ]
          },
          "execution_count": 42,
          "metadata": {},
          "output_type": "execute_result"
        }
      ],
      "source": [
        "# Prediction is a numpy 2D array with only one column\n",
        "\n",
        "normalized_prediction"
      ]
    },
    {
      "cell_type": "code",
      "execution_count": null,
      "id": "5c5c116f",
      "metadata": {
        "id": "5c5c116f",
        "outputId": "162bda0c-296b-4d17-bc5b-211dd226edf8"
      },
      "outputs": [
        {
          "data": {
            "text/plain": [
              "109"
            ]
          },
          "execution_count": 43,
          "metadata": {},
          "output_type": "execute_result"
        }
      ],
      "source": [
        "len(normalized_prediction)"
      ]
    },
    {
      "cell_type": "code",
      "execution_count": null,
      "id": "b20bda08",
      "metadata": {
        "id": "b20bda08"
      },
      "outputs": [],
      "source": [
        "# Convert normalized predictions back to the true values\n",
        "\n",
        "prediction = scaler.inverse_transform(normalized_prediction)"
      ]
    },
    {
      "cell_type": "code",
      "execution_count": null,
      "id": "f041cf8d",
      "metadata": {
        "id": "f041cf8d"
      },
      "outputs": [],
      "source": [
        "# Flatten all the 2D array\n",
        "\n",
        "prediction_index = np.arange(435, 544, step=1)\n",
        "df_prediction = pd.DataFrame(data=prediction,index=prediction_index, columns=['Prediction'])"
      ]
    },
    {
      "cell_type": "code",
      "execution_count": null,
      "id": "185f6b5d",
      "metadata": {
        "id": "185f6b5d",
        "outputId": "4b55a5b9-19ac-47f3-c88e-4559d10f450f"
      },
      "outputs": [
        {
          "data": {
            "text/html": [
              "<div>\n",
              "<style scoped>\n",
              "    .dataframe tbody tr th:only-of-type {\n",
              "        vertical-align: middle;\n",
              "    }\n",
              "\n",
              "    .dataframe tbody tr th {\n",
              "        vertical-align: top;\n",
              "    }\n",
              "\n",
              "    .dataframe thead th {\n",
              "        text-align: right;\n",
              "    }\n",
              "</style>\n",
              "<table border=\"1\" class=\"dataframe\">\n",
              "  <thead>\n",
              "    <tr style=\"text-align: right;\">\n",
              "      <th></th>\n",
              "      <th>Prediction</th>\n",
              "    </tr>\n",
              "  </thead>\n",
              "  <tbody>\n",
              "    <tr>\n",
              "      <th>435</th>\n",
              "      <td>142.733124</td>\n",
              "    </tr>\n",
              "    <tr>\n",
              "      <th>436</th>\n",
              "      <td>142.475571</td>\n",
              "    </tr>\n",
              "    <tr>\n",
              "      <th>437</th>\n",
              "      <td>142.226898</td>\n",
              "    </tr>\n",
              "    <tr>\n",
              "      <th>438</th>\n",
              "      <td>141.983093</td>\n",
              "    </tr>\n",
              "    <tr>\n",
              "      <th>439</th>\n",
              "      <td>141.726547</td>\n",
              "    </tr>\n",
              "    <tr>\n",
              "      <th>...</th>\n",
              "      <td>...</td>\n",
              "    </tr>\n",
              "    <tr>\n",
              "      <th>539</th>\n",
              "      <td>136.527267</td>\n",
              "    </tr>\n",
              "    <tr>\n",
              "      <th>540</th>\n",
              "      <td>136.365021</td>\n",
              "    </tr>\n",
              "    <tr>\n",
              "      <th>541</th>\n",
              "      <td>136.217377</td>\n",
              "    </tr>\n",
              "    <tr>\n",
              "      <th>542</th>\n",
              "      <td>136.070068</td>\n",
              "    </tr>\n",
              "    <tr>\n",
              "      <th>543</th>\n",
              "      <td>135.940948</td>\n",
              "    </tr>\n",
              "  </tbody>\n",
              "</table>\n",
              "<p>109 rows × 1 columns</p>\n",
              "</div>"
            ],
            "text/plain": [
              "     Prediction\n",
              "435  142.733124\n",
              "436  142.475571\n",
              "437  142.226898\n",
              "438  141.983093\n",
              "439  141.726547\n",
              "..          ...\n",
              "539  136.527267\n",
              "540  136.365021\n",
              "541  136.217377\n",
              "542  136.070068\n",
              "543  135.940948\n",
              "\n",
              "[109 rows x 1 columns]"
            ]
          },
          "execution_count": 46,
          "metadata": {},
          "output_type": "execute_result"
        }
      ],
      "source": [
        "df_prediction"
      ]
    },
    {
      "cell_type": "markdown",
      "id": "b7835630",
      "metadata": {
        "id": "b7835630"
      },
      "source": [
        "<h3>Visualize Prediction</h3>"
      ]
    },
    {
      "cell_type": "code",
      "execution_count": null,
      "id": "22e2e555",
      "metadata": {
        "id": "22e2e555",
        "outputId": "4f91006e-36d9-4c73-98ac-a61de5fd0636"
      },
      "outputs": [
        {
          "data": {
            "text/plain": [
              "<AxesSubplot:>"
            ]
          },
          "execution_count": 47,
          "metadata": {},
          "output_type": "execute_result"
        },
        {
          "data": {
            "image/png": "[encoded data removed]",
            "text/plain": [
              "<Figure size 576x864 with 1 Axes>"
            ]
          },
          "metadata": {
            "needs_background": "light"
          },
          "output_type": "display_data"
        }
      ],
      "source": [
        "ax = data_train.plot()\n",
        "df_prediction.plot(ax=ax, figsize=(8, 12))"
      ]
    },
    {
      "cell_type": "markdown",
      "id": "8dc1fce2",
      "metadata": {
        "id": "8dc1fce2"
      },
      "source": [
        "<h3>Visualize Prediction and Compare Actual Close Price</h3>"
      ]
    },
    {
      "cell_type": "code",
      "execution_count": null,
      "id": "c2c01e03",
      "metadata": {
        "id": "c2c01e03",
        "outputId": "bdaf6761-de16-46d4-8d28-0525beb1937a"
      },
      "outputs": [
        {
          "data": {
            "text/plain": [
              "<AxesSubplot:>"
            ]
          },
          "execution_count": 48,
          "metadata": {},
          "output_type": "execute_result"
        },
        {
          "data": {
            "image/png": "[encoded data removed]",
            "text/plain": [
              "<Figure size 576x864 with 1 Axes>"
            ]
          },
          "metadata": {
            "needs_background": "light"
          },
          "output_type": "display_data"
        }
      ],
      "source": [
        "ax = df.plot()\n",
        "df_prediction.plot(ax=ax, figsize=(8, 12))"
      ]
    },
    {
      "cell_type": "markdown",
      "id": "737bc1c8",
      "metadata": {
        "id": "737bc1c8"
      },
      "source": [
        "<h3>Time Series Forecasting with LSTM</h3></n></n><h5>Preprocess Full Input Dataset</h5>"
      ]
    },
    {
      "cell_type": "code",
      "execution_count": null,
      "id": "bf23aa8b",
      "metadata": {
        "id": "bf23aa8b"
      },
      "outputs": [],
      "source": [
        "# Using MinMaxScaler to normalize the full dataset df\n",
        "\n",
        "full_scaler = MinMaxScaler()\n",
        "normalized_full_data = full_scaler.fit_transform(df)"
      ]
    },
    {
      "cell_type": "markdown",
      "id": "69910b6f",
      "metadata": {
        "id": "69910b6f"
      },
      "source": [
        "<h3>Create TimeSeriesGenerator for Forecasting</h3>"
      ]
    },
    {
      "cell_type": "code",
      "execution_count": null,
      "id": "b51a45dd",
      "metadata": {
        "id": "b51a45dd",
        "outputId": "86cb9ad1-4721-4b79-f6ad-73626bb402c4"
      },
      "outputs": [
        {
          "data": {
            "text/plain": [
              "50"
            ]
          },
          "execution_count": 50,
          "metadata": {},
          "output_type": "execute_result"
        }
      ],
      "source": [
        "# Number of steps of the input timeseries\n",
        "\n",
        "length50"
      ]
    },
    {
      "cell_type": "code",
      "execution_count": null,
      "id": "b60dee7a",
      "metadata": {
        "id": "b60dee7a"
      },
      "outputs": [],
      "source": [
        "# Create Timeseries Generator for forecasting\n",
        "\n",
        "forecast_tsGenerator = TimeseriesGenerator(normalized_full_data, normalized_full_data, length=length50, batch_size=batch_size22)"
      ]
    },
    {
      "cell_type": "markdown",
      "id": "d8956f3d",
      "metadata": {
        "id": "d8956f3d"
      },
      "source": [
        "<h3>Build, Compile, and fit LSTM Model for Forecasting</h3>"
      ]
    },
    {
      "cell_type": "code",
      "execution_count": null,
      "id": "c26c2143",
      "metadata": {
        "id": "c26c2143",
        "outputId": "e4a1b657-3b06-4905-978f-8886d582fec1"
      },
      "outputs": [
        {
          "name": "stdout",
          "output_type": "stream",
          "text": [
            "Epoch 1/30\n"
          ]
        },
        {
          "name": "stderr",
          "output_type": "stream",
          "text": [
            "C:\\Users\\Phani\\AppData\\Local\\Temp\\ipykernel_20424\\3313768870.py:3: UserWarning: `Model.fit_generator` is deprecated and will be removed in a future version. Please use `Model.fit`, which supports generators.\n",
            "  model.fit_generator(forecast_tsGenerator, epochs = 30)\n"
          ]
        },
        {
          "name": "stdout",
          "output_type": "stream",
          "text": [
            "23/23 [==============================] - 1s 51ms/step - loss: 0.0099\n",
            "Epoch 2/30\n",
            "23/23 [==============================] - 1s 42ms/step - loss: 0.0089\n",
            "Epoch 3/30\n",
            "23/23 [==============================] - 1s 42ms/step - loss: 0.0092\n",
            "Epoch 4/30\n",
            "23/23 [==============================] - 1s 43ms/step - loss: 0.0152\n",
            "Epoch 5/30\n",
            "23/23 [==============================] - 1s 47ms/step - loss: 0.0098\n",
            "Epoch 6/30\n",
            "23/23 [==============================] - 1s 46ms/step - loss: 0.0075\n",
            "Epoch 7/30\n",
            "23/23 [==============================] - 2s 83ms/step - loss: 0.0085\n",
            "Epoch 8/30\n",
            "23/23 [==============================] - 2s 83ms/step - loss: 0.0080\n",
            "Epoch 9/30\n",
            "23/23 [==============================] - 2s 83ms/step - loss: 0.0077\n",
            "Epoch 10/30\n",
            "23/23 [==============================] - 2s 82ms/step - loss: 0.0076\n",
            "Epoch 11/30\n",
            "23/23 [==============================] - 2s 83ms/step - loss: 0.0071\n",
            "Epoch 12/30\n",
            "23/23 [==============================] - 2s 83ms/step - loss: 0.0069\n",
            "Epoch 13/30\n",
            "23/23 [==============================] - 2s 83ms/step - loss: 0.0079\n",
            "Epoch 14/30\n",
            "23/23 [==============================] - 2s 89ms/step - loss: 0.0074\n",
            "Epoch 15/30\n",
            "23/23 [==============================] - 2s 89ms/step - loss: 0.0075\n",
            "Epoch 16/30\n",
            "23/23 [==============================] - 2s 87ms/step - loss: 0.0072\n",
            "Epoch 17/30\n",
            "23/23 [==============================] - 2s 83ms/step - loss: 0.0065\n",
            "Epoch 18/30\n",
            "23/23 [==============================] - 2s 83ms/step - loss: 0.0078\n",
            "Epoch 19/30\n",
            "23/23 [==============================] - 2s 83ms/step - loss: 0.0074\n",
            "Epoch 20/30\n",
            "23/23 [==============================] - 2s 83ms/step - loss: 0.0065\n",
            "Epoch 21/30\n",
            "23/23 [==============================] - 2s 83ms/step - loss: 0.0061\n",
            "Epoch 22/30\n",
            "23/23 [==============================] - 2s 89ms/step - loss: 0.0064\n",
            "Epoch 23/30\n",
            "23/23 [==============================] - 2s 90ms/step - loss: 0.0067\n",
            "Epoch 24/30\n",
            "23/23 [==============================] - 2s 86ms/step - loss: 0.0064\n",
            "Epoch 25/30\n",
            "23/23 [==============================] - 2s 83ms/step - loss: 0.0059\n",
            "Epoch 26/30\n",
            "23/23 [==============================] - 2s 84ms/step - loss: 0.0056\n",
            "Epoch 27/30\n",
            "23/23 [==============================] - 2s 83ms/step - loss: 0.0056\n",
            "Epoch 28/30\n",
            "23/23 [==============================] - 2s 86ms/step - loss: 0.0062\n",
            "Epoch 29/30\n",
            "23/23 [==============================] - 2s 86ms/step - loss: 0.0048\n",
            "Epoch 30/30\n",
            "23/23 [==============================] - 2s 90ms/step - loss: 0.0047\n"
          ]
        },
        {
          "data": {
            "text/plain": [
              "<keras.callbacks.History at 0x1e6a0f8f3d0>"
            ]
          },
          "execution_count": 52,
          "metadata": {},
          "output_type": "execute_result"
        }
      ],
      "source": [
        "# Train/Fit LSTM Model\n",
        "\n",
        "model.fit_generator(forecast_tsGenerator, epochs = 30)"
      ]
    },
    {
      "cell_type": "markdown",
      "id": "6254b1c3",
      "metadata": {
        "id": "6254b1c3"
      },
      "source": [
        "<h3>Time Series Forecasting Using LSTM Neural Network </h3>"
      ]
    },
    {
      "cell_type": "code",
      "execution_count": null,
      "id": "5780c078",
      "metadata": {
        "id": "5780c078",
        "outputId": "ea5b5198-b482-407e-941e-0ee1d3014ac4"
      },
      "outputs": [
        {
          "name": "stdout",
          "output_type": "stream",
          "text": [
            "1/1 [==============================] - 1s 1s/step\n",
            "1/1 [==============================] - 0s 47ms/step\n",
            "1/1 [==============================] - 0s 62ms/step\n",
            "1/1 [==============================] - 0s 62ms/step\n",
            "1/1 [==============================] - 0s 78ms/step\n",
            "1/1 [==============================] - 0s 47ms/step\n",
            "1/1 [==============================] - 0s 47ms/step\n",
            "1/1 [==============================] - 0s 62ms/step\n",
            "1/1 [==============================] - 0s 62ms/step\n",
            "1/1 [==============================] - 0s 47ms/step\n",
            "1/1 [==============================] - 0s 47ms/step\n",
            "1/1 [==============================] - 0s 63ms/step\n",
            "1/1 [==============================] - 0s 47ms/step\n",
            "1/1 [==============================] - 0s 47ms/step\n",
            "1/1 [==============================] - 0s 47ms/step\n",
            "1/1 [==============================] - 0s 47ms/step\n",
            "1/1 [==============================] - 0s 47ms/step\n",
            "1/1 [==============================] - 0s 47ms/step\n",
            "1/1 [==============================] - 0s 62ms/step\n",
            "1/1 [==============================] - 0s 47ms/step\n",
            "1/1 [==============================] - 0s 62ms/step\n",
            "1/1 [==============================] - 0s 62ms/step\n",
            "1/1 [==============================] - 0s 63ms/step\n",
            "1/1 [==============================] - 0s 62ms/step\n",
            "1/1 [==============================] - 0s 47ms/step\n",
            "1/1 [==============================] - 0s 47ms/step\n",
            "1/1 [==============================] - 0s 47ms/step\n",
            "1/1 [==============================] - 0s 62ms/step\n",
            "1/1 [==============================] - 0s 47ms/step\n",
            "1/1 [==============================] - 0s 62ms/step\n"
          ]
        }
      ],
      "source": [
        "forecast = []\n",
        "\n",
        "# Set periods with the time span of forecasting\n",
        "# Let's forecast for the next 30 business days (03/01/2022-04/11/2022)\n",
        "\n",
        "periods = 30\n",
        "\n",
        "first_eval_batch = normalized_full_data[-length50:]\n",
        "current_batch = first_eval_batch.reshape((1, length50, n_features))\n",
        "\n",
        "for i in range(periods):\n",
        "\n",
        "    #get prediction 1 time stamp ahead ([0] is for grabbing just the number instead of [array])\n",
        "\n",
        "    current_pred = model.predict(current_batch)[0]\n",
        "\n",
        "    #store prediction\n",
        "\n",
        "    forecast.append(current_pred)\n",
        "\n",
        "    # update batch now include prediction and drop first value\n",
        "\n",
        "    current_batch = np.append(current_batch[:,1:,:],[[current_pred]],axis=1)"
      ]
    },
    {
      "cell_type": "markdown",
      "id": "841e390b",
      "metadata": {
        "id": "841e390b"
      },
      "source": [
        "<h3>Inverse to Transform Normalized Data Back into True Values</h3>"
      ]
    },
    {
      "cell_type": "code",
      "execution_count": null,
      "id": "bd81de97",
      "metadata": {
        "id": "bd81de97",
        "outputId": "99179d24-27a7-437a-c0fd-760613bec900"
      },
      "outputs": [
        {
          "data": {
            "text/plain": [
              "array([[134.23370597],\n",
              "       [134.14036415],\n",
              "       [133.96607379],\n",
              "       [133.73653077],\n",
              "       [133.47730604],\n",
              "       [133.20814867],\n",
              "       [132.94216661],\n",
              "       [132.6866343 ],\n",
              "       [132.44550852],\n",
              "       [132.22054108],\n",
              "       [132.01103474],\n",
              "       [131.81600467],\n",
              "       [131.63473328],\n",
              "       [131.46636649],\n",
              "       [131.30907404],\n",
              "       [131.16233594],\n",
              "       [131.02453692],\n",
              "       [130.89520635],\n",
              "       [130.77400724],\n",
              "       [130.65975139],\n",
              "       [130.55118959],\n",
              "       [130.44792966],\n",
              "       [130.34959392],\n",
              "       [130.25462523],\n",
              "       [130.16316593],\n",
              "       [130.07422538],\n",
              "       [129.98719932],\n",
              "       [129.90246249],\n",
              "       [129.81952975],\n",
              "       [129.7378927 ]])"
            ]
          },
          "execution_count": 54,
          "metadata": {},
          "output_type": "execute_result"
        }
      ],
      "source": [
        "forecast = full_scaler.inverse_transform(forecast)\n",
        "forecast"
      ]
    },
    {
      "cell_type": "code",
      "execution_count": null,
      "id": "58c49cf1",
      "metadata": {
        "id": "58c49cf1",
        "outputId": "30d3e305-eb8e-4226-f7e1-23d890c72349"
      },
      "outputs": [
        {
          "data": {
            "text/html": [
              "<div>\n",
              "<style scoped>\n",
              "    .dataframe tbody tr th:only-of-type {\n",
              "        vertical-align: middle;\n",
              "    }\n",
              "\n",
              "    .dataframe tbody tr th {\n",
              "        vertical-align: top;\n",
              "    }\n",
              "\n",
              "    .dataframe thead th {\n",
              "        text-align: right;\n",
              "    }\n",
              "</style>\n",
              "<table border=\"1\" class=\"dataframe\">\n",
              "  <thead>\n",
              "    <tr style=\"text-align: right;\">\n",
              "      <th></th>\n",
              "      <th>Close</th>\n",
              "    </tr>\n",
              "  </thead>\n",
              "  <tbody>\n",
              "    <tr>\n",
              "      <th>0</th>\n",
              "      <td>118.940002</td>\n",
              "    </tr>\n",
              "    <tr>\n",
              "      <th>1</th>\n",
              "      <td>117.889999</td>\n",
              "    </tr>\n",
              "    <tr>\n",
              "      <th>2</th>\n",
              "      <td>117.650002</td>\n",
              "    </tr>\n",
              "    <tr>\n",
              "      <th>3</th>\n",
              "      <td>116.559998</td>\n",
              "    </tr>\n",
              "    <tr>\n",
              "      <th>4</th>\n",
              "      <td>116.160004</td>\n",
              "    </tr>\n",
              "    <tr>\n",
              "      <th>...</th>\n",
              "      <td>...</td>\n",
              "    </tr>\n",
              "    <tr>\n",
              "      <th>539</th>\n",
              "      <td>136.449997</td>\n",
              "    </tr>\n",
              "    <tr>\n",
              "      <th>540</th>\n",
              "      <td>135.050003</td>\n",
              "    </tr>\n",
              "    <tr>\n",
              "      <th>541</th>\n",
              "      <td>134.529999</td>\n",
              "    </tr>\n",
              "    <tr>\n",
              "      <th>542</th>\n",
              "      <td>136.380005</td>\n",
              "    </tr>\n",
              "    <tr>\n",
              "      <th>543</th>\n",
              "      <td>135.160004</td>\n",
              "    </tr>\n",
              "  </tbody>\n",
              "</table>\n",
              "<p>544 rows × 1 columns</p>\n",
              "</div>"
            ],
            "text/plain": [
              "          Close\n",
              "0    118.940002\n",
              "1    117.889999\n",
              "2    117.650002\n",
              "3    116.559998\n",
              "4    116.160004\n",
              "..          ...\n",
              "539  136.449997\n",
              "540  135.050003\n",
              "541  134.529999\n",
              "542  136.380005\n",
              "543  135.160004\n",
              "\n",
              "[544 rows x 1 columns]"
            ]
          },
          "execution_count": 55,
          "metadata": {},
          "output_type": "execute_result"
        }
      ],
      "source": [
        "df"
      ]
    },
    {
      "cell_type": "markdown",
      "id": "00af65b5",
      "metadata": {
        "id": "00af65b5"
      },
      "source": [
        "<h3>Creating new timestamp index with pandas</h3>"
      ]
    },
    {
      "cell_type": "code",
      "execution_count": null,
      "id": "1243f085",
      "metadata": {
        "id": "1243f085"
      },
      "outputs": [],
      "source": [
        "# Calculate forecast index\n",
        "\n",
        "forecast_index = np.arange(544, 574, step=1)"
      ]
    },
    {
      "cell_type": "code",
      "execution_count": null,
      "id": "e5095be5",
      "metadata": {
        "id": "e5095be5",
        "outputId": "c8572bf7-550b-45f5-a203-624b2bd5f026"
      },
      "outputs": [
        {
          "data": {
            "text/html": [
              "<div>\n",
              "<style scoped>\n",
              "    .dataframe tbody tr th:only-of-type {\n",
              "        vertical-align: middle;\n",
              "    }\n",
              "\n",
              "    .dataframe tbody tr th {\n",
              "        vertical-align: top;\n",
              "    }\n",
              "\n",
              "    .dataframe thead th {\n",
              "        text-align: right;\n",
              "    }\n",
              "</style>\n",
              "<table border=\"1\" class=\"dataframe\">\n",
              "  <thead>\n",
              "    <tr style=\"text-align: right;\">\n",
              "      <th></th>\n",
              "      <th>Forecast</th>\n",
              "    </tr>\n",
              "  </thead>\n",
              "  <tbody>\n",
              "    <tr>\n",
              "      <th>544</th>\n",
              "      <td>134.233706</td>\n",
              "    </tr>\n",
              "    <tr>\n",
              "      <th>545</th>\n",
              "      <td>134.140364</td>\n",
              "    </tr>\n",
              "    <tr>\n",
              "      <th>546</th>\n",
              "      <td>133.966074</td>\n",
              "    </tr>\n",
              "    <tr>\n",
              "      <th>547</th>\n",
              "      <td>133.736531</td>\n",
              "    </tr>\n",
              "    <tr>\n",
              "      <th>548</th>\n",
              "      <td>133.477306</td>\n",
              "    </tr>\n",
              "    <tr>\n",
              "      <th>549</th>\n",
              "      <td>133.208149</td>\n",
              "    </tr>\n",
              "    <tr>\n",
              "      <th>550</th>\n",
              "      <td>132.942167</td>\n",
              "    </tr>\n",
              "    <tr>\n",
              "      <th>551</th>\n",
              "      <td>132.686634</td>\n",
              "    </tr>\n",
              "    <tr>\n",
              "      <th>552</th>\n",
              "      <td>132.445509</td>\n",
              "    </tr>\n",
              "    <tr>\n",
              "      <th>553</th>\n",
              "      <td>132.220541</td>\n",
              "    </tr>\n",
              "    <tr>\n",
              "      <th>554</th>\n",
              "      <td>132.011035</td>\n",
              "    </tr>\n",
              "    <tr>\n",
              "      <th>555</th>\n",
              "      <td>131.816005</td>\n",
              "    </tr>\n",
              "    <tr>\n",
              "      <th>556</th>\n",
              "      <td>131.634733</td>\n",
              "    </tr>\n",
              "    <tr>\n",
              "      <th>557</th>\n",
              "      <td>131.466366</td>\n",
              "    </tr>\n",
              "    <tr>\n",
              "      <th>558</th>\n",
              "      <td>131.309074</td>\n",
              "    </tr>\n",
              "    <tr>\n",
              "      <th>559</th>\n",
              "      <td>131.162336</td>\n",
              "    </tr>\n",
              "    <tr>\n",
              "      <th>560</th>\n",
              "      <td>131.024537</td>\n",
              "    </tr>\n",
              "    <tr>\n",
              "      <th>561</th>\n",
              "      <td>130.895206</td>\n",
              "    </tr>\n",
              "    <tr>\n",
              "      <th>562</th>\n",
              "      <td>130.774007</td>\n",
              "    </tr>\n",
              "    <tr>\n",
              "      <th>563</th>\n",
              "      <td>130.659751</td>\n",
              "    </tr>\n",
              "    <tr>\n",
              "      <th>564</th>\n",
              "      <td>130.551190</td>\n",
              "    </tr>\n",
              "    <tr>\n",
              "      <th>565</th>\n",
              "      <td>130.447930</td>\n",
              "    </tr>\n",
              "    <tr>\n",
              "      <th>566</th>\n",
              "      <td>130.349594</td>\n",
              "    </tr>\n",
              "    <tr>\n",
              "      <th>567</th>\n",
              "      <td>130.254625</td>\n",
              "    </tr>\n",
              "    <tr>\n",
              "      <th>568</th>\n",
              "      <td>130.163166</td>\n",
              "    </tr>\n",
              "    <tr>\n",
              "      <th>569</th>\n",
              "      <td>130.074225</td>\n",
              "    </tr>\n",
              "    <tr>\n",
              "      <th>570</th>\n",
              "      <td>129.987199</td>\n",
              "    </tr>\n",
              "    <tr>\n",
              "      <th>571</th>\n",
              "      <td>129.902462</td>\n",
              "    </tr>\n",
              "    <tr>\n",
              "      <th>572</th>\n",
              "      <td>129.819530</td>\n",
              "    </tr>\n",
              "    <tr>\n",
              "      <th>573</th>\n",
              "      <td>129.737893</td>\n",
              "    </tr>\n",
              "  </tbody>\n",
              "</table>\n",
              "</div>"
            ],
            "text/plain": [
              "       Forecast\n",
              "544  134.233706\n",
              "545  134.140364\n",
              "546  133.966074\n",
              "547  133.736531\n",
              "548  133.477306\n",
              "549  133.208149\n",
              "550  132.942167\n",
              "551  132.686634\n",
              "552  132.445509\n",
              "553  132.220541\n",
              "554  132.011035\n",
              "555  131.816005\n",
              "556  131.634733\n",
              "557  131.466366\n",
              "558  131.309074\n",
              "559  131.162336\n",
              "560  131.024537\n",
              "561  130.895206\n",
              "562  130.774007\n",
              "563  130.659751\n",
              "564  130.551190\n",
              "565  130.447930\n",
              "566  130.349594\n",
              "567  130.254625\n",
              "568  130.163166\n",
              "569  130.074225\n",
              "570  129.987199\n",
              "571  129.902462\n",
              "572  129.819530\n",
              "573  129.737893"
            ]
          },
          "execution_count": 57,
          "metadata": {},
          "output_type": "execute_result"
        }
      ],
      "source": [
        "forecast_df = pd.DataFrame(data=forecast,index=forecast_index, columns=['Forecast'])\n",
        "forecast_df"
      ]
    },
    {
      "cell_type": "markdown",
      "id": "d118233d",
      "metadata": {
        "id": "d118233d"
      },
      "source": [
        "<h3>Plot the Forecast</h3>"
      ]
    },
    {
      "cell_type": "code",
      "execution_count": null,
      "id": "2e111122",
      "metadata": {
        "id": "2e111122",
        "outputId": "8ff83e25-4f63-4c39-d6be-042a23ca1085"
      },
      "outputs": [
        {
          "data": {
            "text/plain": [
              "<AxesSubplot:>"
            ]
          },
          "execution_count": 58,
          "metadata": {},
          "output_type": "execute_result"
        },
        {
          "data": {
            "image/png": "[encoded data removed]",
            "text/plain": [
              "<Figure size 432x288 with 1 Axes>"
            ]
          },
          "metadata": {
            "needs_background": "light"
          },
          "output_type": "display_data"
        },
        {
          "data": {
            "image/png": "[encoded data removed]",
            "text/plain": [
              "<Figure size 432x288 with 1 Axes>"
            ]
          },
          "metadata": {
            "needs_background": "light"
          },
          "output_type": "display_data"
        }
      ],
      "source": [
        "df.plot()\n",
        "forecast_df.plot()"
      ]
    },
    {
      "cell_type": "markdown",
      "id": "a21e8b71",
      "metadata": {
        "id": "a21e8b71"
      },
      "source": [
        "<h3>Joining Pandas Plots</h3>"
      ]
    },
    {
      "cell_type": "code",
      "execution_count": null,
      "id": "62d77f43",
      "metadata": {
        "id": "62d77f43",
        "outputId": "cf8d4905-1622-4d3c-d8c5-ea181e91b8ab"
      },
      "outputs": [
        {
          "data": {
            "text/plain": [
              "<AxesSubplot:>"
            ]
          },
          "execution_count": 59,
          "metadata": {},
          "output_type": "execute_result"
        },
        {
          "data": {
            "image/png": "[encoded data removed]",
            "text/plain": [
              "<Figure size 864x576 with 1 Axes>"
            ]
          },
          "metadata": {
            "needs_background": "light"
          },
          "output_type": "display_data"
        }
      ],
      "source": [
        "ax = df.plot()\n",
        "forecast_df.plot(ax=ax, figsize=(12, 8))"
      ]
    },
    {
      "cell_type": "code",
      "execution_count": null,
      "id": "2e6ef640",
      "metadata": {
        "id": "2e6ef640"
      },
      "outputs": [],
      "source": [
        "# Selecting the dataset (actual close price)\n",
        "dir_path_dataset_2 = 'D:\\Downloads\\WMT-03012020-04112022.csv'"
      ]
    },
    {
      "cell_type": "code",
      "execution_count": null,
      "id": "7d42313b",
      "metadata": {
        "id": "7d42313b"
      },
      "outputs": [],
      "source": [
        "# Creating a dataframe called df_ALL_MAR_APR_2022\n",
        "df_ALL_MAR_APR_2022 = pd.read_csv(dir_path_dataset_2)"
      ]
    },
    {
      "cell_type": "code",
      "execution_count": null,
      "id": "748057ec",
      "metadata": {
        "id": "748057ec",
        "outputId": "80b88b79-6417-424f-d670-144f4e4befb6"
      },
      "outputs": [
        {
          "data": {
            "text/html": [
              "<div>\n",
              "<style scoped>\n",
              "    .dataframe tbody tr th:only-of-type {\n",
              "        vertical-align: middle;\n",
              "    }\n",
              "\n",
              "    .dataframe tbody tr th {\n",
              "        vertical-align: top;\n",
              "    }\n",
              "\n",
              "    .dataframe thead th {\n",
              "        text-align: right;\n",
              "    }\n",
              "</style>\n",
              "<table border=\"1\" class=\"dataframe\">\n",
              "  <thead>\n",
              "    <tr style=\"text-align: right;\">\n",
              "      <th></th>\n",
              "      <th>Date</th>\n",
              "      <th>Open</th>\n",
              "      <th>High</th>\n",
              "      <th>Low</th>\n",
              "      <th>Close</th>\n",
              "      <th>Adj Close</th>\n",
              "      <th>Volume</th>\n",
              "    </tr>\n",
              "  </thead>\n",
              "  <tbody>\n",
              "    <tr>\n",
              "      <th>0</th>\n",
              "      <td>3/1/2022</td>\n",
              "      <td>135.869995</td>\n",
              "      <td>137.889999</td>\n",
              "      <td>135.020004</td>\n",
              "      <td>135.990005</td>\n",
              "      <td>133.338913</td>\n",
              "      <td>8008300</td>\n",
              "    </tr>\n",
              "    <tr>\n",
              "      <th>1</th>\n",
              "      <td>3/2/2022</td>\n",
              "      <td>135.660004</td>\n",
              "      <td>136.830002</td>\n",
              "      <td>135.179993</td>\n",
              "      <td>136.160004</td>\n",
              "      <td>133.505585</td>\n",
              "      <td>7954600</td>\n",
              "    </tr>\n",
              "    <tr>\n",
              "      <th>2</th>\n",
              "      <td>3/3/2022</td>\n",
              "      <td>137.289993</td>\n",
              "      <td>140.470001</td>\n",
              "      <td>136.550003</td>\n",
              "      <td>139.289993</td>\n",
              "      <td>136.574570</td>\n",
              "      <td>9961700</td>\n",
              "    </tr>\n",
              "    <tr>\n",
              "      <th>3</th>\n",
              "      <td>3/4/2022</td>\n",
              "      <td>137.809998</td>\n",
              "      <td>142.940002</td>\n",
              "      <td>137.589996</td>\n",
              "      <td>142.820007</td>\n",
              "      <td>140.035751</td>\n",
              "      <td>11858800</td>\n",
              "    </tr>\n",
              "    <tr>\n",
              "      <th>4</th>\n",
              "      <td>3/7/2022</td>\n",
              "      <td>141.300003</td>\n",
              "      <td>143.630005</td>\n",
              "      <td>140.449997</td>\n",
              "      <td>141.669998</td>\n",
              "      <td>138.908173</td>\n",
              "      <td>15290000</td>\n",
              "    </tr>\n",
              "  </tbody>\n",
              "</table>\n",
              "</div>"
            ],
            "text/plain": [
              "       Date        Open        High         Low       Close   Adj Close  \\\n",
              "0  3/1/2022  135.869995  137.889999  135.020004  135.990005  133.338913   \n",
              "1  3/2/2022  135.660004  136.830002  135.179993  136.160004  133.505585   \n",
              "2  3/3/2022  137.289993  140.470001  136.550003  139.289993  136.574570   \n",
              "3  3/4/2022  137.809998  142.940002  137.589996  142.820007  140.035751   \n",
              "4  3/7/2022  141.300003  143.630005  140.449997  141.669998  138.908173   \n",
              "\n",
              "     Volume  \n",
              "0   8008300  \n",
              "1   7954600  \n",
              "2   9961700  \n",
              "3  11858800  \n",
              "4  15290000  "
            ]
          },
          "execution_count": 62,
          "metadata": {},
          "output_type": "execute_result"
        }
      ],
      "source": [
        "# Print the first 5 rows of the dataframe\n",
        "df_ALL_MAR_APR_2022.head()"
      ]
    },
    {
      "cell_type": "code",
      "execution_count": null,
      "id": "b83e9a69",
      "metadata": {
        "id": "b83e9a69",
        "outputId": "b15b6d5f-d7a0-4d5f-c793-bf1b45b48e14"
      },
      "outputs": [
        {
          "data": {
            "text/html": [
              "<div>\n",
              "<style scoped>\n",
              "    .dataframe tbody tr th:only-of-type {\n",
              "        vertical-align: middle;\n",
              "    }\n",
              "\n",
              "    .dataframe tbody tr th {\n",
              "        vertical-align: top;\n",
              "    }\n",
              "\n",
              "    .dataframe thead th {\n",
              "        text-align: right;\n",
              "    }\n",
              "</style>\n",
              "<table border=\"1\" class=\"dataframe\">\n",
              "  <thead>\n",
              "    <tr style=\"text-align: right;\">\n",
              "      <th></th>\n",
              "      <th>Close</th>\n",
              "    </tr>\n",
              "  </thead>\n",
              "  <tbody>\n",
              "    <tr>\n",
              "      <th>0</th>\n",
              "      <td>135.990005</td>\n",
              "    </tr>\n",
              "    <tr>\n",
              "      <th>1</th>\n",
              "      <td>136.160004</td>\n",
              "    </tr>\n",
              "    <tr>\n",
              "      <th>2</th>\n",
              "      <td>139.289993</td>\n",
              "    </tr>\n",
              "    <tr>\n",
              "      <th>3</th>\n",
              "      <td>142.820007</td>\n",
              "    </tr>\n",
              "    <tr>\n",
              "      <th>4</th>\n",
              "      <td>141.669998</td>\n",
              "    </tr>\n",
              "    <tr>\n",
              "      <th>5</th>\n",
              "      <td>138.740005</td>\n",
              "    </tr>\n",
              "    <tr>\n",
              "      <th>6</th>\n",
              "      <td>139.460007</td>\n",
              "    </tr>\n",
              "    <tr>\n",
              "      <th>7</th>\n",
              "      <td>142.630005</td>\n",
              "    </tr>\n",
              "    <tr>\n",
              "      <th>8</th>\n",
              "      <td>142.070007</td>\n",
              "    </tr>\n",
              "    <tr>\n",
              "      <th>9</th>\n",
              "      <td>144.050003</td>\n",
              "    </tr>\n",
              "    <tr>\n",
              "      <th>10</th>\n",
              "      <td>145.779999</td>\n",
              "    </tr>\n",
              "    <tr>\n",
              "      <th>11</th>\n",
              "      <td>145.350006</td>\n",
              "    </tr>\n",
              "    <tr>\n",
              "      <th>12</th>\n",
              "      <td>145.009995</td>\n",
              "    </tr>\n",
              "    <tr>\n",
              "      <th>13</th>\n",
              "      <td>145.440002</td>\n",
              "    </tr>\n",
              "    <tr>\n",
              "      <th>14</th>\n",
              "      <td>144.229996</td>\n",
              "    </tr>\n",
              "    <tr>\n",
              "      <th>15</th>\n",
              "      <td>143.800003</td>\n",
              "    </tr>\n",
              "    <tr>\n",
              "      <th>16</th>\n",
              "      <td>141.949997</td>\n",
              "    </tr>\n",
              "    <tr>\n",
              "      <th>17</th>\n",
              "      <td>142.830002</td>\n",
              "    </tr>\n",
              "    <tr>\n",
              "      <th>18</th>\n",
              "      <td>143.449997</td>\n",
              "    </tr>\n",
              "    <tr>\n",
              "      <th>19</th>\n",
              "      <td>146.000000</td>\n",
              "    </tr>\n",
              "    <tr>\n",
              "      <th>20</th>\n",
              "      <td>147.229996</td>\n",
              "    </tr>\n",
              "    <tr>\n",
              "      <th>21</th>\n",
              "      <td>149.869995</td>\n",
              "    </tr>\n",
              "    <tr>\n",
              "      <th>22</th>\n",
              "      <td>148.919998</td>\n",
              "    </tr>\n",
              "    <tr>\n",
              "      <th>23</th>\n",
              "      <td>151.009995</td>\n",
              "    </tr>\n",
              "    <tr>\n",
              "      <th>24</th>\n",
              "      <td>151.039993</td>\n",
              "    </tr>\n",
              "    <tr>\n",
              "      <th>25</th>\n",
              "      <td>151.470001</td>\n",
              "    </tr>\n",
              "    <tr>\n",
              "      <th>26</th>\n",
              "      <td>154.990005</td>\n",
              "    </tr>\n",
              "    <tr>\n",
              "      <th>27</th>\n",
              "      <td>156.539993</td>\n",
              "    </tr>\n",
              "    <tr>\n",
              "      <th>28</th>\n",
              "      <td>157.410004</td>\n",
              "    </tr>\n",
              "    <tr>\n",
              "      <th>29</th>\n",
              "      <td>154.289993</td>\n",
              "    </tr>\n",
              "  </tbody>\n",
              "</table>\n",
              "</div>"
            ],
            "text/plain": [
              "         Close\n",
              "0   135.990005\n",
              "1   136.160004\n",
              "2   139.289993\n",
              "3   142.820007\n",
              "4   141.669998\n",
              "5   138.740005\n",
              "6   139.460007\n",
              "7   142.630005\n",
              "8   142.070007\n",
              "9   144.050003\n",
              "10  145.779999\n",
              "11  145.350006\n",
              "12  145.009995\n",
              "13  145.440002\n",
              "14  144.229996\n",
              "15  143.800003\n",
              "16  141.949997\n",
              "17  142.830002\n",
              "18  143.449997\n",
              "19  146.000000\n",
              "20  147.229996\n",
              "21  149.869995\n",
              "22  148.919998\n",
              "23  151.009995\n",
              "24  151.039993\n",
              "25  151.470001\n",
              "26  154.990005\n",
              "27  156.539993\n",
              "28  157.410004\n",
              "29  154.289993"
            ]
          },
          "execution_count": 63,
          "metadata": {},
          "output_type": "execute_result"
        }
      ],
      "source": [
        "df_ALL_MAR_APR_2022 = df_ALL_MAR_APR_2022.iloc[:,4:5]\n",
        "df_ALL_MAR_APR_2022"
      ]
    },
    {
      "cell_type": "code",
      "execution_count": null,
      "id": "91066d54",
      "metadata": {
        "id": "91066d54",
        "outputId": "c7839c14-c919-4acd-a540-ab85cf6b8726"
      },
      "outputs": [
        {
          "data": {
            "text/plain": [
              "<AxesSubplot:>"
            ]
          },
          "execution_count": 64,
          "metadata": {},
          "output_type": "execute_result"
        },
        {
          "data": {
            "image/png": "[encoded data removed]",
            "text/plain": [
              "<Figure size 432x288 with 1 Axes>"
            ]
          },
          "metadata": {
            "needs_background": "light"
          },
          "output_type": "display_data"
        }
      ],
      "source": [
        "# Plot stock close values\n",
        "df_ALL_MAR_APR_2022.plot()"
      ]
    },
    {
      "cell_type": "code",
      "execution_count": null,
      "id": "ea36c757",
      "metadata": {
        "id": "ea36c757",
        "outputId": "4a205a62-e85b-4252-a97c-7afb517f5442"
      },
      "outputs": [
        {
          "data": {
            "text/plain": [
              "array([134.23370597, 134.14036415, 133.96607379, 133.73653077,\n",
              "       133.47730604, 133.20814867, 132.94216661, 132.6866343 ,\n",
              "       132.44550852, 132.22054108, 132.01103474, 131.81600467,\n",
              "       131.63473328, 131.46636649, 131.30907404, 131.16233594,\n",
              "       131.02453692, 130.89520635, 130.77400724, 130.65975139,\n",
              "       130.55118959, 130.44792966, 130.34959392, 130.25462523,\n",
              "       130.16316593, 130.07422538, 129.98719932, 129.90246249,\n",
              "       129.81952975, 129.7378927 ])"
            ]
          },
          "execution_count": 65,
          "metadata": {},
          "output_type": "execute_result"
        }
      ],
      "source": [
        "forecast_df['Forecast'].values"
      ]
    },
    {
      "cell_type": "code",
      "execution_count": null,
      "id": "bc65bd58",
      "metadata": {
        "id": "bc65bd58",
        "outputId": "4854f210-d0dc-4d8c-a6cf-cf5cb18eb18b"
      },
      "outputs": [
        {
          "data": {
            "text/html": [
              "<div>\n",
              "<style scoped>\n",
              "    .dataframe tbody tr th:only-of-type {\n",
              "        vertical-align: middle;\n",
              "    }\n",
              "\n",
              "    .dataframe tbody tr th {\n",
              "        vertical-align: top;\n",
              "    }\n",
              "\n",
              "    .dataframe thead th {\n",
              "        text-align: right;\n",
              "    }\n",
              "</style>\n",
              "<table border=\"1\" class=\"dataframe\">\n",
              "  <thead>\n",
              "    <tr style=\"text-align: right;\">\n",
              "      <th></th>\n",
              "      <th>Close</th>\n",
              "      <th>Forecast</th>\n",
              "    </tr>\n",
              "  </thead>\n",
              "  <tbody>\n",
              "    <tr>\n",
              "      <th>0</th>\n",
              "      <td>135.990005</td>\n",
              "      <td>134.233706</td>\n",
              "    </tr>\n",
              "    <tr>\n",
              "      <th>1</th>\n",
              "      <td>136.160004</td>\n",
              "      <td>134.140364</td>\n",
              "    </tr>\n",
              "    <tr>\n",
              "      <th>2</th>\n",
              "      <td>139.289993</td>\n",
              "      <td>133.966074</td>\n",
              "    </tr>\n",
              "    <tr>\n",
              "      <th>3</th>\n",
              "      <td>142.820007</td>\n",
              "      <td>133.736531</td>\n",
              "    </tr>\n",
              "    <tr>\n",
              "      <th>4</th>\n",
              "      <td>141.669998</td>\n",
              "      <td>133.477306</td>\n",
              "    </tr>\n",
              "    <tr>\n",
              "      <th>5</th>\n",
              "      <td>138.740005</td>\n",
              "      <td>133.208149</td>\n",
              "    </tr>\n",
              "    <tr>\n",
              "      <th>6</th>\n",
              "      <td>139.460007</td>\n",
              "      <td>132.942167</td>\n",
              "    </tr>\n",
              "    <tr>\n",
              "      <th>7</th>\n",
              "      <td>142.630005</td>\n",
              "      <td>132.686634</td>\n",
              "    </tr>\n",
              "    <tr>\n",
              "      <th>8</th>\n",
              "      <td>142.070007</td>\n",
              "      <td>132.445509</td>\n",
              "    </tr>\n",
              "    <tr>\n",
              "      <th>9</th>\n",
              "      <td>144.050003</td>\n",
              "      <td>132.220541</td>\n",
              "    </tr>\n",
              "    <tr>\n",
              "      <th>10</th>\n",
              "      <td>145.779999</td>\n",
              "      <td>132.011035</td>\n",
              "    </tr>\n",
              "    <tr>\n",
              "      <th>11</th>\n",
              "      <td>145.350006</td>\n",
              "      <td>131.816005</td>\n",
              "    </tr>\n",
              "    <tr>\n",
              "      <th>12</th>\n",
              "      <td>145.009995</td>\n",
              "      <td>131.634733</td>\n",
              "    </tr>\n",
              "    <tr>\n",
              "      <th>13</th>\n",
              "      <td>145.440002</td>\n",
              "      <td>131.466366</td>\n",
              "    </tr>\n",
              "    <tr>\n",
              "      <th>14</th>\n",
              "      <td>144.229996</td>\n",
              "      <td>131.309074</td>\n",
              "    </tr>\n",
              "    <tr>\n",
              "      <th>15</th>\n",
              "      <td>143.800003</td>\n",
              "      <td>131.162336</td>\n",
              "    </tr>\n",
              "    <tr>\n",
              "      <th>16</th>\n",
              "      <td>141.949997</td>\n",
              "      <td>131.024537</td>\n",
              "    </tr>\n",
              "    <tr>\n",
              "      <th>17</th>\n",
              "      <td>142.830002</td>\n",
              "      <td>130.895206</td>\n",
              "    </tr>\n",
              "    <tr>\n",
              "      <th>18</th>\n",
              "      <td>143.449997</td>\n",
              "      <td>130.774007</td>\n",
              "    </tr>\n",
              "    <tr>\n",
              "      <th>19</th>\n",
              "      <td>146.000000</td>\n",
              "      <td>130.659751</td>\n",
              "    </tr>\n",
              "    <tr>\n",
              "      <th>20</th>\n",
              "      <td>147.229996</td>\n",
              "      <td>130.551190</td>\n",
              "    </tr>\n",
              "    <tr>\n",
              "      <th>21</th>\n",
              "      <td>149.869995</td>\n",
              "      <td>130.447930</td>\n",
              "    </tr>\n",
              "    <tr>\n",
              "      <th>22</th>\n",
              "      <td>148.919998</td>\n",
              "      <td>130.349594</td>\n",
              "    </tr>\n",
              "    <tr>\n",
              "      <th>23</th>\n",
              "      <td>151.009995</td>\n",
              "      <td>130.254625</td>\n",
              "    </tr>\n",
              "    <tr>\n",
              "      <th>24</th>\n",
              "      <td>151.039993</td>\n",
              "      <td>130.163166</td>\n",
              "    </tr>\n",
              "    <tr>\n",
              "      <th>25</th>\n",
              "      <td>151.470001</td>\n",
              "      <td>130.074225</td>\n",
              "    </tr>\n",
              "    <tr>\n",
              "      <th>26</th>\n",
              "      <td>154.990005</td>\n",
              "      <td>129.987199</td>\n",
              "    </tr>\n",
              "    <tr>\n",
              "      <th>27</th>\n",
              "      <td>156.539993</td>\n",
              "      <td>129.902462</td>\n",
              "    </tr>\n",
              "    <tr>\n",
              "      <th>28</th>\n",
              "      <td>157.410004</td>\n",
              "      <td>129.819530</td>\n",
              "    </tr>\n",
              "    <tr>\n",
              "      <th>29</th>\n",
              "      <td>154.289993</td>\n",
              "      <td>129.737893</td>\n",
              "    </tr>\n",
              "  </tbody>\n",
              "</table>\n",
              "</div>"
            ],
            "text/plain": [
              "         Close    Forecast\n",
              "0   135.990005  134.233706\n",
              "1   136.160004  134.140364\n",
              "2   139.289993  133.966074\n",
              "3   142.820007  133.736531\n",
              "4   141.669998  133.477306\n",
              "5   138.740005  133.208149\n",
              "6   139.460007  132.942167\n",
              "7   142.630005  132.686634\n",
              "8   142.070007  132.445509\n",
              "9   144.050003  132.220541\n",
              "10  145.779999  132.011035\n",
              "11  145.350006  131.816005\n",
              "12  145.009995  131.634733\n",
              "13  145.440002  131.466366\n",
              "14  144.229996  131.309074\n",
              "15  143.800003  131.162336\n",
              "16  141.949997  131.024537\n",
              "17  142.830002  130.895206\n",
              "18  143.449997  130.774007\n",
              "19  146.000000  130.659751\n",
              "20  147.229996  130.551190\n",
              "21  149.869995  130.447930\n",
              "22  148.919998  130.349594\n",
              "23  151.009995  130.254625\n",
              "24  151.039993  130.163166\n",
              "25  151.470001  130.074225\n",
              "26  154.990005  129.987199\n",
              "27  156.539993  129.902462\n",
              "28  157.410004  129.819530\n",
              "29  154.289993  129.737893"
            ]
          },
          "execution_count": 66,
          "metadata": {},
          "output_type": "execute_result"
        }
      ],
      "source": [
        "df_ALL_MAR_APR_2022['Forecast'] = forecast_df['Forecast'].values\n",
        "df_ALL_MAR_APR_2022"
      ]
    },
    {
      "cell_type": "code",
      "execution_count": null,
      "id": "9512bae7",
      "metadata": {
        "id": "9512bae7",
        "outputId": "084aeb3b-0f13-4b37-d631-0107f8e839a0"
      },
      "outputs": [
        {
          "data": {
            "text/plain": [
              "<AxesSubplot:>"
            ]
          },
          "execution_count": 67,
          "metadata": {},
          "output_type": "execute_result"
        },
        {
          "data": {
            "image/png": "[encoded data removed]",
            "text/plain": [
              "<Figure size 432x288 with 1 Axes>"
            ]
          },
          "metadata": {
            "needs_background": "light"
          },
          "output_type": "display_data"
        }
      ],
      "source": [
        "# Plot Actual Close and Forecast\n",
        "df_ALL_MAR_APR_2022.plot()"
      ]
    },
    {
      "cell_type": "code",
      "execution_count": null,
      "id": "e97f5d3f",
      "metadata": {
        "id": "e97f5d3f"
      },
      "outputs": [],
      "source": [
        "Vipin Katakam"
      ]
    }
  ],
  "metadata": {
    "kernelspec": {
      "display_name": "Python 3 (ipykernel)",
      "language": "python",
      "name": "python3"
    },
    "language_info": {
      "codemirror_mode": {
        "name": "ipython",
        "version": 3
      },
      "file_extension": ".py",
      "mimetype": "text/x-python",
      "name": "python",
      "nbconvert_exporter": "python",
      "pygments_lexer": "ipython3",
      "version": "3.9.13"
    },
    "colab": {
      "provenance": []
    }
  },
  "nbformat": 4,
  "nbformat_minor": 5
}